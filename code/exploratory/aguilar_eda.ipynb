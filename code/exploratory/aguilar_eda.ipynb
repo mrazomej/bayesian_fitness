{
 "cells": [
  {
   "attachments": {},
   "cell_type": "markdown",
   "metadata": {},
   "source": [
    "(c) 2023 Manuel Razo. This work is licensed under a [Creative Commons\n",
    "Attribution License CC-BY 4.0](https://creativecommons.org/licenses/by/4.0/).\n",
    "All code contained herein is licensed under an [MIT\n",
    "license](https://opensource.org/licenses/MIT)."
   ]
  },
  {
   "cell_type": "code",
   "execution_count": 1,
   "metadata": {},
   "outputs": [],
   "source": [
    "# Load project package\n",
    "@load_pkg BayesFitUtils\n",
    "\n",
    "# Import project package\n",
    "import BayesFitUtils\n",
    "\n",
    "# Import Bayesia Fitness inference library\n",
    "import BarBay\n",
    "\n",
    "# Import package to handle DataFrames\n",
    "import DataFrames as DF\n",
    "import CSV\n",
    "\n",
    "# Import basic statistical functions\n",
    "import StatsBase\n",
    "import Distributions\n",
    "\n",
    "# Load CairoMakie for plotting\n",
    "using CairoMakie\n",
    "import ColorSchemes\n",
    "import Makie\n",
    "# Activate backend\n",
    "CairoMakie.activate!()\n",
    "\n",
    "# Set PBoC Plotting style\n",
    "BayesFitUtils.viz.pboc_makie!()"
   ]
  },
  {
   "attachments": {},
   "cell_type": "markdown",
   "metadata": {},
   "source": [
    "# Aguilar 2023 exploratory data analysis"
   ]
  },
  {
   "attachments": {},
   "cell_type": "markdown",
   "metadata": {},
   "source": [
    "To process the Aguilar's data, let's first explore the structure of the dataset.\n",
    "\n",
    "First, we need to load the data into memory."
   ]
  },
  {
   "cell_type": "code",
   "execution_count": 4,
   "metadata": {},
   "outputs": [
    {
     "data": {
      "text/html": [
       "<div><div style = \"float: left;\"><span>5×8 DataFrame</span></div><div style = \"clear: both;\"></div></div><div class = \"data-frame\" style = \"overflow-x: scroll;\"><table class = \"data-frame\" style = \"margin-bottom: 6px;\"><thead><tr class = \"header\"><th class = \"rowNumber\" style = \"font-weight: bold; text-align: right;\">Row</th><th style = \"text-align: left;\">oligo</th><th style = \"text-align: left;\">barcode</th><th style = \"text-align: left;\">edit</th><th style = \"text-align: left;\">condition</th><th style = \"text-align: left;\">timepoint</th><th style = \"text-align: left;\">replicate</th><th style = \"text-align: left;\">counts</th><th style = \"text-align: left;\">neutral</th></tr><tr class = \"subheader headerLastRow\"><th class = \"rowNumber\" style = \"font-weight: bold; text-align: right;\"></th><th title = \"String\" style = \"text-align: left;\">String</th><th title = \"InlineStrings.String31\" style = \"text-align: left;\">String31</th><th title = \"InlineStrings.String31\" style = \"text-align: left;\">String31</th><th title = \"InlineStrings.String15\" style = \"text-align: left;\">String15</th><th title = \"InlineStrings.String3\" style = \"text-align: left;\">String3</th><th title = \"InlineStrings.String7\" style = \"text-align: left;\">String7</th><th title = \"Int64\" style = \"text-align: left;\">Int64</th><th title = \"Int64\" style = \"text-align: left;\">Int64</th></tr></thead><tbody><tr><td class = \"rowNumber\" style = \"font-weight: bold; text-align: right;\">1</td><td style = \"text-align: left;\">0#LADDER</td><td style = \"text-align: left;\">TCCATCTAACCGCACAACTG</td><td style = \"text-align: left;\">SNP_1_LADDER</td><td style = \"text-align: left;\">M3.SL.2D</td><td style = \"text-align: left;\">T1</td><td style = \"text-align: left;\">Rep1</td><td style = \"text-align: right;\">2</td><td style = \"text-align: right;\">0</td></tr><tr><td class = \"rowNumber\" style = \"font-weight: bold; text-align: right;\">2</td><td style = \"text-align: left;\">0#LADDER</td><td style = \"text-align: left;\">TCCATCTAACCGCACAACTG</td><td style = \"text-align: left;\">SNP_1_LADDER</td><td style = \"text-align: left;\">M3.SL.2D</td><td style = \"text-align: left;\">T1</td><td style = \"text-align: left;\">Rep2</td><td style = \"text-align: right;\">3</td><td style = \"text-align: right;\">0</td></tr><tr><td class = \"rowNumber\" style = \"font-weight: bold; text-align: right;\">3</td><td style = \"text-align: left;\">0#LADDER</td><td style = \"text-align: left;\">TCCATCTAACCGCACAACTG</td><td style = \"text-align: left;\">SNP_1_LADDER</td><td style = \"text-align: left;\">M3.SL.2D</td><td style = \"text-align: left;\">T1</td><td style = \"text-align: left;\">Rep3</td><td style = \"text-align: right;\">3</td><td style = \"text-align: right;\">0</td></tr><tr><td class = \"rowNumber\" style = \"font-weight: bold; text-align: right;\">4</td><td style = \"text-align: left;\">0#LADDER</td><td style = \"text-align: left;\">TCCATCTAACCGCACAACTG</td><td style = \"text-align: left;\">SNP_1_LADDER</td><td style = \"text-align: left;\">M3.SL.2D</td><td style = \"text-align: left;\">T2</td><td style = \"text-align: left;\">Rep1</td><td style = \"text-align: right;\">0</td><td style = \"text-align: right;\">0</td></tr><tr><td class = \"rowNumber\" style = \"font-weight: bold; text-align: right;\">5</td><td style = \"text-align: left;\">0#LADDER</td><td style = \"text-align: left;\">TCCATCTAACCGCACAACTG</td><td style = \"text-align: left;\">SNP_1_LADDER</td><td style = \"text-align: left;\">M3.SL.2D</td><td style = \"text-align: left;\">T2</td><td style = \"text-align: left;\">Rep2</td><td style = \"text-align: right;\">2</td><td style = \"text-align: right;\">0</td></tr></tbody></table></div>"
      ],
      "text/latex": [
       "\\begin{tabular}{r|cccccccc}\n",
       "\t& oligo & barcode & edit & condition & timepoint & replicate & counts & \\\\\n",
       "\t\\hline\n",
       "\t& String & String31 & String31 & String15 & String3 & String7 & Int64 & \\\\\n",
       "\t\\hline\n",
       "\t1 & 0\\#LADDER & TCCATCTAACCGCACAACTG & SNP\\_1\\_LADDER & M3.SL.2D & T1 & Rep1 & 2 & $\\dots$ \\\\\n",
       "\t2 & 0\\#LADDER & TCCATCTAACCGCACAACTG & SNP\\_1\\_LADDER & M3.SL.2D & T1 & Rep2 & 3 & $\\dots$ \\\\\n",
       "\t3 & 0\\#LADDER & TCCATCTAACCGCACAACTG & SNP\\_1\\_LADDER & M3.SL.2D & T1 & Rep3 & 3 & $\\dots$ \\\\\n",
       "\t4 & 0\\#LADDER & TCCATCTAACCGCACAACTG & SNP\\_1\\_LADDER & M3.SL.2D & T2 & Rep1 & 0 & $\\dots$ \\\\\n",
       "\t5 & 0\\#LADDER & TCCATCTAACCGCACAACTG & SNP\\_1\\_LADDER & M3.SL.2D & T2 & Rep2 & 2 & $\\dots$ \\\\\n",
       "\\end{tabular}\n"
      ],
      "text/plain": [
       "\u001b[1m5×8 DataFrame\u001b[0m\n",
       "\u001b[1m Row \u001b[0m│\u001b[1m oligo    \u001b[0m\u001b[1m barcode              \u001b[0m\u001b[1m edit         \u001b[0m\u001b[1m condition \u001b[0m\u001b[1m timepoint \u001b[0m\u001b[1m rep\u001b[0m ⋯\n",
       "     │\u001b[90m String   \u001b[0m\u001b[90m String31             \u001b[0m\u001b[90m String31     \u001b[0m\u001b[90m String15  \u001b[0m\u001b[90m String3   \u001b[0m\u001b[90m Str\u001b[0m ⋯\n",
       "─────┼──────────────────────────────────────────────────────────────────────────\n",
       "   1 │ 0#LADDER  TCCATCTAACCGCACAACTG  SNP_1_LADDER  M3.SL.2D   T1         Rep ⋯\n",
       "   2 │ 0#LADDER  TCCATCTAACCGCACAACTG  SNP_1_LADDER  M3.SL.2D   T1         Rep\n",
       "   3 │ 0#LADDER  TCCATCTAACCGCACAACTG  SNP_1_LADDER  M3.SL.2D   T1         Rep\n",
       "   4 │ 0#LADDER  TCCATCTAACCGCACAACTG  SNP_1_LADDER  M3.SL.2D   T2         Rep\n",
       "   5 │ 0#LADDER  TCCATCTAACCGCACAACTG  SNP_1_LADDER  M3.SL.2D   T2         Rep ⋯\n",
       "\u001b[36m                                                               3 columns omitted\u001b[0m"
      ]
     },
     "metadata": {},
     "output_type": "display_data"
    }
   ],
   "source": [
    "# Load data into memory\n",
    "data = CSV.read(\n",
    "    \"$(git_root())/data/aguilar_2023/raw_counts.tsv\", DF.DataFrame; delim=\"\\t\"\n",
    ")\n",
    "\n",
    "first(data, 5)"
   ]
  },
  {
   "attachments": {},
   "cell_type": "markdown",
   "metadata": {},
   "source": [
    "There are a few things that I will change from the original dataset to match my\n",
    "standard format."
   ]
  },
  {
   "cell_type": "code",
   "execution_count": 5,
   "metadata": {},
   "outputs": [
    {
     "data": {
      "text/html": [
       "<div><div style = \"float: left;\"><span>5×11 DataFrame</span></div><div style = \"clear: both;\"></div></div><div class = \"data-frame\" style = \"overflow-x: scroll;\"><table class = \"data-frame\" style = \"margin-bottom: 6px;\"><thead><tr class = \"header\"><th class = \"rowNumber\" style = \"font-weight: bold; text-align: right;\">Row</th><th style = \"text-align: left;\">oligo</th><th style = \"text-align: left;\">barcode</th><th style = \"text-align: left;\">edit</th><th style = \"text-align: left;\">condition</th><th style = \"text-align: left;\">timepoint</th><th style = \"text-align: left;\">rep</th><th style = \"text-align: left;\">count</th><th style = \"text-align: left;\">neutral</th><th style = \"text-align: left;\">time</th><th style = \"text-align: left;\">count_sum</th><th style = \"text-align: left;\">freq</th></tr><tr class = \"subheader headerLastRow\"><th class = \"rowNumber\" style = \"font-weight: bold; text-align: right;\"></th><th title = \"String\" style = \"text-align: left;\">String</th><th title = \"InlineStrings.String31\" style = \"text-align: left;\">String31</th><th title = \"InlineStrings.String31\" style = \"text-align: left;\">String31</th><th title = \"InlineStrings.String15\" style = \"text-align: left;\">String15</th><th title = \"InlineStrings.String3\" style = \"text-align: left;\">String3</th><th title = \"String\" style = \"text-align: left;\">String</th><th title = \"Int64\" style = \"text-align: left;\">Int64</th><th title = \"Bool\" style = \"text-align: left;\">Bool</th><th title = \"Int64\" style = \"text-align: left;\">Int64</th><th title = \"Union{Missing, Int64}\" style = \"text-align: left;\">Int64?</th><th title = \"Float64\" style = \"text-align: left;\">Float64</th></tr></thead><tbody><tr><td class = \"rowNumber\" style = \"font-weight: bold; text-align: right;\">1</td><td style = \"text-align: left;\">0#LADDER</td><td style = \"text-align: left;\">TCCATCTAACCGCACAACTG</td><td style = \"text-align: left;\">SNP_1_LADDER</td><td style = \"text-align: left;\">M3.SL.2D</td><td style = \"text-align: left;\">T1</td><td style = \"text-align: left;\">R1</td><td style = \"text-align: right;\">2</td><td style = \"text-align: right;\">false</td><td style = \"text-align: right;\">1</td><td style = \"text-align: right;\">36819957</td><td style = \"text-align: right;\">5.43184e-8</td></tr><tr><td class = \"rowNumber\" style = \"font-weight: bold; text-align: right;\">2</td><td style = \"text-align: left;\">0#LADDER</td><td style = \"text-align: left;\">TCCATCTAACCGCACAACTG</td><td style = \"text-align: left;\">SNP_1_LADDER</td><td style = \"text-align: left;\">M3.SL.2D</td><td style = \"text-align: left;\">T1</td><td style = \"text-align: left;\">R2</td><td style = \"text-align: right;\">3</td><td style = \"text-align: right;\">false</td><td style = \"text-align: right;\">1</td><td style = \"text-align: right;\">32853111</td><td style = \"text-align: right;\">9.13156e-8</td></tr><tr><td class = \"rowNumber\" style = \"font-weight: bold; text-align: right;\">3</td><td style = \"text-align: left;\">0#LADDER</td><td style = \"text-align: left;\">TCCATCTAACCGCACAACTG</td><td style = \"text-align: left;\">SNP_1_LADDER</td><td style = \"text-align: left;\">M3.SL.2D</td><td style = \"text-align: left;\">T1</td><td style = \"text-align: left;\">R3</td><td style = \"text-align: right;\">3</td><td style = \"text-align: right;\">false</td><td style = \"text-align: right;\">1</td><td style = \"text-align: right;\">37121864</td><td style = \"text-align: right;\">8.08149e-8</td></tr><tr><td class = \"rowNumber\" style = \"font-weight: bold; text-align: right;\">4</td><td style = \"text-align: left;\">0#LADDER</td><td style = \"text-align: left;\">TCCATCTAACCGCACAACTG</td><td style = \"text-align: left;\">SNP_1_LADDER</td><td style = \"text-align: left;\">M3.SL.2D</td><td style = \"text-align: left;\">T2</td><td style = \"text-align: left;\">R1</td><td style = \"text-align: right;\">0</td><td style = \"text-align: right;\">false</td><td style = \"text-align: right;\">2</td><td style = \"text-align: right;\">36892406</td><td style = \"text-align: right;\">0.0</td></tr><tr><td class = \"rowNumber\" style = \"font-weight: bold; text-align: right;\">5</td><td style = \"text-align: left;\">0#LADDER</td><td style = \"text-align: left;\">TCCATCTAACCGCACAACTG</td><td style = \"text-align: left;\">SNP_1_LADDER</td><td style = \"text-align: left;\">M3.SL.2D</td><td style = \"text-align: left;\">T2</td><td style = \"text-align: left;\">R2</td><td style = \"text-align: right;\">2</td><td style = \"text-align: right;\">false</td><td style = \"text-align: right;\">2</td><td style = \"text-align: right;\">32572176</td><td style = \"text-align: right;\">6.14021e-8</td></tr></tbody></table></div>"
      ],
      "text/latex": [
       "\\begin{tabular}{r|cccccccc}\n",
       "\t& oligo & barcode & edit & condition & timepoint & rep & count & \\\\\n",
       "\t\\hline\n",
       "\t& String & String31 & String31 & String15 & String3 & String & Int64 & \\\\\n",
       "\t\\hline\n",
       "\t1 & 0\\#LADDER & TCCATCTAACCGCACAACTG & SNP\\_1\\_LADDER & M3.SL.2D & T1 & R1 & 2 & $\\dots$ \\\\\n",
       "\t2 & 0\\#LADDER & TCCATCTAACCGCACAACTG & SNP\\_1\\_LADDER & M3.SL.2D & T1 & R2 & 3 & $\\dots$ \\\\\n",
       "\t3 & 0\\#LADDER & TCCATCTAACCGCACAACTG & SNP\\_1\\_LADDER & M3.SL.2D & T1 & R3 & 3 & $\\dots$ \\\\\n",
       "\t4 & 0\\#LADDER & TCCATCTAACCGCACAACTG & SNP\\_1\\_LADDER & M3.SL.2D & T2 & R1 & 0 & $\\dots$ \\\\\n",
       "\t5 & 0\\#LADDER & TCCATCTAACCGCACAACTG & SNP\\_1\\_LADDER & M3.SL.2D & T2 & R2 & 2 & $\\dots$ \\\\\n",
       "\\end{tabular}\n"
      ],
      "text/plain": [
       "\u001b[1m5×11 DataFrame\u001b[0m\n",
       "\u001b[1m Row \u001b[0m│\u001b[1m oligo    \u001b[0m\u001b[1m barcode              \u001b[0m\u001b[1m edit         \u001b[0m\u001b[1m condition \u001b[0m\u001b[1m timepoint \u001b[0m\u001b[1m rep\u001b[0m ⋯\n",
       "     │\u001b[90m String   \u001b[0m\u001b[90m String31             \u001b[0m\u001b[90m String31     \u001b[0m\u001b[90m String15  \u001b[0m\u001b[90m String3   \u001b[0m\u001b[90m Str\u001b[0m ⋯\n",
       "─────┼──────────────────────────────────────────────────────────────────────────\n",
       "   1 │ 0#LADDER  TCCATCTAACCGCACAACTG  SNP_1_LADDER  M3.SL.2D   T1         R1  ⋯\n",
       "   2 │ 0#LADDER  TCCATCTAACCGCACAACTG  SNP_1_LADDER  M3.SL.2D   T1         R2\n",
       "   3 │ 0#LADDER  TCCATCTAACCGCACAACTG  SNP_1_LADDER  M3.SL.2D   T1         R3\n",
       "   4 │ 0#LADDER  TCCATCTAACCGCACAACTG  SNP_1_LADDER  M3.SL.2D   T2         R1\n",
       "   5 │ 0#LADDER  TCCATCTAACCGCACAACTG  SNP_1_LADDER  M3.SL.2D   T2         R2  ⋯\n",
       "\u001b[36m                                                               6 columns omitted\u001b[0m"
      ]
     },
     "metadata": {},
     "output_type": "display_data"
    }
   ],
   "source": [
    "# Rename columns to my standards\n",
    "DF.rename!(data, \"replicate\" => \"rep\", \"counts\" => \"count\")\n",
    "\n",
    "# Convert neutral column from integer to boolean\n",
    "neutral = data.neutral .== 1\n",
    "\n",
    "# Remove old neutral column\n",
    "data = data[:, DF.Not(:neutral)]\n",
    "\n",
    "# Add neutral column\n",
    "data[!, :neutral] = neutral\n",
    "\n",
    "# Add time column\n",
    "data[!, :time] = parse.(Int64, replace.(data.timepoint, \"T\" => \"\"))\n",
    "\n",
    "# Replace replicate column notation\n",
    "data.rep .= replace.(data.rep, \"ep\" => \"\")\n",
    "\n",
    "# Sum counts by timepoint\n",
    "data_sum = DF.combine(\n",
    "    DF.groupby(data, [:timepoint, :rep]), :count => sum\n",
    ")\n",
    "\n",
    "# Add sum to dataframe\n",
    "DF.leftjoin!(data, data_sum; on=[:timepoint, :rep])\n",
    "# Add frequency column\n",
    "data[!, :freq] = data.count ./ data.count_sum\n",
    "\n",
    "first(data, 5)"
   ]
  },
  {
   "attachments": {},
   "cell_type": "markdown",
   "metadata": {},
   "source": [
    "Let's print some of the main features of the dataset."
   ]
  },
  {
   "cell_type": "code",
   "execution_count": 6,
   "metadata": {},
   "outputs": [
    {
     "name": "stdout",
     "output_type": "stream",
     "text": [
      "# of unique barcodes: 5201151\n",
      "# of unique neutral lineages: 72142\n"
     ]
    }
   ],
   "source": [
    "println(\"# of unique barcodes: $(length(unique(data.barcode)))\")\n",
    "\n",
    "println(\"# of unique neutral lineages: $(length(unique(data[data.neutral, :barcode])))\")\n"
   ]
  },
  {
   "cell_type": "code",
   "execution_count": 7,
   "metadata": {},
   "outputs": [
    {
     "name": "stdout",
     "output_type": "stream",
     "text": [
      "# of unique oligos: 21740\n"
     ]
    },
    {
     "name": "stdout",
     "output_type": "stream",
     "text": [
      "# of unique edits: 10821\n"
     ]
    }
   ],
   "source": [
    "println(\"# of unique oligos: $(length(unique(data.oligo)))\")\n",
    "\n",
    "println(\"# of unique edits: $(length(unique(data.edit)))\")"
   ]
  },
  {
   "attachments": {},
   "cell_type": "markdown",
   "metadata": {},
   "source": [
    "That is an extremely large number of barcodes. It will be impossible to work\n",
    "with them."
   ]
  },
  {
   "cell_type": "markdown",
   "metadata": {},
   "source": [
    "## Grouping data by oligo"
   ]
  },
  {
   "cell_type": "markdown",
   "metadata": {},
   "source": [
    "Let's group the data by oligo to work with the next level in the data\n",
    "organization hierarchy."
   ]
  },
  {
   "cell_type": "code",
   "execution_count": 9,
   "metadata": {},
   "outputs": [
    {
     "data": {
      "text/html": [
       "<div><div style = \"float: left;\"><span>5×8 DataFrame</span></div><div style = \"clear: both;\"></div></div><div class = \"data-frame\" style = \"overflow-x: scroll;\"><table class = \"data-frame\" style = \"margin-bottom: 6px;\"><thead><tr class = \"header\"><th class = \"rowNumber\" style = \"font-weight: bold; text-align: right;\">Row</th><th style = \"text-align: left;\">oligo</th><th style = \"text-align: left;\">edit</th><th style = \"text-align: left;\">condition</th><th style = \"text-align: left;\">rep</th><th style = \"text-align: left;\">time</th><th style = \"text-align: left;\">count</th><th style = \"text-align: left;\">count_sum</th><th style = \"text-align: left;\">freq</th></tr><tr class = \"subheader headerLastRow\"><th class = \"rowNumber\" style = \"font-weight: bold; text-align: right;\"></th><th title = \"String\" style = \"text-align: left;\">String</th><th title = \"InlineStrings.String31\" style = \"text-align: left;\">String31</th><th title = \"InlineStrings.String15\" style = \"text-align: left;\">String15</th><th title = \"String\" style = \"text-align: left;\">String</th><th title = \"Int64\" style = \"text-align: left;\">Int64</th><th title = \"Int64\" style = \"text-align: left;\">Int64</th><th title = \"Union{Missing, Int64}\" style = \"text-align: left;\">Int64?</th><th title = \"Float64\" style = \"text-align: left;\">Float64</th></tr></thead><tbody><tr><td class = \"rowNumber\" style = \"font-weight: bold; text-align: right;\">1</td><td style = \"text-align: left;\">0#LADDER</td><td style = \"text-align: left;\">SNP_1_LADDER</td><td style = \"text-align: left;\">M3.SL.2D</td><td style = \"text-align: left;\">R1</td><td style = \"text-align: right;\">1</td><td style = \"text-align: right;\">2218</td><td style = \"text-align: right;\">36819957</td><td style = \"text-align: right;\">6.02391e-5</td></tr><tr><td class = \"rowNumber\" style = \"font-weight: bold; text-align: right;\">2</td><td style = \"text-align: left;\">0#LADDER</td><td style = \"text-align: left;\">SNP_1_LADDER</td><td style = \"text-align: left;\">M3.SL.2D</td><td style = \"text-align: left;\">R2</td><td style = \"text-align: right;\">1</td><td style = \"text-align: right;\">2022</td><td style = \"text-align: right;\">32853111</td><td style = \"text-align: right;\">6.15467e-5</td></tr><tr><td class = \"rowNumber\" style = \"font-weight: bold; text-align: right;\">3</td><td style = \"text-align: left;\">0#LADDER</td><td style = \"text-align: left;\">SNP_1_LADDER</td><td style = \"text-align: left;\">M3.SL.2D</td><td style = \"text-align: left;\">R3</td><td style = \"text-align: right;\">1</td><td style = \"text-align: right;\">2235</td><td style = \"text-align: right;\">37121864</td><td style = \"text-align: right;\">6.02071e-5</td></tr><tr><td class = \"rowNumber\" style = \"font-weight: bold; text-align: right;\">4</td><td style = \"text-align: left;\">0#LADDER</td><td style = \"text-align: left;\">SNP_1_LADDER</td><td style = \"text-align: left;\">M3.SL.2D</td><td style = \"text-align: left;\">R1</td><td style = \"text-align: right;\">2</td><td style = \"text-align: right;\">2373</td><td style = \"text-align: right;\">36892406</td><td style = \"text-align: right;\">6.43222e-5</td></tr><tr><td class = \"rowNumber\" style = \"font-weight: bold; text-align: right;\">5</td><td style = \"text-align: left;\">0#LADDER</td><td style = \"text-align: left;\">SNP_1_LADDER</td><td style = \"text-align: left;\">M3.SL.2D</td><td style = \"text-align: left;\">R2</td><td style = \"text-align: right;\">2</td><td style = \"text-align: right;\">2089</td><td style = \"text-align: right;\">32572176</td><td style = \"text-align: right;\">6.41345e-5</td></tr></tbody></table></div>"
      ],
      "text/latex": [
       "\\begin{tabular}{r|cccccccc}\n",
       "\t& oligo & edit & condition & rep & time & count & count\\_sum & freq\\\\\n",
       "\t\\hline\n",
       "\t& String & String31 & String15 & String & Int64 & Int64 & Int64? & Float64\\\\\n",
       "\t\\hline\n",
       "\t1 & 0\\#LADDER & SNP\\_1\\_LADDER & M3.SL.2D & R1 & 1 & 2218 & 36819957 & 6.02391e-5 \\\\\n",
       "\t2 & 0\\#LADDER & SNP\\_1\\_LADDER & M3.SL.2D & R2 & 1 & 2022 & 32853111 & 6.15467e-5 \\\\\n",
       "\t3 & 0\\#LADDER & SNP\\_1\\_LADDER & M3.SL.2D & R3 & 1 & 2235 & 37121864 & 6.02071e-5 \\\\\n",
       "\t4 & 0\\#LADDER & SNP\\_1\\_LADDER & M3.SL.2D & R1 & 2 & 2373 & 36892406 & 6.43222e-5 \\\\\n",
       "\t5 & 0\\#LADDER & SNP\\_1\\_LADDER & M3.SL.2D & R2 & 2 & 2089 & 32572176 & 6.41345e-5 \\\\\n",
       "\\end{tabular}\n"
      ],
      "text/plain": [
       "\u001b[1m5×8 DataFrame\u001b[0m\n",
       "\u001b[1m Row \u001b[0m│\u001b[1m oligo    \u001b[0m\u001b[1m edit         \u001b[0m\u001b[1m condition \u001b[0m\u001b[1m rep    \u001b[0m\u001b[1m time  \u001b[0m\u001b[1m count \u001b[0m\u001b[1m count_sum \u001b[0m\u001b[1m fre\u001b[0m ⋯\n",
       "     │\u001b[90m String   \u001b[0m\u001b[90m String31     \u001b[0m\u001b[90m String15  \u001b[0m\u001b[90m String \u001b[0m\u001b[90m Int64 \u001b[0m\u001b[90m Int64 \u001b[0m\u001b[90m Int64?    \u001b[0m\u001b[90m Flo\u001b[0m ⋯\n",
       "─────┼──────────────────────────────────────────────────────────────────────────\n",
       "   1 │ 0#LADDER  SNP_1_LADDER  M3.SL.2D   R1          1   2218   36819957  6.0 ⋯\n",
       "   2 │ 0#LADDER  SNP_1_LADDER  M3.SL.2D   R2          1   2022   32853111  6.1\n",
       "   3 │ 0#LADDER  SNP_1_LADDER  M3.SL.2D   R3          1   2235   37121864  6.0\n",
       "   4 │ 0#LADDER  SNP_1_LADDER  M3.SL.2D   R1          2   2373   36892406  6.4\n",
       "   5 │ 0#LADDER  SNP_1_LADDER  M3.SL.2D   R2          2   2089   32572176  6.4 ⋯\n",
       "\u001b[36m                                                                1 column omitted\u001b[0m"
      ]
     },
     "metadata": {},
     "output_type": "display_data"
    }
   ],
   "source": [
    "# Group data by oligos\n",
    "data_oligo = DF.combine(\n",
    "    DF.groupby(\n",
    "        data[:, DF.Not([:barcode, :freq, :count_sum])],\n",
    "        [:oligo, :edit, :condition, :rep, :time, :neutral]\n",
    "    ),\n",
    "    :count => sum\n",
    ")\n",
    "\n",
    "# Rename column\n",
    "DF.rename!(data_oligo, :count_sum => :count)\n",
    "\n",
    "# Compute total per oligo\n",
    "data_sum = DF.combine(\n",
    "    DF.groupby(data_oligo, [:condition, :rep, :time]), :count => sum\n",
    ")\n",
    "\n",
    "# Add count total\n",
    "DF.leftjoin!(data_oligo, data_sum; on=[:condition, :rep, :time])\n",
    "\n",
    "# Add frequency column\n",
    "data_oligo[!, :freq] = data_oligo.count ./ data_oligo.count_sum\n",
    "\n",
    "first(data_oligo, 5)"
   ]
  },
  {
   "cell_type": "markdown",
   "metadata": {},
   "source": [
    "Let's write these results into memory."
   ]
  },
  {
   "cell_type": "code",
   "execution_count": 18,
   "metadata": {},
   "outputs": [
    {
     "data": {
      "text/plain": [
       "\"/Users/mrazo/git/bayesian_fitness/data/aguilar_2023/tidy_counts_oligo.csv\""
      ]
     },
     "metadata": {},
     "output_type": "display_data"
    }
   ],
   "source": [
    "CSV.write(\n",
    "    \"$(git_root())/data/aguilar_2023/tidy_counts_oligo.csv\", data_oligo\n",
    ")"
   ]
  },
  {
   "cell_type": "code",
   "execution_count": null,
   "metadata": {},
   "outputs": [],
   "source": [
    "# Initialize figure\n",
    "fig = Figure(resolution=(400, 300))\n",
    "\n",
    "# Add axis\n",
    "ax = Axis(\n",
    "    fig[1, 1],\n",
    "    xlabel=\"time point\",\n",
    "    ylabel=\"barcode frequency\",\n",
    ")\n",
    "\n",
    "# Plot frequency trajectory\n",
    "BarBay.viz.bc_time_series!(\n",
    "    ax,\n",
    "    data[data.rep.==\"R1\", :];\n",
    "    id_col=:barcode,\n",
    "    time_col=:time,\n",
    "    quant_col=:freq\n",
    ")\n",
    "\n",
    "fig"
   ]
  },
  {
   "cell_type": "code",
   "execution_count": null,
   "metadata": {},
   "outputs": [],
   "source": []
  }
 ],
 "metadata": {
  "kernelspec": {
   "display_name": "Julia 1.9.2",
   "language": "julia",
   "name": "julia-1.9"
  },
  "language_info": {
   "file_extension": ".jl",
   "mimetype": "application/julia",
   "name": "julia",
   "version": "1.9.2"
  },
  "orig_nbformat": 4
 },
 "nbformat": 4,
 "nbformat_minor": 2
}
