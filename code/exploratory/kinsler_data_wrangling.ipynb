{
 "cells": [
  {
   "cell_type": "markdown",
   "metadata": {},
   "source": [
    "(c) 2023 Manuel Razo. This work is licensed under a [Creative Commons\n",
    "Attribution License CC-BY 4.0](https://creativecommons.org/licenses/by/4.0/).\n",
    "All code contained herein is licensed under an [MIT\n",
    "license](https://opensource.org/licenses/MIT)."
   ]
  },
  {
   "cell_type": "code",
   "execution_count": 1,
   "metadata": {},
   "outputs": [],
   "source": [
    "# Load project package\n",
    "@load_pkg BayesFitUtils\n",
    "\n",
    "import Revise\n",
    "# Import project package\n",
    "import BayesFitUtils\n",
    "\n",
    "# Import package to handle DataFrames\n",
    "import DataFrames as DF\n",
    "import CSV\n",
    "import XLSX\n",
    "\n",
    "# Import basic statistical functions\n",
    "import StatsBase\n",
    "\n",
    "# Import library to list files\n",
    "import Glob\n",
    "\n",
    "# Load CairoMakie for plotting\n",
    "using CairoMakie\n",
    "import ColorSchemes\n",
    "import Makie\n",
    "# Activate backend\n",
    "CairoMakie.activate!()\n",
    "\n",
    "# Set PBoC Plotting style\n",
    "BayesFitUtils.viz.pboc_makie!()"
   ]
  },
  {
   "attachments": {},
   "cell_type": "markdown",
   "metadata": {},
   "source": [
    "# Data Wrangling for Kinsler et al., 2020"
   ]
  },
  {
   "attachments": {},
   "cell_type": "markdown",
   "metadata": {},
   "source": [
    "In this notebook we will turn the raw barcode counts from the Kinsler et al.,\n",
    "2020 eLife paper experiment into a tidy data frame. Let's begin by loading the\n",
    "raw `.csv` file."
   ]
  },
  {
   "cell_type": "code",
   "execution_count": 2,
   "metadata": {},
   "outputs": [
    {
     "data": {
      "text/html": [
       "<div><div style = \"float: left;\"><span>5×346 DataFrame</span></div><div style = \"float: right;\"><span style = \"font-style: italic;\">246 columns omitted</span></div><div style = \"clear: both;\"></div></div><div class = \"data-frame\" style = \"overflow-x: scroll;\"><table class = \"data-frame\" style = \"margin-bottom: 6px;\"><thead><tr class = \"header\"><th class = \"rowNumber\" style = \"font-weight: bold; text-align: right;\">Row</th><th style = \"text-align: left;\">1.4%-R1-T1</th><th style = \"text-align: left;\">1.4%-R1-T2</th><th style = \"text-align: left;\">1.4%-R1-T3</th><th style = \"text-align: left;\">1.4%-R1-T4</th><th style = \"text-align: left;\">1.4%-R2-T1</th><th style = \"text-align: left;\">1.4%-R2-T2</th><th style = \"text-align: left;\">1.4%-R2-T3</th><th style = \"text-align: left;\">1.4%-R2-T4</th><th style = \"text-align: left;\">1.4%-T0</th><th style = \"text-align: left;\">1.5%-R1-T1</th><th style = \"text-align: left;\">1.5%-R1-T2</th><th style = \"text-align: left;\">1.5%-R1-T3</th><th style = \"text-align: left;\">1.5%-R1-T4</th><th style = \"text-align: left;\">1.5%-R2-T1</th><th style = \"text-align: left;\">1.5%-R2-T2</th><th style = \"text-align: left;\">1.5%-R2-T3</th><th style = \"text-align: left;\">1.5%-R2-T4</th><th style = \"text-align: left;\">1.5%-T0</th><th style = \"text-align: left;\">1.6%-R1-T1</th><th style = \"text-align: left;\">1.6%-R1-T2</th><th style = \"text-align: left;\">1.6%-R1-T3</th><th style = \"text-align: left;\">1.6%-R1-T4</th><th style = \"text-align: left;\">1.6%-R2-T1</th><th style = \"text-align: left;\">1.6%-R2-T2</th><th style = \"text-align: left;\">1.6%-R2-T3</th><th style = \"text-align: left;\">1.6%-R2-T4</th><th style = \"text-align: left;\">1.6%-T0</th><th style = \"text-align: left;\">1.7%-R1-T1</th><th style = \"text-align: left;\">1.7%-R1-T2</th><th style = \"text-align: left;\">1.7%-R1-T3</th><th style = \"text-align: left;\">1.7%-R1-T4</th><th style = \"text-align: left;\">1.7%-R2-T1</th><th style = \"text-align: left;\">1.7%-R2-T2</th><th style = \"text-align: left;\">1.7%-R2-T3</th><th style = \"text-align: left;\">1.7%-R2-T4</th><th style = \"text-align: left;\">1.7%-T0</th><th style = \"text-align: left;\">1.8%-R1-T1</th><th style = \"text-align: left;\">1.8%-R1-T2</th><th style = \"text-align: left;\">1.8%-R1-T3</th><th style = \"text-align: left;\">1.8%-R1-T4</th><th style = \"text-align: left;\">1.8%-R2-T1</th><th style = \"text-align: left;\">1.8%-R2-T2</th><th style = \"text-align: left;\">1.8%-R2-T3</th><th style = \"text-align: left;\">1.8%-R2-T4</th><th style = \"text-align: left;\">1.8%-T0</th><th style = \"text-align: left;\">13-0</th><th style = \"text-align: left;\">13-0_pool</th><th style = \"text-align: left;\">13-1-1</th><th style = \"text-align: left;\">13-1-2</th><th style = \"text-align: left;\">13-1-3</th><th style = \"text-align: left;\">13-2-1</th><th style = \"text-align: left;\">13-2-2</th><th style = \"text-align: left;\">13-2-3</th><th style = \"text-align: left;\">13-3-1</th><th style = \"text-align: left;\">13-3-2</th><th style = \"text-align: left;\">13-3-3</th><th style = \"text-align: left;\">13-4-1</th><th style = \"text-align: left;\">13-4-2</th><th style = \"text-align: left;\">13-4-3</th><th style = \"text-align: left;\">18-1-1</th><th style = \"text-align: left;\">18-1-2</th><th style = \"text-align: left;\">18-1-3</th><th style = \"text-align: left;\">18-2-1</th><th style = \"text-align: left;\">18-2-2</th><th style = \"text-align: left;\">18-2-3</th><th style = \"text-align: left;\">18-3-1</th><th style = \"text-align: left;\">18-3-2</th><th style = \"text-align: left;\">18-3-3</th><th style = \"text-align: left;\">18-4-1</th><th style = \"text-align: left;\">18-4-2</th><th style = \"text-align: left;\">18-4-3</th><th style = \"text-align: left;\">2.5%-R1-T1</th><th style = \"text-align: left;\">2.5%-R1-T2</th><th style = \"text-align: left;\">2.5%-R1-T3</th><th style = \"text-align: left;\">2.5%-R1-T4</th><th style = \"text-align: left;\">2.5%-R2-T1</th><th style = \"text-align: left;\">2.5%-R2-T2</th><th style = \"text-align: left;\">2.5%-R2-T3</th><th style = \"text-align: left;\">2.5%-R2-T4</th><th style = \"text-align: left;\">2.5%-T0</th><th style = \"text-align: left;\">20-1-1</th><th style = \"text-align: left;\">20-1-2</th><th style = \"text-align: left;\">20-1-3</th><th style = \"text-align: left;\">20-2-1</th><th style = \"text-align: left;\">20-2-2</th><th style = \"text-align: left;\">20-2-3</th><th style = \"text-align: left;\">20-3-1</th><th style = \"text-align: left;\">20-3-2</th><th style = \"text-align: left;\">20-3-3</th><th style = \"text-align: left;\">20-4-1</th><th style = \"text-align: left;\">20-4-2</th><th style = \"text-align: left;\">20-4-3</th><th style = \"text-align: left;\">21+wt</th><th style = \"text-align: left;\">21-0-1</th><th style = \"text-align: left;\">21-0-2</th><th style = \"text-align: left;\">21-0-4</th><th style = \"text-align: left;\">21-1-1</th><th style = \"text-align: left;\">21-1-2</th><th style = \"text-align: left;\">21-1-3</th><th style = \"text-align: left;\">21-2-1</th><th style = \"text-align: right;\">&ctdot;</th></tr><tr class = \"subheader headerLastRow\"><th class = \"rowNumber\" style = \"font-weight: bold; text-align: right;\"></th><th title = \"Float64\" style = \"text-align: left;\">Float64</th><th title = \"Float64\" style = \"text-align: left;\">Float64</th><th title = \"Float64\" style = \"text-align: left;\">Float64</th><th title = \"Float64\" style = \"text-align: left;\">Float64</th><th title = \"Float64\" style = \"text-align: left;\">Float64</th><th title = \"Float64\" style = \"text-align: left;\">Float64</th><th title = \"Float64\" style = \"text-align: left;\">Float64</th><th title = \"Float64\" style = \"text-align: left;\">Float64</th><th title = \"Float64\" style = \"text-align: left;\">Float64</th><th title = \"Float64\" style = \"text-align: left;\">Float64</th><th title = \"Float64\" style = \"text-align: left;\">Float64</th><th title = \"Float64\" style = \"text-align: left;\">Float64</th><th title = \"Float64\" style = \"text-align: left;\">Float64</th><th title = \"Float64\" style = \"text-align: left;\">Float64</th><th title = \"Float64\" style = \"text-align: left;\">Float64</th><th title = \"Float64\" style = \"text-align: left;\">Float64</th><th title = \"Float64\" style = \"text-align: left;\">Float64</th><th title = \"Float64\" style = \"text-align: left;\">Float64</th><th title = \"Float64\" style = \"text-align: left;\">Float64</th><th title = \"Float64\" style = \"text-align: left;\">Float64</th><th title = \"Float64\" style = \"text-align: left;\">Float64</th><th title = \"Float64\" style = \"text-align: left;\">Float64</th><th title = \"Float64\" style = \"text-align: left;\">Float64</th><th title = \"Float64\" style = \"text-align: left;\">Float64</th><th title = \"Float64\" style = \"text-align: left;\">Float64</th><th title = \"Float64\" style = \"text-align: left;\">Float64</th><th title = \"Float64\" style = \"text-align: left;\">Float64</th><th title = \"Float64\" style = \"text-align: left;\">Float64</th><th title = \"Float64\" style = \"text-align: left;\">Float64</th><th title = \"Float64\" style = \"text-align: left;\">Float64</th><th title = \"Float64\" style = \"text-align: left;\">Float64</th><th title = \"Float64\" style = \"text-align: left;\">Float64</th><th title = \"Float64\" style = \"text-align: left;\">Float64</th><th title = \"Float64\" style = \"text-align: left;\">Float64</th><th title = \"Float64\" style = \"text-align: left;\">Float64</th><th title = \"Float64\" style = \"text-align: left;\">Float64</th><th title = \"Float64\" style = \"text-align: left;\">Float64</th><th title = \"Float64\" style = \"text-align: left;\">Float64</th><th title = \"Float64\" style = \"text-align: left;\">Float64</th><th title = \"Float64\" style = \"text-align: left;\">Float64</th><th title = \"Float64\" style = \"text-align: left;\">Float64</th><th title = \"Float64\" style = \"text-align: left;\">Float64</th><th title = \"Float64\" style = \"text-align: left;\">Float64</th><th title = \"Float64\" style = \"text-align: left;\">Float64</th><th title = \"Float64\" style = \"text-align: left;\">Float64</th><th title = \"Float64\" style = \"text-align: left;\">Float64</th><th title = \"Float64\" style = \"text-align: left;\">Float64</th><th title = \"Float64\" style = \"text-align: left;\">Float64</th><th title = \"Float64\" style = \"text-align: left;\">Float64</th><th title = \"Float64\" style = \"text-align: left;\">Float64</th><th title = \"Float64\" style = \"text-align: left;\">Float64</th><th title = \"Float64\" style = \"text-align: left;\">Float64</th><th title = \"Float64\" style = \"text-align: left;\">Float64</th><th title = \"Float64\" style = \"text-align: left;\">Float64</th><th title = \"Float64\" style = \"text-align: left;\">Float64</th><th title = \"Float64\" style = \"text-align: left;\">Float64</th><th title = \"Float64\" style = \"text-align: left;\">Float64</th><th title = \"Float64\" style = \"text-align: left;\">Float64</th><th title = \"Float64\" style = \"text-align: left;\">Float64</th><th title = \"Float64\" style = \"text-align: left;\">Float64</th><th title = \"Float64\" style = \"text-align: left;\">Float64</th><th title = \"Float64\" style = \"text-align: left;\">Float64</th><th title = \"Float64\" style = \"text-align: left;\">Float64</th><th title = \"Float64\" style = \"text-align: left;\">Float64</th><th title = \"Float64\" style = \"text-align: left;\">Float64</th><th title = \"Float64\" style = \"text-align: left;\">Float64</th><th title = \"Float64\" style = \"text-align: left;\">Float64</th><th title = \"Float64\" style = \"text-align: left;\">Float64</th><th title = \"Float64\" style = \"text-align: left;\">Float64</th><th title = \"Float64\" style = \"text-align: left;\">Float64</th><th title = \"Float64\" style = \"text-align: left;\">Float64</th><th title = \"Float64\" style = \"text-align: left;\">Float64</th><th title = \"Float64\" style = \"text-align: left;\">Float64</th><th title = \"Float64\" style = \"text-align: left;\">Float64</th><th title = \"Float64\" style = \"text-align: left;\">Float64</th><th title = \"Float64\" style = \"text-align: left;\">Float64</th><th title = \"Float64\" style = \"text-align: left;\">Float64</th><th title = \"Float64\" style = \"text-align: left;\">Float64</th><th title = \"Float64\" style = \"text-align: left;\">Float64</th><th title = \"Float64\" style = \"text-align: left;\">Float64</th><th title = \"Float64\" style = \"text-align: left;\">Float64</th><th title = \"Float64\" style = \"text-align: left;\">Float64</th><th title = \"Float64\" style = \"text-align: left;\">Float64</th><th title = \"Float64\" style = \"text-align: left;\">Float64</th><th title = \"Float64\" style = \"text-align: left;\">Float64</th><th title = \"Float64\" style = \"text-align: left;\">Float64</th><th title = \"Float64\" style = \"text-align: left;\">Float64</th><th title = \"Float64\" style = \"text-align: left;\">Float64</th><th title = \"Float64\" style = \"text-align: left;\">Float64</th><th title = \"Float64\" style = \"text-align: left;\">Float64</th><th title = \"Float64\" style = \"text-align: left;\">Float64</th><th title = \"Float64\" style = \"text-align: left;\">Float64</th><th title = \"Float64\" style = \"text-align: left;\">Float64</th><th title = \"Float64\" style = \"text-align: left;\">Float64</th><th title = \"Float64\" style = \"text-align: left;\">Float64</th><th title = \"Float64\" style = \"text-align: left;\">Float64</th><th title = \"Float64\" style = \"text-align: left;\">Float64</th><th title = \"Float64\" style = \"text-align: left;\">Float64</th><th title = \"Float64\" style = \"text-align: left;\">Float64</th><th title = \"Float64\" style = \"text-align: left;\">Float64</th><th title = \"Float64\" style = \"text-align: right;\">&ctdot;</th></tr></thead><tbody><tr><td class = \"rowNumber\" style = \"font-weight: bold; text-align: right;\">1</td><td style = \"text-align: right;\">174.0</td><td style = \"text-align: right;\">109.0</td><td style = \"text-align: right;\">85.0</td><td style = \"text-align: right;\">68.0</td><td style = \"text-align: right;\">3.0</td><td style = \"text-align: right;\">91.0</td><td style = \"text-align: right;\">56.0</td><td style = \"text-align: right;\">42.0</td><td style = \"text-align: right;\">22.0</td><td style = \"text-align: right;\">74.0</td><td style = \"text-align: right;\">85.0</td><td style = \"text-align: right;\">64.0</td><td style = \"text-align: right;\">70.0</td><td style = \"text-align: right;\">66.0</td><td style = \"text-align: right;\">69.0</td><td style = \"text-align: right;\">66.0</td><td style = \"text-align: right;\">68.0</td><td style = \"text-align: right;\">51.0</td><td style = \"text-align: right;\">121.0</td><td style = \"text-align: right;\">113.0</td><td style = \"text-align: right;\">120.0</td><td style = \"text-align: right;\">245.0</td><td style = \"text-align: right;\">102.0</td><td style = \"text-align: right;\">212.0</td><td style = \"text-align: right;\">146.0</td><td style = \"text-align: right;\">116.0</td><td style = \"text-align: right;\">56.0</td><td style = \"text-align: right;\">130.0</td><td style = \"text-align: right;\">227.0</td><td style = \"text-align: right;\">122.0</td><td style = \"text-align: right;\">109.0</td><td style = \"text-align: right;\">108.0</td><td style = \"text-align: right;\">141.0</td><td style = \"text-align: right;\">85.0</td><td style = \"text-align: right;\">142.0</td><td style = \"text-align: right;\">95.0</td><td style = \"text-align: right;\">102.0</td><td style = \"text-align: right;\">181.0</td><td style = \"text-align: right;\">184.0</td><td style = \"text-align: right;\">216.0</td><td style = \"text-align: right;\">176.0</td><td style = \"text-align: right;\">239.0</td><td style = \"text-align: right;\">45.0</td><td style = \"text-align: right;\">42.0</td><td style = \"text-align: right;\">69.0</td><td style = \"text-align: right;\">2.0</td><td style = \"text-align: right;\">10.0</td><td style = \"text-align: right;\">512.0</td><td style = \"text-align: right;\">700.0</td><td style = \"text-align: right;\">594.0</td><td style = \"text-align: right;\">594.0</td><td style = \"text-align: right;\">403.0</td><td style = \"text-align: right;\">104.0</td><td style = \"text-align: right;\">319.0</td><td style = \"text-align: right;\">299.0</td><td style = \"text-align: right;\">361.0</td><td style = \"text-align: right;\">51.0</td><td style = \"text-align: right;\">70.0</td><td style = \"text-align: right;\">59.0</td><td style = \"text-align: right;\">90.0</td><td style = \"text-align: right;\">133.0</td><td style = \"text-align: right;\">122.0</td><td style = \"text-align: right;\">40.0</td><td style = \"text-align: right;\">65.0</td><td style = \"text-align: right;\">481.0</td><td style = \"text-align: right;\">365.0</td><td style = \"text-align: right;\">102.0</td><td style = \"text-align: right;\">574.0</td><td style = \"text-align: right;\">486.0</td><td style = \"text-align: right;\">516.0</td><td style = \"text-align: right;\">380.0</td><td style = \"text-align: right;\">27.0</td><td style = \"text-align: right;\">19.0</td><td style = \"text-align: right;\">17.0</td><td style = \"text-align: right;\">24.0</td><td style = \"text-align: right;\">10.0</td><td style = \"text-align: right;\">11.0</td><td style = \"text-align: right;\">7.0</td><td style = \"text-align: right;\">6.0</td><td style = \"text-align: right;\">20.0</td><td style = \"text-align: right;\">773.0</td><td style = \"text-align: right;\">2336.0</td><td style = \"text-align: right;\">2192.0</td><td style = \"text-align: right;\">2785.0</td><td style = \"text-align: right;\">2493.0</td><td style = \"text-align: right;\">2199.0</td><td style = \"text-align: right;\">1855.0</td><td style = \"text-align: right;\">1569.0</td><td style = \"text-align: right;\">1775.0</td><td style = \"text-align: right;\">954.0</td><td style = \"text-align: right;\">1495.0</td><td style = \"text-align: right;\">1990.0</td><td style = \"text-align: right;\">0.0</td><td style = \"text-align: right;\">3276.0</td><td style = \"text-align: right;\">3105.0</td><td style = \"text-align: right;\">3372.0</td><td style = \"text-align: right;\">962.0</td><td style = \"text-align: right;\">760.0</td><td style = \"text-align: right;\">1889.0</td><td style = \"text-align: right;\">1883.0</td><td style = \"text-align: right;\">&ctdot;</td></tr><tr><td class = \"rowNumber\" style = \"font-weight: bold; text-align: right;\">2</td><td style = \"text-align: right;\">7374.0</td><td style = \"text-align: right;\">18479.0</td><td style = \"text-align: right;\">44673.0</td><td style = \"text-align: right;\">96279.0</td><td style = \"text-align: right;\">104.0</td><td style = \"text-align: right;\">13081.0</td><td style = \"text-align: right;\">26243.0</td><td style = \"text-align: right;\">50295.0</td><td style = \"text-align: right;\">629.0</td><td style = \"text-align: right;\">2713.0</td><td style = \"text-align: right;\">8975.0</td><td style = \"text-align: right;\">19736.0</td><td style = \"text-align: right;\">63889.0</td><td style = \"text-align: right;\">2161.0</td><td style = \"text-align: right;\">8175.0</td><td style = \"text-align: right;\">19028.0</td><td style = \"text-align: right;\">50199.0</td><td style = \"text-align: right;\">1102.0</td><td style = \"text-align: right;\">5096.0</td><td style = \"text-align: right;\">13055.0</td><td style = \"text-align: right;\">30405.0</td><td style = \"text-align: right;\">141123.0</td><td style = \"text-align: right;\">3330.0</td><td style = \"text-align: right;\">17235.0</td><td style = \"text-align: right;\">32195.0</td><td style = \"text-align: right;\">65247.0</td><td style = \"text-align: right;\">975.0</td><td style = \"text-align: right;\">3784.0</td><td style = \"text-align: right;\">15314.0</td><td style = \"text-align: right;\">33243.0</td><td style = \"text-align: right;\">34457.0</td><td style = \"text-align: right;\">3473.0</td><td style = \"text-align: right;\">8792.0</td><td style = \"text-align: right;\">13059.0</td><td style = \"text-align: right;\">80332.0</td><td style = \"text-align: right;\">1314.0</td><td style = \"text-align: right;\">3447.0</td><td style = \"text-align: right;\">13525.0</td><td style = \"text-align: right;\">32522.0</td><td style = \"text-align: right;\">97939.0</td><td style = \"text-align: right;\">6641.0</td><td style = \"text-align: right;\">18834.0</td><td style = \"text-align: right;\">7138.0</td><td style = \"text-align: right;\">19516.0</td><td style = \"text-align: right;\">1379.0</td><td style = \"text-align: right;\">2625.0</td><td style = \"text-align: right;\">3914.0</td><td style = \"text-align: right;\">43106.0</td><td style = \"text-align: right;\">54385.0</td><td style = \"text-align: right;\">42068.0</td><td style = \"text-align: right;\">160273.0</td><td style = \"text-align: right;\">107883.0</td><td style = \"text-align: right;\">20536.0</td><td style = \"text-align: right;\">399304.0</td><td style = \"text-align: right;\">308884.0</td><td style = \"text-align: right;\">267212.0</td><td style = \"text-align: right;\">223043.0</td><td style = \"text-align: right;\">241795.0</td><td style = \"text-align: right;\">145296.0</td><td style = \"text-align: right;\">22844.0</td><td style = \"text-align: right;\">14132.0</td><td style = \"text-align: right;\">7847.0</td><td style = \"text-align: right;\">6260.0</td><td style = \"text-align: right;\">14745.0</td><td style = \"text-align: right;\">66171.0</td><td style = \"text-align: right;\">179028.0</td><td style = \"text-align: right;\">49741.0</td><td style = \"text-align: right;\">171156.0</td><td style = \"text-align: right;\">491772.0</td><td style = \"text-align: right;\">661420.0</td><td style = \"text-align: right;\">367527.0</td><td style = \"text-align: right;\">1017.0</td><td style = \"text-align: right;\">810.0</td><td style = \"text-align: right;\">1284.0</td><td style = \"text-align: right;\">4544.0</td><td style = \"text-align: right;\">211.0</td><td style = \"text-align: right;\">612.0</td><td style = \"text-align: right;\">670.0</td><td style = \"text-align: right;\">2104.0</td><td style = \"text-align: right;\">328.0</td><td style = \"text-align: right;\">5215.0</td><td style = \"text-align: right;\">14656.0</td><td style = \"text-align: right;\">12802.0</td><td style = \"text-align: right;\">26566.0</td><td style = \"text-align: right;\">24995.0</td><td style = \"text-align: right;\">21013.0</td><td style = \"text-align: right;\">35823.0</td><td style = \"text-align: right;\">31769.0</td><td style = \"text-align: right;\">25010.0</td><td style = \"text-align: right;\">34463.0</td><td style = \"text-align: right;\">49171.0</td><td style = \"text-align: right;\">41128.0</td><td style = \"text-align: right;\">0.0</td><td style = \"text-align: right;\">23186.0</td><td style = \"text-align: right;\">22200.0</td><td style = \"text-align: right;\">22599.0</td><td style = \"text-align: right;\">14470.0</td><td style = \"text-align: right;\">11899.0</td><td style = \"text-align: right;\">27178.0</td><td style = \"text-align: right;\">50457.0</td><td style = \"text-align: right;\">&ctdot;</td></tr><tr><td class = \"rowNumber\" style = \"font-weight: bold; text-align: right;\">3</td><td style = \"text-align: right;\">461.0</td><td style = \"text-align: right;\">256.0</td><td style = \"text-align: right;\">200.0</td><td style = \"text-align: right;\">152.0</td><td style = \"text-align: right;\">3.0</td><td style = \"text-align: right;\">271.0</td><td style = \"text-align: right;\">117.0</td><td style = \"text-align: right;\">65.0</td><td style = \"text-align: right;\">118.0</td><td style = \"text-align: right;\">196.0</td><td style = \"text-align: right;\">177.0</td><td style = \"text-align: right;\">122.0</td><td style = \"text-align: right;\">112.0</td><td style = \"text-align: right;\">140.0</td><td style = \"text-align: right;\">203.0</td><td style = \"text-align: right;\">131.0</td><td style = \"text-align: right;\">119.0</td><td style = \"text-align: right;\">165.0</td><td style = \"text-align: right;\">421.0</td><td style = \"text-align: right;\">267.0</td><td style = \"text-align: right;\">254.0</td><td style = \"text-align: right;\">419.0</td><td style = \"text-align: right;\">261.0</td><td style = \"text-align: right;\">508.0</td><td style = \"text-align: right;\">288.0</td><td style = \"text-align: right;\">236.0</td><td style = \"text-align: right;\">160.0</td><td style = \"text-align: right;\">330.0</td><td style = \"text-align: right;\">460.0</td><td style = \"text-align: right;\">227.0</td><td style = \"text-align: right;\">243.0</td><td style = \"text-align: right;\">325.0</td><td style = \"text-align: right;\">278.0</td><td style = \"text-align: right;\">137.0</td><td style = \"text-align: right;\">336.0</td><td style = \"text-align: right;\">302.0</td><td style = \"text-align: right;\">286.0</td><td style = \"text-align: right;\">423.0</td><td style = \"text-align: right;\">425.0</td><td style = \"text-align: right;\">426.0</td><td style = \"text-align: right;\">471.0</td><td style = \"text-align: right;\">549.0</td><td style = \"text-align: right;\">69.0</td><td style = \"text-align: right;\">97.0</td><td style = \"text-align: right;\">268.0</td><td style = \"text-align: right;\">15.0</td><td style = \"text-align: right;\">46.0</td><td style = \"text-align: right;\">2909.0</td><td style = \"text-align: right;\">2977.0</td><td style = \"text-align: right;\">2776.0</td><td style = \"text-align: right;\">2582.0</td><td style = \"text-align: right;\">1640.0</td><td style = \"text-align: right;\">442.0</td><td style = \"text-align: right;\">1524.0</td><td style = \"text-align: right;\">1028.0</td><td style = \"text-align: right;\">1036.0</td><td style = \"text-align: right;\">195.0</td><td style = \"text-align: right;\">161.0</td><td style = \"text-align: right;\">209.0</td><td style = \"text-align: right;\">466.0</td><td style = \"text-align: right;\">681.0</td><td style = \"text-align: right;\">613.0</td><td style = \"text-align: right;\">149.0</td><td style = \"text-align: right;\">331.0</td><td style = \"text-align: right;\">2356.0</td><td style = \"text-align: right;\">1429.0</td><td style = \"text-align: right;\">417.0</td><td style = \"text-align: right;\">2165.0</td><td style = \"text-align: right;\">1460.0</td><td style = \"text-align: right;\">1711.0</td><td style = \"text-align: right;\">1312.0</td><td style = \"text-align: right;\">109.0</td><td style = \"text-align: right;\">36.0</td><td style = \"text-align: right;\">41.0</td><td style = \"text-align: right;\">74.0</td><td style = \"text-align: right;\">26.0</td><td style = \"text-align: right;\">42.0</td><td style = \"text-align: right;\">24.0</td><td style = \"text-align: right;\">33.0</td><td style = \"text-align: right;\">72.0</td><td style = \"text-align: right;\">562.0</td><td style = \"text-align: right;\">2189.0</td><td style = \"text-align: right;\">2077.0</td><td style = \"text-align: right;\">2223.0</td><td style = \"text-align: right;\">2185.0</td><td style = \"text-align: right;\">1772.0</td><td style = \"text-align: right;\">1335.0</td><td style = \"text-align: right;\">1225.0</td><td style = \"text-align: right;\">1724.0</td><td style = \"text-align: right;\">542.0</td><td style = \"text-align: right;\">1056.0</td><td style = \"text-align: right;\">1680.0</td><td style = \"text-align: right;\">0.0</td><td style = \"text-align: right;\">2938.0</td><td style = \"text-align: right;\">2818.0</td><td style = \"text-align: right;\">3181.0</td><td style = \"text-align: right;\">701.0</td><td style = \"text-align: right;\">437.0</td><td style = \"text-align: right;\">1650.0</td><td style = \"text-align: right;\">1422.0</td><td style = \"text-align: right;\">&ctdot;</td></tr><tr><td class = \"rowNumber\" style = \"font-weight: bold; text-align: right;\">4</td><td style = \"text-align: right;\">4294.0</td><td style = \"text-align: right;\">5325.0</td><td style = \"text-align: right;\">6792.0</td><td style = \"text-align: right;\">7633.0</td><td style = \"text-align: right;\">57.0</td><td style = \"text-align: right;\">4170.0</td><td style = \"text-align: right;\">4132.0</td><td style = \"text-align: right;\">4534.0</td><td style = \"text-align: right;\">525.0</td><td style = \"text-align: right;\">1546.0</td><td style = \"text-align: right;\">2666.0</td><td style = \"text-align: right;\">3129.0</td><td style = \"text-align: right;\">5504.0</td><td style = \"text-align: right;\">1437.0</td><td style = \"text-align: right;\">2785.0</td><td style = \"text-align: right;\">3453.0</td><td style = \"text-align: right;\">5872.0</td><td style = \"text-align: right;\">1019.0</td><td style = \"text-align: right;\">3180.0</td><td style = \"text-align: right;\">4374.0</td><td style = \"text-align: right;\">5983.0</td><td style = \"text-align: right;\">15873.0</td><td style = \"text-align: right;\">2385.0</td><td style = \"text-align: right;\">6422.0</td><td style = \"text-align: right;\">6826.0</td><td style = \"text-align: right;\">8019.0</td><td style = \"text-align: right;\">842.0</td><td style = \"text-align: right;\">2908.0</td><td style = \"text-align: right;\">6319.0</td><td style = \"text-align: right;\">5848.0</td><td style = \"text-align: right;\">6153.0</td><td style = \"text-align: right;\">2618.0</td><td style = \"text-align: right;\">3807.0</td><td style = \"text-align: right;\">3588.0</td><td style = \"text-align: right;\">14075.0</td><td style = \"text-align: right;\">1363.0</td><td style = \"text-align: right;\">2399.0</td><td style = \"text-align: right;\">6302.0</td><td style = \"text-align: right;\">9329.0</td><td style = \"text-align: right;\">17580.0</td><td style = \"text-align: right;\">4586.0</td><td style = \"text-align: right;\">8297.0</td><td style = \"text-align: right;\">2010.0</td><td style = \"text-align: right;\">3422.0</td><td style = \"text-align: right;\">1377.0</td><td style = \"text-align: right;\">710.0</td><td style = \"text-align: right;\">1187.0</td><td style = \"text-align: right;\">36510.0</td><td style = \"text-align: right;\">32361.0</td><td style = \"text-align: right;\">30864.0</td><td style = \"text-align: right;\">92924.0</td><td style = \"text-align: right;\">59293.0</td><td style = \"text-align: right;\">14493.0</td><td style = \"text-align: right;\">149876.0</td><td style = \"text-align: right;\">114393.0</td><td style = \"text-align: right;\">102630.0</td><td style = \"text-align: right;\">45139.0</td><td style = \"text-align: right;\">50325.0</td><td style = \"text-align: right;\">32077.0</td><td style = \"text-align: right;\">8375.0</td><td style = \"text-align: right;\">9166.0</td><td style = \"text-align: right;\">5969.0</td><td style = \"text-align: right;\">3659.0</td><td style = \"text-align: right;\">10151.0</td><td style = \"text-align: right;\">57614.0</td><td style = \"text-align: right;\">110050.0</td><td style = \"text-align: right;\">27822.0</td><td style = \"text-align: right;\">106658.0</td><td style = \"text-align: right;\">206957.0</td><td style = \"text-align: right;\">240271.0</td><td style = \"text-align: right;\">156816.0</td><td style = \"text-align: right;\">1062.0</td><td style = \"text-align: right;\">626.0</td><td style = \"text-align: right;\">855.0</td><td style = \"text-align: right;\">2473.0</td><td style = \"text-align: right;\">213.0</td><td style = \"text-align: right;\">499.0</td><td style = \"text-align: right;\">451.0</td><td style = \"text-align: right;\">1235.0</td><td style = \"text-align: right;\">345.0</td><td style = \"text-align: right;\">1617.0</td><td style = \"text-align: right;\">4669.0</td><td style = \"text-align: right;\">4572.0</td><td style = \"text-align: right;\">9278.0</td><td style = \"text-align: right;\">8024.0</td><td style = \"text-align: right;\">6011.0</td><td style = \"text-align: right;\">8884.0</td><td style = \"text-align: right;\">8257.0</td><td style = \"text-align: right;\">7533.0</td><td style = \"text-align: right;\">6847.0</td><td style = \"text-align: right;\">9549.0</td><td style = \"text-align: right;\">10797.0</td><td style = \"text-align: right;\">0.0</td><td style = \"text-align: right;\">9515.0</td><td style = \"text-align: right;\">8650.0</td><td style = \"text-align: right;\">9261.0</td><td style = \"text-align: right;\">4008.0</td><td style = \"text-align: right;\">2997.0</td><td style = \"text-align: right;\">8336.0</td><td style = \"text-align: right;\">14116.0</td><td style = \"text-align: right;\">&ctdot;</td></tr><tr><td class = \"rowNumber\" style = \"font-weight: bold; text-align: right;\">5</td><td style = \"text-align: right;\">2827.0</td><td style = \"text-align: right;\">3556.0</td><td style = \"text-align: right;\">5306.0</td><td style = \"text-align: right;\">7026.0</td><td style = \"text-align: right;\">39.0</td><td style = \"text-align: right;\">2642.0</td><td style = \"text-align: right;\">2744.0</td><td style = \"text-align: right;\">2915.0</td><td style = \"text-align: right;\">357.0</td><td style = \"text-align: right;\">936.0</td><td style = \"text-align: right;\">1763.0</td><td style = \"text-align: right;\">2240.0</td><td style = \"text-align: right;\">3824.0</td><td style = \"text-align: right;\">796.0</td><td style = \"text-align: right;\">1665.0</td><td style = \"text-align: right;\">2167.0</td><td style = \"text-align: right;\">3269.0</td><td style = \"text-align: right;\">509.0</td><td style = \"text-align: right;\">2047.0</td><td style = \"text-align: right;\">3268.0</td><td style = \"text-align: right;\">4498.0</td><td style = \"text-align: right;\">13125.0</td><td style = \"text-align: right;\">1330.0</td><td style = \"text-align: right;\">4385.0</td><td style = \"text-align: right;\">4424.0</td><td style = \"text-align: right;\">5924.0</td><td style = \"text-align: right;\">523.0</td><td style = \"text-align: right;\">1608.0</td><td style = \"text-align: right;\">3845.0</td><td style = \"text-align: right;\">4014.0</td><td style = \"text-align: right;\">4108.0</td><td style = \"text-align: right;\">1358.0</td><td style = \"text-align: right;\">2034.0</td><td style = \"text-align: right;\">1759.0</td><td style = \"text-align: right;\">7099.0</td><td style = \"text-align: right;\">685.0</td><td style = \"text-align: right;\">1486.0</td><td style = \"text-align: right;\">3484.0</td><td style = \"text-align: right;\">5506.0</td><td style = \"text-align: right;\">9684.0</td><td style = \"text-align: right;\">2580.0</td><td style = \"text-align: right;\">4854.0</td><td style = \"text-align: right;\">1031.0</td><td style = \"text-align: right;\">1895.0</td><td style = \"text-align: right;\">791.0</td><td style = \"text-align: right;\">373.0</td><td style = \"text-align: right;\">631.0</td><td style = \"text-align: right;\">21956.0</td><td style = \"text-align: right;\">23483.0</td><td style = \"text-align: right;\">22294.0</td><td style = \"text-align: right;\">46277.0</td><td style = \"text-align: right;\">33707.0</td><td style = \"text-align: right;\">7626.0</td><td style = \"text-align: right;\">79897.0</td><td style = \"text-align: right;\">57846.0</td><td style = \"text-align: right;\">56967.0</td><td style = \"text-align: right;\">25842.0</td><td style = \"text-align: right;\">25732.0</td><td style = \"text-align: right;\">14473.0</td><td style = \"text-align: right;\">5276.0</td><td style = \"text-align: right;\">6048.0</td><td style = \"text-align: right;\">3852.0</td><td style = \"text-align: right;\">1810.0</td><td style = \"text-align: right;\">6676.0</td><td style = \"text-align: right;\">23651.0</td><td style = \"text-align: right;\">44467.0</td><td style = \"text-align: right;\">14450.0</td><td style = \"text-align: right;\">58251.0</td><td style = \"text-align: right;\">98782.0</td><td style = \"text-align: right;\">123080.0</td><td style = \"text-align: right;\">70724.0</td><td style = \"text-align: right;\">396.0</td><td style = \"text-align: right;\">266.0</td><td style = \"text-align: right;\">327.0</td><td style = \"text-align: right;\">920.0</td><td style = \"text-align: right;\">88.0</td><td style = \"text-align: right;\">188.0</td><td style = \"text-align: right;\">180.0</td><td style = \"text-align: right;\">438.0</td><td style = \"text-align: right;\">163.0</td><td style = \"text-align: right;\">2401.0</td><td style = \"text-align: right;\">9021.0</td><td style = \"text-align: right;\">9131.0</td><td style = \"text-align: right;\">15875.0</td><td style = \"text-align: right;\">15272.0</td><td style = \"text-align: right;\">11231.0</td><td style = \"text-align: right;\">17416.0</td><td style = \"text-align: right;\">12063.0</td><td style = \"text-align: right;\">10482.0</td><td style = \"text-align: right;\">8853.0</td><td style = \"text-align: right;\">11886.0</td><td style = \"text-align: right;\">16967.0</td><td style = \"text-align: right;\">0.0</td><td style = \"text-align: right;\">12496.0</td><td style = \"text-align: right;\">12151.0</td><td style = \"text-align: right;\">11895.0</td><td style = \"text-align: right;\">6132.0</td><td style = \"text-align: right;\">4184.0</td><td style = \"text-align: right;\">14282.0</td><td style = \"text-align: right;\">20009.0</td><td style = \"text-align: right;\">&ctdot;</td></tr></tbody></table></div>"
      ],
      "text/latex": [
       "\\begin{tabular}{r|cccccccc}\n",
       "\t& 1.4\\%-R1-T1 & 1.4\\%-R1-T2 & 1.4\\%-R1-T3 & 1.4\\%-R1-T4 & 1.4\\%-R2-T1 & 1.4\\%-R2-T2 & 1.4\\%-R2-T3 & \\\\\n",
       "\t\\hline\n",
       "\t& Float64 & Float64 & Float64 & Float64 & Float64 & Float64 & Float64 & \\\\\n",
       "\t\\hline\n",
       "\t1 & 174.0 & 109.0 & 85.0 & 68.0 & 3.0 & 91.0 & 56.0 & $\\dots$ \\\\\n",
       "\t2 & 7374.0 & 18479.0 & 44673.0 & 96279.0 & 104.0 & 13081.0 & 26243.0 & $\\dots$ \\\\\n",
       "\t3 & 461.0 & 256.0 & 200.0 & 152.0 & 3.0 & 271.0 & 117.0 & $\\dots$ \\\\\n",
       "\t4 & 4294.0 & 5325.0 & 6792.0 & 7633.0 & 57.0 & 4170.0 & 4132.0 & $\\dots$ \\\\\n",
       "\t5 & 2827.0 & 3556.0 & 5306.0 & 7026.0 & 39.0 & 2642.0 & 2744.0 & $\\dots$ \\\\\n",
       "\\end{tabular}\n"
      ],
      "text/plain": [
       "\u001b[1m5×346 DataFrame\u001b[0m\n",
       "\u001b[1m Row \u001b[0m│\u001b[1m 1.4%-R1-T1 \u001b[0m\u001b[1m 1.4%-R1-T2 \u001b[0m\u001b[1m 1.4%-R1-T3 \u001b[0m\u001b[1m 1.4%-R1-T4 \u001b[0m\u001b[1m 1.4%-R2-T1 \u001b[0m\u001b[1m 1.4%-R2-T2 \u001b[0m\u001b[1m\u001b[0m ⋯\n",
       "     │\u001b[90m Float64    \u001b[0m\u001b[90m Float64    \u001b[0m\u001b[90m Float64    \u001b[0m\u001b[90m Float64    \u001b[0m\u001b[90m Float64    \u001b[0m\u001b[90m Float64    \u001b[0m\u001b[90m\u001b[0m ⋯\n",
       "─────┼──────────────────────────────────────────────────────────────────────────\n",
       "   1 │      174.0       109.0        85.0        68.0         3.0        91.0  ⋯\n",
       "   2 │     7374.0     18479.0     44673.0     96279.0       104.0     13081.0\n",
       "   3 │      461.0       256.0       200.0       152.0         3.0       271.0\n",
       "   4 │     4294.0      5325.0      6792.0      7633.0        57.0      4170.0\n",
       "   5 │     2827.0      3556.0      5306.0      7026.0        39.0      2642.0  ⋯\n",
       "\u001b[36m                                                             340 columns omitted\u001b[0m"
      ]
     },
     "metadata": {},
     "output_type": "display_data"
    }
   ],
   "source": [
    "# Load CSV file\n",
    "df = CSV.read(\"$(git_root())/data/kinsler_2020/bc_counts.csv\", DF.DataFrame)\n",
    "\n",
    "first(df, 5)"
   ]
  },
  {
   "attachments": {},
   "cell_type": "markdown",
   "metadata": {},
   "source": [
    "Let's begin by extracting the name of all non-metadata columns."
   ]
  },
  {
   "cell_type": "code",
   "execution_count": 3,
   "metadata": {},
   "outputs": [
    {
     "name": "stdout",
     "output_type": "stream",
     "text": [
      "Number of column: 340\n"
     ]
    },
    {
     "data": {
      "text/plain": [
       "340-element Vector{String}:\n",
       " \"1.4%-R1-T1\"\n",
       " \"1.4%-R1-T2\"\n",
       " \"1.4%-R1-T3\"\n",
       " \"1.4%-R1-T4\"\n",
       " \"1.4%-R2-T1\"\n",
       " \"1.4%-R2-T2\"\n",
       " \"1.4%-R2-T3\"\n",
       " \"1.4%-R2-T4\"\n",
       " \"1.4%-T0\"\n",
       " \"1.5%-R1-T1\"\n",
       " ⋮\n",
       " \"Y1\"\n",
       " \"Y2\"\n",
       " \"Y3\"\n",
       " \"Y4\"\n",
       " \"Z0\"\n",
       " \"Z1\"\n",
       " \"Z2\"\n",
       " \"Z3\"\n",
       " \"Z4\""
      ]
     },
     "metadata": {},
     "output_type": "display_data"
    }
   ],
   "source": [
    "# List metadata columns\n",
    "metadata_col = [\"additional_muts\", \"barcode\", \"class\", \"gene\", \"ploidy\", \"type\"]\n",
    "\n",
    "# Extract dataset names\n",
    "cond_names = DF.names(df[:, DF.Not(metadata_col)])\n",
    "\n",
    "println(\"Number of column: $(length(cond_names))\")\n",
    "\n",
    "cond_names"
   ]
  },
  {
   "attachments": {},
   "cell_type": "markdown",
   "metadata": {},
   "source": [
    "Next, let's extract the columns that already have the \"right\" format. This means\n",
    "they are of the form `condition-R#-T#` or `condition-T0`. These columns, we can\n",
    "easily parse when producing a tidy dataframe."
   ]
  },
  {
   "cell_type": "code",
   "execution_count": 4,
   "metadata": {},
   "outputs": [
    {
     "name": "stdout",
     "output_type": "stream",
     "text": [
      "Number of correct columns: 81\n"
     ]
    },
    {
     "data": {
      "text/plain": [
       "81-element Vector{String}:\n",
       " \"1.4%-R1-T1\"\n",
       " \"1.4%-R1-T2\"\n",
       " \"1.4%-R1-T3\"\n",
       " \"1.4%-R1-T4\"\n",
       " \"1.4%-R2-T1\"\n",
       " \"1.4%-R2-T2\"\n",
       " \"1.4%-R2-T3\"\n",
       " \"1.4%-R2-T4\"\n",
       " \"1.4%-T0\"\n",
       " \"1.5%-R1-T1\"\n",
       " ⋮\n",
       " \"Ben2-R1-T1\"\n",
       " \"Ben2-R1-T2\"\n",
       " \"Ben2-R1-T3\"\n",
       " \"Ben2-R1-T4\"\n",
       " \"Ben2-R2-T1\"\n",
       " \"Ben2-R2-T2\"\n",
       " \"Ben2-R2-T3\"\n",
       " \"Ben2-R2-T4\"\n",
       " \"Ben2-T0\""
      ]
     },
     "metadata": {},
     "output_type": "display_data"
    }
   ],
   "source": [
    "# Extract \"correct names\n",
    "correct_names = cond_names[occursin.(\"-T\", cond_names)]\n",
    "\n",
    "println(\"Number of correct columns: $(length(correct_names))\")\n",
    "\n",
    "correct_names"
   ]
  },
  {
   "attachments": {},
   "cell_type": "markdown",
   "metadata": {},
   "source": [
    "Deducing from the information the authors sent, we can map a few of the other\n",
    "letter-based names to conditions. This is the list provided by the authors."
   ]
  },
  {
   "cell_type": "code",
   "execution_count": 5,
   "metadata": {},
   "outputs": [
    {
     "data": {
      "text/plain": [
       "Dict{String, Vector{String}} with 17 entries:\n",
       "  \"1%EtOH\"   => [\"EE\", \"FF\"]\n",
       "  \"0.5ugFlu\" => [\"W\", \"X\"]\n",
       "  \"M3\"       => [\"A\", \"B\", \"C\", \"D\"]\n",
       "  \"0.5%Raf\"  => [\"AA\", \"BB\"]\n",
       "  \"8.5uMGdA\" => [\"Q\", \"R\"]\n",
       "  \"0.2MKCl\"  => [\"O\"]\n",
       "  \"1%Gly\"    => [\"CC\", \"DD\"]\n",
       "  \"1%Raf\"    => [\"Y\", \"Z\"]\n",
       "  \"1.4%Gluc\" => [\"G\", \"H\"]\n",
       "  \"Baffle\"   => [\"E\", \"F\"]\n",
       "  \"0.5MNaCl\" => [\"M\", \"N\"]\n",
       "  \"0.5MKCl\"  => [\"P\"]\n",
       "  \"17uMGdA\"  => [\"S\", \"T\"]\n",
       "  \"1.8%Gluc\" => [\"I\", \"J\"]\n",
       "  \"SucRaf\"   => [\"GG\"]\n",
       "  \"0.2MNaCl\" => [\"K\", \"L\"]\n",
       "  \"2ugFlu\"   => [\"U\", \"V\"]"
      ]
     },
     "metadata": {},
     "output_type": "display_data"
    }
   ],
   "source": [
    "# Define the raw list sent by the authors on a Python Jupyter notebook\n",
    "bigbatch_conditions = Dict(\n",
    "    \"M3\" => [\"A\", \"B\", \"C\", \"D\"],\n",
    "    \"Baffle\" => [\"E\", \"F\"],\n",
    "    \"1.4%Gluc\" => [\"G\", \"H\"],\n",
    "    \"1.8%Gluc\" => [\"I\", \"J\"],\n",
    "    \"0.2MNaCl\" => [\"K\", \"L\"],\n",
    "    \"0.5MNaCl\" => [\"M\", \"N\"],\n",
    "    \"0.2MKCl\" => [\"O\"],\n",
    "    \"0.5MKCl\" => [\"P\"],\n",
    "    \"8.5uMGdA\" => [\"Q\", \"R\"],\n",
    "    \"17uMGdA\" => [\"S\", \"T\"],\n",
    "    \"2ugFlu\" => [\"U\", \"V\"],\n",
    "    \"0.5ugFlu\" => [\"W\", \"X\"],\n",
    "    \"1%Raf\" => [\"Y\", \"Z\"],\n",
    "    \"0.5%Raf\" => [\"AA\", \"BB\"],\n",
    "    \"1%Gly\" => [\"CC\", \"DD\"],\n",
    "    \"1%EtOH\" => [\"EE\", \"FF\"],\n",
    "    \"SucRaf\" => [\"GG\"],\n",
    ")"
   ]
  },
  {
   "attachments": {},
   "cell_type": "markdown",
   "metadata": {},
   "source": [
    "Let's invert the dictionary to have the letters map to a condition and a\n",
    "replicate number"
   ]
  },
  {
   "cell_type": "code",
   "execution_count": 6,
   "metadata": {},
   "outputs": [
    {
     "data": {
      "text/plain": [
       "Dict{Any, Any} with 33 entries:\n",
       "  \"Z\"  => \"1%Raf-R2\"\n",
       "  \"Q\"  => \"8.5uMGdA-R1\"\n",
       "  \"FF\" => \"1%EtOH-R2\"\n",
       "  \"W\"  => \"0.5ugFlu-R1\"\n",
       "  \"T\"  => \"17uMGdA-R2\"\n",
       "  \"C\"  => \"M3-R3\"\n",
       "  \"P\"  => \"0.5MKCl-R1\"\n",
       "  \"K\"  => \"0.2MNaCl-R1\"\n",
       "  \"V\"  => \"2ugFlu-R2\"\n",
       "  \"CC\" => \"1%Gly-R1\"\n",
       "  \"L\"  => \"0.2MNaCl-R2\"\n",
       "  \"O\"  => \"0.2MKCl-R1\"\n",
       "  \"BB\" => \"0.5%Raf-R2\"\n",
       "  \"B\"  => \"M3-R2\"\n",
       "  \"M\"  => \"0.5MNaCl-R1\"\n",
       "  \"N\"  => \"0.5MNaCl-R2\"\n",
       "  \"GG\" => \"SucRaf-R1\"\n",
       "  \"H\"  => \"1.4%Gluc-R2\"\n",
       "  \"A\"  => \"M3-R1\"\n",
       "  ⋮    => ⋮"
      ]
     },
     "metadata": {},
     "output_type": "display_data"
    }
   ],
   "source": [
    "# Initialize dictionary to save conditions\n",
    "cond_dict = Dict()\n",
    "\n",
    "# Loop through given conditions\n",
    "for (key, item) in bigbatch_conditions\n",
    "    # Merge dictionaries where each name gets a condition and a replica number\n",
    "    merge!(\n",
    "        cond_dict,\n",
    "        Dict([\"$(item[i])\" => \"$(key)-R$(i)\" for i = 1:length(item)])\n",
    "    )\n",
    "end # for\n",
    "\n",
    "cond_dict"
   ]
  },
  {
   "attachments": {},
   "cell_type": "markdown",
   "metadata": {},
   "source": [
    "The column names on the dataframe that match to either of these conditions must\n",
    "have either two characters--a letter and a number specifying the time point--or\n",
    "three characters--two letters and a number specifying the character--and start\n",
    "with a letter. Let's extract those column names by these features."
   ]
  },
  {
   "cell_type": "code",
   "execution_count": 7,
   "metadata": {},
   "outputs": [
    {
     "data": {
      "text/plain": [
       "165-element Vector{String}:\n",
       " \"A0\"\n",
       " \"A1\"\n",
       " \"A2\"\n",
       " \"A3\"\n",
       " \"A4\"\n",
       " \"AA0\"\n",
       " \"AA1\"\n",
       " \"AA2\"\n",
       " \"AA3\"\n",
       " \"AA4\"\n",
       " ⋮\n",
       " \"Y1\"\n",
       " \"Y2\"\n",
       " \"Y3\"\n",
       " \"Y4\"\n",
       " \"Z0\"\n",
       " \"Z1\"\n",
       " \"Z2\"\n",
       " \"Z3\"\n",
       " \"Z4\""
      ]
     },
     "metadata": {},
     "output_type": "display_data"
    }
   ],
   "source": [
    "# Extract column names by length and begining with string.\n",
    "# NOTE: ^\\D searches patterns whose first character is NOT a digit\n",
    "len_names = cond_names[\n",
    "    (length.(cond_names).≤3).&(match.(r\"^\\D\", cond_names).!==nothing)\n",
    "]"
   ]
  },
  {
   "attachments": {},
   "cell_type": "markdown",
   "metadata": {},
   "source": [
    "Let's loop through these names and generate the corresponding \"correct\"\n",
    "condition name."
   ]
  },
  {
   "cell_type": "code",
   "execution_count": 8,
   "metadata": {},
   "outputs": [
    {
     "data": {
      "text/plain": [
       "Dict{String, String} with 165 entries:\n",
       "  \"O1\"  => \"0.2MKCl-R1-T1\"\n",
       "  \"R2\"  => \"8.5uMGdA-R2-T2\"\n",
       "  \"X1\"  => \"0.5ugFlu-R2-T1\"\n",
       "  \"V3\"  => \"2ugFlu-R2-T3\"\n",
       "  \"G4\"  => \"1.4%Gluc-R1-T4\"\n",
       "  \"I4\"  => \"1.8%Gluc-R1-T4\"\n",
       "  \"O4\"  => \"0.2MKCl-R1-T4\"\n",
       "  \"BB3\" => \"0.5%Raf-R2-T3\"\n",
       "  \"BB2\" => \"0.5%Raf-R2-T2\"\n",
       "  \"N0\"  => \"0.5MNaCl-R2-T0\"\n",
       "  \"U4\"  => \"2ugFlu-R1-T4\"\n",
       "  \"T4\"  => \"17uMGdA-R2-T4\"\n",
       "  \"CC4\" => \"1%Gly-R1-T4\"\n",
       "  \"V1\"  => \"2ugFlu-R2-T1\"\n",
       "  \"S4\"  => \"17uMGdA-R1-T4\"\n",
       "  \"U2\"  => \"2ugFlu-R1-T2\"\n",
       "  \"DD2\" => \"1%Gly-R2-T2\"\n",
       "  \"G2\"  => \"1.4%Gluc-R1-T2\"\n",
       "  \"Y0\"  => \"1%Raf-R1-T0\"\n",
       "  ⋮     => ⋮"
      ]
     },
     "metadata": {},
     "output_type": "display_data"
    }
   ],
   "source": [
    "# Initialize dictionary where to save correct names\n",
    "letter_names_dict = Dict{String,String}()\n",
    "\n",
    "# Loop through columns that satisfied condition\n",
    "for i in len_names\n",
    "    letter_names_dict[i] = \"$(cond_dict[i[1:end-1]])-T$(i[end])\"\n",
    "end # for\n",
    "\n",
    "letter_names_dict"
   ]
  },
  {
   "attachments": {},
   "cell_type": "markdown",
   "metadata": {},
   "source": [
    "We can now use this dictionary to rename the columns of the original dataframe."
   ]
  },
  {
   "cell_type": "code",
   "execution_count": 9,
   "metadata": {},
   "outputs": [
    {
     "data": {
      "text/html": [
       "<div><div style = \"float: left;\"><span>5×346 DataFrame</span></div><div style = \"float: right;\"><span style = \"font-style: italic;\">246 columns omitted</span></div><div style = \"clear: both;\"></div></div><div class = \"data-frame\" style = \"overflow-x: scroll;\"><table class = \"data-frame\" style = \"margin-bottom: 6px;\"><thead><tr class = \"header\"><th class = \"rowNumber\" style = \"font-weight: bold; text-align: right;\">Row</th><th style = \"text-align: left;\">1.4%-R1-T1</th><th style = \"text-align: left;\">1.4%-R1-T2</th><th style = \"text-align: left;\">1.4%-R1-T3</th><th style = \"text-align: left;\">1.4%-R1-T4</th><th style = \"text-align: left;\">1.4%-R2-T1</th><th style = \"text-align: left;\">1.4%-R2-T2</th><th style = \"text-align: left;\">1.4%-R2-T3</th><th style = \"text-align: left;\">1.4%-R2-T4</th><th style = \"text-align: left;\">1.4%-T0</th><th style = \"text-align: left;\">1.5%-R1-T1</th><th style = \"text-align: left;\">1.5%-R1-T2</th><th style = \"text-align: left;\">1.5%-R1-T3</th><th style = \"text-align: left;\">1.5%-R1-T4</th><th style = \"text-align: left;\">1.5%-R2-T1</th><th style = \"text-align: left;\">1.5%-R2-T2</th><th style = \"text-align: left;\">1.5%-R2-T3</th><th style = \"text-align: left;\">1.5%-R2-T4</th><th style = \"text-align: left;\">1.5%-T0</th><th style = \"text-align: left;\">1.6%-R1-T1</th><th style = \"text-align: left;\">1.6%-R1-T2</th><th style = \"text-align: left;\">1.6%-R1-T3</th><th style = \"text-align: left;\">1.6%-R1-T4</th><th style = \"text-align: left;\">1.6%-R2-T1</th><th style = \"text-align: left;\">1.6%-R2-T2</th><th style = \"text-align: left;\">1.6%-R2-T3</th><th style = \"text-align: left;\">1.6%-R2-T4</th><th style = \"text-align: left;\">1.6%-T0</th><th style = \"text-align: left;\">1.7%-R1-T1</th><th style = \"text-align: left;\">1.7%-R1-T2</th><th style = \"text-align: left;\">1.7%-R1-T3</th><th style = \"text-align: left;\">1.7%-R1-T4</th><th style = \"text-align: left;\">1.7%-R2-T1</th><th style = \"text-align: left;\">1.7%-R2-T2</th><th style = \"text-align: left;\">1.7%-R2-T3</th><th style = \"text-align: left;\">1.7%-R2-T4</th><th style = \"text-align: left;\">1.7%-T0</th><th style = \"text-align: left;\">1.8%-R1-T1</th><th style = \"text-align: left;\">1.8%-R1-T2</th><th style = \"text-align: left;\">1.8%-R1-T3</th><th style = \"text-align: left;\">1.8%-R1-T4</th><th style = \"text-align: left;\">1.8%-R2-T1</th><th style = \"text-align: left;\">1.8%-R2-T2</th><th style = \"text-align: left;\">1.8%-R2-T3</th><th style = \"text-align: left;\">1.8%-R2-T4</th><th style = \"text-align: left;\">1.8%-T0</th><th style = \"text-align: left;\">13-0</th><th style = \"text-align: left;\">13-0_pool</th><th style = \"text-align: left;\">13-1-1</th><th style = \"text-align: left;\">13-1-2</th><th style = \"text-align: left;\">13-1-3</th><th style = \"text-align: left;\">13-2-1</th><th style = \"text-align: left;\">13-2-2</th><th style = \"text-align: left;\">13-2-3</th><th style = \"text-align: left;\">13-3-1</th><th style = \"text-align: left;\">13-3-2</th><th style = \"text-align: left;\">13-3-3</th><th style = \"text-align: left;\">13-4-1</th><th style = \"text-align: left;\">13-4-2</th><th style = \"text-align: left;\">13-4-3</th><th style = \"text-align: left;\">18-1-1</th><th style = \"text-align: left;\">18-1-2</th><th style = \"text-align: left;\">18-1-3</th><th style = \"text-align: left;\">18-2-1</th><th style = \"text-align: left;\">18-2-2</th><th style = \"text-align: left;\">18-2-3</th><th style = \"text-align: left;\">18-3-1</th><th style = \"text-align: left;\">18-3-2</th><th style = \"text-align: left;\">18-3-3</th><th style = \"text-align: left;\">18-4-1</th><th style = \"text-align: left;\">18-4-2</th><th style = \"text-align: left;\">18-4-3</th><th style = \"text-align: left;\">2.5%-R1-T1</th><th style = \"text-align: left;\">2.5%-R1-T2</th><th style = \"text-align: left;\">2.5%-R1-T3</th><th style = \"text-align: left;\">2.5%-R1-T4</th><th style = \"text-align: left;\">2.5%-R2-T1</th><th style = \"text-align: left;\">2.5%-R2-T2</th><th style = \"text-align: left;\">2.5%-R2-T3</th><th style = \"text-align: left;\">2.5%-R2-T4</th><th style = \"text-align: left;\">2.5%-T0</th><th style = \"text-align: left;\">20-1-1</th><th style = \"text-align: left;\">20-1-2</th><th style = \"text-align: left;\">20-1-3</th><th style = \"text-align: left;\">20-2-1</th><th style = \"text-align: left;\">20-2-2</th><th style = \"text-align: left;\">20-2-3</th><th style = \"text-align: left;\">20-3-1</th><th style = \"text-align: left;\">20-3-2</th><th style = \"text-align: left;\">20-3-3</th><th style = \"text-align: left;\">20-4-1</th><th style = \"text-align: left;\">20-4-2</th><th style = \"text-align: left;\">20-4-3</th><th style = \"text-align: left;\">21+wt</th><th style = \"text-align: left;\">21-0-1</th><th style = \"text-align: left;\">21-0-2</th><th style = \"text-align: left;\">21-0-4</th><th style = \"text-align: left;\">21-1-1</th><th style = \"text-align: left;\">21-1-2</th><th style = \"text-align: left;\">21-1-3</th><th style = \"text-align: left;\">21-2-1</th><th style = \"text-align: right;\">&ctdot;</th></tr><tr class = \"subheader headerLastRow\"><th class = \"rowNumber\" style = \"font-weight: bold; text-align: right;\"></th><th title = \"Float64\" style = \"text-align: left;\">Float64</th><th title = \"Float64\" style = \"text-align: left;\">Float64</th><th title = \"Float64\" style = \"text-align: left;\">Float64</th><th title = \"Float64\" style = \"text-align: left;\">Float64</th><th title = \"Float64\" style = \"text-align: left;\">Float64</th><th title = \"Float64\" style = \"text-align: left;\">Float64</th><th title = \"Float64\" style = \"text-align: left;\">Float64</th><th title = \"Float64\" style = \"text-align: left;\">Float64</th><th title = \"Float64\" style = \"text-align: left;\">Float64</th><th title = \"Float64\" style = \"text-align: left;\">Float64</th><th title = \"Float64\" style = \"text-align: left;\">Float64</th><th title = \"Float64\" style = \"text-align: left;\">Float64</th><th title = \"Float64\" style = \"text-align: left;\">Float64</th><th title = \"Float64\" style = \"text-align: left;\">Float64</th><th title = \"Float64\" style = \"text-align: left;\">Float64</th><th title = \"Float64\" style = \"text-align: left;\">Float64</th><th title = \"Float64\" style = \"text-align: left;\">Float64</th><th title = \"Float64\" style = \"text-align: left;\">Float64</th><th title = \"Float64\" style = \"text-align: left;\">Float64</th><th title = \"Float64\" style = \"text-align: left;\">Float64</th><th title = \"Float64\" style = \"text-align: left;\">Float64</th><th title = \"Float64\" style = \"text-align: left;\">Float64</th><th title = \"Float64\" style = \"text-align: left;\">Float64</th><th title = \"Float64\" style = \"text-align: left;\">Float64</th><th title = \"Float64\" style = \"text-align: left;\">Float64</th><th title = \"Float64\" style = \"text-align: left;\">Float64</th><th title = \"Float64\" style = \"text-align: left;\">Float64</th><th title = \"Float64\" style = \"text-align: left;\">Float64</th><th title = \"Float64\" style = \"text-align: left;\">Float64</th><th title = \"Float64\" style = \"text-align: left;\">Float64</th><th title = \"Float64\" style = \"text-align: left;\">Float64</th><th title = \"Float64\" style = \"text-align: left;\">Float64</th><th title = \"Float64\" style = \"text-align: left;\">Float64</th><th title = \"Float64\" style = \"text-align: left;\">Float64</th><th title = \"Float64\" style = \"text-align: left;\">Float64</th><th title = \"Float64\" style = \"text-align: left;\">Float64</th><th title = \"Float64\" style = \"text-align: left;\">Float64</th><th title = \"Float64\" style = \"text-align: left;\">Float64</th><th title = \"Float64\" style = \"text-align: left;\">Float64</th><th title = \"Float64\" style = \"text-align: left;\">Float64</th><th title = \"Float64\" style = \"text-align: left;\">Float64</th><th title = \"Float64\" style = \"text-align: left;\">Float64</th><th title = \"Float64\" style = \"text-align: left;\">Float64</th><th title = \"Float64\" style = \"text-align: left;\">Float64</th><th title = \"Float64\" style = \"text-align: left;\">Float64</th><th title = \"Float64\" style = \"text-align: left;\">Float64</th><th title = \"Float64\" style = \"text-align: left;\">Float64</th><th title = \"Float64\" style = \"text-align: left;\">Float64</th><th title = \"Float64\" style = \"text-align: left;\">Float64</th><th title = \"Float64\" style = \"text-align: left;\">Float64</th><th title = \"Float64\" style = \"text-align: left;\">Float64</th><th title = \"Float64\" style = \"text-align: left;\">Float64</th><th title = \"Float64\" style = \"text-align: left;\">Float64</th><th title = \"Float64\" style = \"text-align: left;\">Float64</th><th title = \"Float64\" style = \"text-align: left;\">Float64</th><th title = \"Float64\" style = \"text-align: left;\">Float64</th><th title = \"Float64\" style = \"text-align: left;\">Float64</th><th title = \"Float64\" style = \"text-align: left;\">Float64</th><th title = \"Float64\" style = \"text-align: left;\">Float64</th><th title = \"Float64\" style = \"text-align: left;\">Float64</th><th title = \"Float64\" style = \"text-align: left;\">Float64</th><th title = \"Float64\" style = \"text-align: left;\">Float64</th><th title = \"Float64\" style = \"text-align: left;\">Float64</th><th title = \"Float64\" style = \"text-align: left;\">Float64</th><th title = \"Float64\" style = \"text-align: left;\">Float64</th><th title = \"Float64\" style = \"text-align: left;\">Float64</th><th title = \"Float64\" style = \"text-align: left;\">Float64</th><th title = \"Float64\" style = \"text-align: left;\">Float64</th><th title = \"Float64\" style = \"text-align: left;\">Float64</th><th title = \"Float64\" style = \"text-align: left;\">Float64</th><th title = \"Float64\" style = \"text-align: left;\">Float64</th><th title = \"Float64\" style = \"text-align: left;\">Float64</th><th title = \"Float64\" style = \"text-align: left;\">Float64</th><th title = \"Float64\" style = \"text-align: left;\">Float64</th><th title = \"Float64\" style = \"text-align: left;\">Float64</th><th title = \"Float64\" style = \"text-align: left;\">Float64</th><th title = \"Float64\" style = \"text-align: left;\">Float64</th><th title = \"Float64\" style = \"text-align: left;\">Float64</th><th title = \"Float64\" style = \"text-align: left;\">Float64</th><th title = \"Float64\" style = \"text-align: left;\">Float64</th><th title = \"Float64\" style = \"text-align: left;\">Float64</th><th title = \"Float64\" style = \"text-align: left;\">Float64</th><th title = \"Float64\" style = \"text-align: left;\">Float64</th><th title = \"Float64\" style = \"text-align: left;\">Float64</th><th title = \"Float64\" style = \"text-align: left;\">Float64</th><th title = \"Float64\" style = \"text-align: left;\">Float64</th><th title = \"Float64\" style = \"text-align: left;\">Float64</th><th title = \"Float64\" style = \"text-align: left;\">Float64</th><th title = \"Float64\" style = \"text-align: left;\">Float64</th><th title = \"Float64\" style = \"text-align: left;\">Float64</th><th title = \"Float64\" style = \"text-align: left;\">Float64</th><th title = \"Float64\" style = \"text-align: left;\">Float64</th><th title = \"Float64\" style = \"text-align: left;\">Float64</th><th title = \"Float64\" style = \"text-align: left;\">Float64</th><th title = \"Float64\" style = \"text-align: left;\">Float64</th><th title = \"Float64\" style = \"text-align: left;\">Float64</th><th title = \"Float64\" style = \"text-align: left;\">Float64</th><th title = \"Float64\" style = \"text-align: left;\">Float64</th><th title = \"Float64\" style = \"text-align: left;\">Float64</th><th title = \"Float64\" style = \"text-align: left;\">Float64</th><th title = \"Float64\" style = \"text-align: right;\">&ctdot;</th></tr></thead><tbody><tr><td class = \"rowNumber\" style = \"font-weight: bold; text-align: right;\">1</td><td style = \"text-align: right;\">174.0</td><td style = \"text-align: right;\">109.0</td><td style = \"text-align: right;\">85.0</td><td style = \"text-align: right;\">68.0</td><td style = \"text-align: right;\">3.0</td><td style = \"text-align: right;\">91.0</td><td style = \"text-align: right;\">56.0</td><td style = \"text-align: right;\">42.0</td><td style = \"text-align: right;\">22.0</td><td style = \"text-align: right;\">74.0</td><td style = \"text-align: right;\">85.0</td><td style = \"text-align: right;\">64.0</td><td style = \"text-align: right;\">70.0</td><td style = \"text-align: right;\">66.0</td><td style = \"text-align: right;\">69.0</td><td style = \"text-align: right;\">66.0</td><td style = \"text-align: right;\">68.0</td><td style = \"text-align: right;\">51.0</td><td style = \"text-align: right;\">121.0</td><td style = \"text-align: right;\">113.0</td><td style = \"text-align: right;\">120.0</td><td style = \"text-align: right;\">245.0</td><td style = \"text-align: right;\">102.0</td><td style = \"text-align: right;\">212.0</td><td style = \"text-align: right;\">146.0</td><td style = \"text-align: right;\">116.0</td><td style = \"text-align: right;\">56.0</td><td style = \"text-align: right;\">130.0</td><td style = \"text-align: right;\">227.0</td><td style = \"text-align: right;\">122.0</td><td style = \"text-align: right;\">109.0</td><td style = \"text-align: right;\">108.0</td><td style = \"text-align: right;\">141.0</td><td style = \"text-align: right;\">85.0</td><td style = \"text-align: right;\">142.0</td><td style = \"text-align: right;\">95.0</td><td style = \"text-align: right;\">102.0</td><td style = \"text-align: right;\">181.0</td><td style = \"text-align: right;\">184.0</td><td style = \"text-align: right;\">216.0</td><td style = \"text-align: right;\">176.0</td><td style = \"text-align: right;\">239.0</td><td style = \"text-align: right;\">45.0</td><td style = \"text-align: right;\">42.0</td><td style = \"text-align: right;\">69.0</td><td style = \"text-align: right;\">2.0</td><td style = \"text-align: right;\">10.0</td><td style = \"text-align: right;\">512.0</td><td style = \"text-align: right;\">700.0</td><td style = \"text-align: right;\">594.0</td><td style = \"text-align: right;\">594.0</td><td style = \"text-align: right;\">403.0</td><td style = \"text-align: right;\">104.0</td><td style = \"text-align: right;\">319.0</td><td style = \"text-align: right;\">299.0</td><td style = \"text-align: right;\">361.0</td><td style = \"text-align: right;\">51.0</td><td style = \"text-align: right;\">70.0</td><td style = \"text-align: right;\">59.0</td><td style = \"text-align: right;\">90.0</td><td style = \"text-align: right;\">133.0</td><td style = \"text-align: right;\">122.0</td><td style = \"text-align: right;\">40.0</td><td style = \"text-align: right;\">65.0</td><td style = \"text-align: right;\">481.0</td><td style = \"text-align: right;\">365.0</td><td style = \"text-align: right;\">102.0</td><td style = \"text-align: right;\">574.0</td><td style = \"text-align: right;\">486.0</td><td style = \"text-align: right;\">516.0</td><td style = \"text-align: right;\">380.0</td><td style = \"text-align: right;\">27.0</td><td style = \"text-align: right;\">19.0</td><td style = \"text-align: right;\">17.0</td><td style = \"text-align: right;\">24.0</td><td style = \"text-align: right;\">10.0</td><td style = \"text-align: right;\">11.0</td><td style = \"text-align: right;\">7.0</td><td style = \"text-align: right;\">6.0</td><td style = \"text-align: right;\">20.0</td><td style = \"text-align: right;\">773.0</td><td style = \"text-align: right;\">2336.0</td><td style = \"text-align: right;\">2192.0</td><td style = \"text-align: right;\">2785.0</td><td style = \"text-align: right;\">2493.0</td><td style = \"text-align: right;\">2199.0</td><td style = \"text-align: right;\">1855.0</td><td style = \"text-align: right;\">1569.0</td><td style = \"text-align: right;\">1775.0</td><td style = \"text-align: right;\">954.0</td><td style = \"text-align: right;\">1495.0</td><td style = \"text-align: right;\">1990.0</td><td style = \"text-align: right;\">0.0</td><td style = \"text-align: right;\">3276.0</td><td style = \"text-align: right;\">3105.0</td><td style = \"text-align: right;\">3372.0</td><td style = \"text-align: right;\">962.0</td><td style = \"text-align: right;\">760.0</td><td style = \"text-align: right;\">1889.0</td><td style = \"text-align: right;\">1883.0</td><td style = \"text-align: right;\">&ctdot;</td></tr><tr><td class = \"rowNumber\" style = \"font-weight: bold; text-align: right;\">2</td><td style = \"text-align: right;\">7374.0</td><td style = \"text-align: right;\">18479.0</td><td style = \"text-align: right;\">44673.0</td><td style = \"text-align: right;\">96279.0</td><td style = \"text-align: right;\">104.0</td><td style = \"text-align: right;\">13081.0</td><td style = \"text-align: right;\">26243.0</td><td style = \"text-align: right;\">50295.0</td><td style = \"text-align: right;\">629.0</td><td style = \"text-align: right;\">2713.0</td><td style = \"text-align: right;\">8975.0</td><td style = \"text-align: right;\">19736.0</td><td style = \"text-align: right;\">63889.0</td><td style = \"text-align: right;\">2161.0</td><td style = \"text-align: right;\">8175.0</td><td style = \"text-align: right;\">19028.0</td><td style = \"text-align: right;\">50199.0</td><td style = \"text-align: right;\">1102.0</td><td style = \"text-align: right;\">5096.0</td><td style = \"text-align: right;\">13055.0</td><td style = \"text-align: right;\">30405.0</td><td style = \"text-align: right;\">141123.0</td><td style = \"text-align: right;\">3330.0</td><td style = \"text-align: right;\">17235.0</td><td style = \"text-align: right;\">32195.0</td><td style = \"text-align: right;\">65247.0</td><td style = \"text-align: right;\">975.0</td><td style = \"text-align: right;\">3784.0</td><td style = \"text-align: right;\">15314.0</td><td style = \"text-align: right;\">33243.0</td><td style = \"text-align: right;\">34457.0</td><td style = \"text-align: right;\">3473.0</td><td style = \"text-align: right;\">8792.0</td><td style = \"text-align: right;\">13059.0</td><td style = \"text-align: right;\">80332.0</td><td style = \"text-align: right;\">1314.0</td><td style = \"text-align: right;\">3447.0</td><td style = \"text-align: right;\">13525.0</td><td style = \"text-align: right;\">32522.0</td><td style = \"text-align: right;\">97939.0</td><td style = \"text-align: right;\">6641.0</td><td style = \"text-align: right;\">18834.0</td><td style = \"text-align: right;\">7138.0</td><td style = \"text-align: right;\">19516.0</td><td style = \"text-align: right;\">1379.0</td><td style = \"text-align: right;\">2625.0</td><td style = \"text-align: right;\">3914.0</td><td style = \"text-align: right;\">43106.0</td><td style = \"text-align: right;\">54385.0</td><td style = \"text-align: right;\">42068.0</td><td style = \"text-align: right;\">160273.0</td><td style = \"text-align: right;\">107883.0</td><td style = \"text-align: right;\">20536.0</td><td style = \"text-align: right;\">399304.0</td><td style = \"text-align: right;\">308884.0</td><td style = \"text-align: right;\">267212.0</td><td style = \"text-align: right;\">223043.0</td><td style = \"text-align: right;\">241795.0</td><td style = \"text-align: right;\">145296.0</td><td style = \"text-align: right;\">22844.0</td><td style = \"text-align: right;\">14132.0</td><td style = \"text-align: right;\">7847.0</td><td style = \"text-align: right;\">6260.0</td><td style = \"text-align: right;\">14745.0</td><td style = \"text-align: right;\">66171.0</td><td style = \"text-align: right;\">179028.0</td><td style = \"text-align: right;\">49741.0</td><td style = \"text-align: right;\">171156.0</td><td style = \"text-align: right;\">491772.0</td><td style = \"text-align: right;\">661420.0</td><td style = \"text-align: right;\">367527.0</td><td style = \"text-align: right;\">1017.0</td><td style = \"text-align: right;\">810.0</td><td style = \"text-align: right;\">1284.0</td><td style = \"text-align: right;\">4544.0</td><td style = \"text-align: right;\">211.0</td><td style = \"text-align: right;\">612.0</td><td style = \"text-align: right;\">670.0</td><td style = \"text-align: right;\">2104.0</td><td style = \"text-align: right;\">328.0</td><td style = \"text-align: right;\">5215.0</td><td style = \"text-align: right;\">14656.0</td><td style = \"text-align: right;\">12802.0</td><td style = \"text-align: right;\">26566.0</td><td style = \"text-align: right;\">24995.0</td><td style = \"text-align: right;\">21013.0</td><td style = \"text-align: right;\">35823.0</td><td style = \"text-align: right;\">31769.0</td><td style = \"text-align: right;\">25010.0</td><td style = \"text-align: right;\">34463.0</td><td style = \"text-align: right;\">49171.0</td><td style = \"text-align: right;\">41128.0</td><td style = \"text-align: right;\">0.0</td><td style = \"text-align: right;\">23186.0</td><td style = \"text-align: right;\">22200.0</td><td style = \"text-align: right;\">22599.0</td><td style = \"text-align: right;\">14470.0</td><td style = \"text-align: right;\">11899.0</td><td style = \"text-align: right;\">27178.0</td><td style = \"text-align: right;\">50457.0</td><td style = \"text-align: right;\">&ctdot;</td></tr><tr><td class = \"rowNumber\" style = \"font-weight: bold; text-align: right;\">3</td><td style = \"text-align: right;\">461.0</td><td style = \"text-align: right;\">256.0</td><td style = \"text-align: right;\">200.0</td><td style = \"text-align: right;\">152.0</td><td style = \"text-align: right;\">3.0</td><td style = \"text-align: right;\">271.0</td><td style = \"text-align: right;\">117.0</td><td style = \"text-align: right;\">65.0</td><td style = \"text-align: right;\">118.0</td><td style = \"text-align: right;\">196.0</td><td style = \"text-align: right;\">177.0</td><td style = \"text-align: right;\">122.0</td><td style = \"text-align: right;\">112.0</td><td style = \"text-align: right;\">140.0</td><td style = \"text-align: right;\">203.0</td><td style = \"text-align: right;\">131.0</td><td style = \"text-align: right;\">119.0</td><td style = \"text-align: right;\">165.0</td><td style = \"text-align: right;\">421.0</td><td style = \"text-align: right;\">267.0</td><td style = \"text-align: right;\">254.0</td><td style = \"text-align: right;\">419.0</td><td style = \"text-align: right;\">261.0</td><td style = \"text-align: right;\">508.0</td><td style = \"text-align: right;\">288.0</td><td style = \"text-align: right;\">236.0</td><td style = \"text-align: right;\">160.0</td><td style = \"text-align: right;\">330.0</td><td style = \"text-align: right;\">460.0</td><td style = \"text-align: right;\">227.0</td><td style = \"text-align: right;\">243.0</td><td style = \"text-align: right;\">325.0</td><td style = \"text-align: right;\">278.0</td><td style = \"text-align: right;\">137.0</td><td style = \"text-align: right;\">336.0</td><td style = \"text-align: right;\">302.0</td><td style = \"text-align: right;\">286.0</td><td style = \"text-align: right;\">423.0</td><td style = \"text-align: right;\">425.0</td><td style = \"text-align: right;\">426.0</td><td style = \"text-align: right;\">471.0</td><td style = \"text-align: right;\">549.0</td><td style = \"text-align: right;\">69.0</td><td style = \"text-align: right;\">97.0</td><td style = \"text-align: right;\">268.0</td><td style = \"text-align: right;\">15.0</td><td style = \"text-align: right;\">46.0</td><td style = \"text-align: right;\">2909.0</td><td style = \"text-align: right;\">2977.0</td><td style = \"text-align: right;\">2776.0</td><td style = \"text-align: right;\">2582.0</td><td style = \"text-align: right;\">1640.0</td><td style = \"text-align: right;\">442.0</td><td style = \"text-align: right;\">1524.0</td><td style = \"text-align: right;\">1028.0</td><td style = \"text-align: right;\">1036.0</td><td style = \"text-align: right;\">195.0</td><td style = \"text-align: right;\">161.0</td><td style = \"text-align: right;\">209.0</td><td style = \"text-align: right;\">466.0</td><td style = \"text-align: right;\">681.0</td><td style = \"text-align: right;\">613.0</td><td style = \"text-align: right;\">149.0</td><td style = \"text-align: right;\">331.0</td><td style = \"text-align: right;\">2356.0</td><td style = \"text-align: right;\">1429.0</td><td style = \"text-align: right;\">417.0</td><td style = \"text-align: right;\">2165.0</td><td style = \"text-align: right;\">1460.0</td><td style = \"text-align: right;\">1711.0</td><td style = \"text-align: right;\">1312.0</td><td style = \"text-align: right;\">109.0</td><td style = \"text-align: right;\">36.0</td><td style = \"text-align: right;\">41.0</td><td style = \"text-align: right;\">74.0</td><td style = \"text-align: right;\">26.0</td><td style = \"text-align: right;\">42.0</td><td style = \"text-align: right;\">24.0</td><td style = \"text-align: right;\">33.0</td><td style = \"text-align: right;\">72.0</td><td style = \"text-align: right;\">562.0</td><td style = \"text-align: right;\">2189.0</td><td style = \"text-align: right;\">2077.0</td><td style = \"text-align: right;\">2223.0</td><td style = \"text-align: right;\">2185.0</td><td style = \"text-align: right;\">1772.0</td><td style = \"text-align: right;\">1335.0</td><td style = \"text-align: right;\">1225.0</td><td style = \"text-align: right;\">1724.0</td><td style = \"text-align: right;\">542.0</td><td style = \"text-align: right;\">1056.0</td><td style = \"text-align: right;\">1680.0</td><td style = \"text-align: right;\">0.0</td><td style = \"text-align: right;\">2938.0</td><td style = \"text-align: right;\">2818.0</td><td style = \"text-align: right;\">3181.0</td><td style = \"text-align: right;\">701.0</td><td style = \"text-align: right;\">437.0</td><td style = \"text-align: right;\">1650.0</td><td style = \"text-align: right;\">1422.0</td><td style = \"text-align: right;\">&ctdot;</td></tr><tr><td class = \"rowNumber\" style = \"font-weight: bold; text-align: right;\">4</td><td style = \"text-align: right;\">4294.0</td><td style = \"text-align: right;\">5325.0</td><td style = \"text-align: right;\">6792.0</td><td style = \"text-align: right;\">7633.0</td><td style = \"text-align: right;\">57.0</td><td style = \"text-align: right;\">4170.0</td><td style = \"text-align: right;\">4132.0</td><td style = \"text-align: right;\">4534.0</td><td style = \"text-align: right;\">525.0</td><td style = \"text-align: right;\">1546.0</td><td style = \"text-align: right;\">2666.0</td><td style = \"text-align: right;\">3129.0</td><td style = \"text-align: right;\">5504.0</td><td style = \"text-align: right;\">1437.0</td><td style = \"text-align: right;\">2785.0</td><td style = \"text-align: right;\">3453.0</td><td style = \"text-align: right;\">5872.0</td><td style = \"text-align: right;\">1019.0</td><td style = \"text-align: right;\">3180.0</td><td style = \"text-align: right;\">4374.0</td><td style = \"text-align: right;\">5983.0</td><td style = \"text-align: right;\">15873.0</td><td style = \"text-align: right;\">2385.0</td><td style = \"text-align: right;\">6422.0</td><td style = \"text-align: right;\">6826.0</td><td style = \"text-align: right;\">8019.0</td><td style = \"text-align: right;\">842.0</td><td style = \"text-align: right;\">2908.0</td><td style = \"text-align: right;\">6319.0</td><td style = \"text-align: right;\">5848.0</td><td style = \"text-align: right;\">6153.0</td><td style = \"text-align: right;\">2618.0</td><td style = \"text-align: right;\">3807.0</td><td style = \"text-align: right;\">3588.0</td><td style = \"text-align: right;\">14075.0</td><td style = \"text-align: right;\">1363.0</td><td style = \"text-align: right;\">2399.0</td><td style = \"text-align: right;\">6302.0</td><td style = \"text-align: right;\">9329.0</td><td style = \"text-align: right;\">17580.0</td><td style = \"text-align: right;\">4586.0</td><td style = \"text-align: right;\">8297.0</td><td style = \"text-align: right;\">2010.0</td><td style = \"text-align: right;\">3422.0</td><td style = \"text-align: right;\">1377.0</td><td style = \"text-align: right;\">710.0</td><td style = \"text-align: right;\">1187.0</td><td style = \"text-align: right;\">36510.0</td><td style = \"text-align: right;\">32361.0</td><td style = \"text-align: right;\">30864.0</td><td style = \"text-align: right;\">92924.0</td><td style = \"text-align: right;\">59293.0</td><td style = \"text-align: right;\">14493.0</td><td style = \"text-align: right;\">149876.0</td><td style = \"text-align: right;\">114393.0</td><td style = \"text-align: right;\">102630.0</td><td style = \"text-align: right;\">45139.0</td><td style = \"text-align: right;\">50325.0</td><td style = \"text-align: right;\">32077.0</td><td style = \"text-align: right;\">8375.0</td><td style = \"text-align: right;\">9166.0</td><td style = \"text-align: right;\">5969.0</td><td style = \"text-align: right;\">3659.0</td><td style = \"text-align: right;\">10151.0</td><td style = \"text-align: right;\">57614.0</td><td style = \"text-align: right;\">110050.0</td><td style = \"text-align: right;\">27822.0</td><td style = \"text-align: right;\">106658.0</td><td style = \"text-align: right;\">206957.0</td><td style = \"text-align: right;\">240271.0</td><td style = \"text-align: right;\">156816.0</td><td style = \"text-align: right;\">1062.0</td><td style = \"text-align: right;\">626.0</td><td style = \"text-align: right;\">855.0</td><td style = \"text-align: right;\">2473.0</td><td style = \"text-align: right;\">213.0</td><td style = \"text-align: right;\">499.0</td><td style = \"text-align: right;\">451.0</td><td style = \"text-align: right;\">1235.0</td><td style = \"text-align: right;\">345.0</td><td style = \"text-align: right;\">1617.0</td><td style = \"text-align: right;\">4669.0</td><td style = \"text-align: right;\">4572.0</td><td style = \"text-align: right;\">9278.0</td><td style = \"text-align: right;\">8024.0</td><td style = \"text-align: right;\">6011.0</td><td style = \"text-align: right;\">8884.0</td><td style = \"text-align: right;\">8257.0</td><td style = \"text-align: right;\">7533.0</td><td style = \"text-align: right;\">6847.0</td><td style = \"text-align: right;\">9549.0</td><td style = \"text-align: right;\">10797.0</td><td style = \"text-align: right;\">0.0</td><td style = \"text-align: right;\">9515.0</td><td style = \"text-align: right;\">8650.0</td><td style = \"text-align: right;\">9261.0</td><td style = \"text-align: right;\">4008.0</td><td style = \"text-align: right;\">2997.0</td><td style = \"text-align: right;\">8336.0</td><td style = \"text-align: right;\">14116.0</td><td style = \"text-align: right;\">&ctdot;</td></tr><tr><td class = \"rowNumber\" style = \"font-weight: bold; text-align: right;\">5</td><td style = \"text-align: right;\">2827.0</td><td style = \"text-align: right;\">3556.0</td><td style = \"text-align: right;\">5306.0</td><td style = \"text-align: right;\">7026.0</td><td style = \"text-align: right;\">39.0</td><td style = \"text-align: right;\">2642.0</td><td style = \"text-align: right;\">2744.0</td><td style = \"text-align: right;\">2915.0</td><td style = \"text-align: right;\">357.0</td><td style = \"text-align: right;\">936.0</td><td style = \"text-align: right;\">1763.0</td><td style = \"text-align: right;\">2240.0</td><td style = \"text-align: right;\">3824.0</td><td style = \"text-align: right;\">796.0</td><td style = \"text-align: right;\">1665.0</td><td style = \"text-align: right;\">2167.0</td><td style = \"text-align: right;\">3269.0</td><td style = \"text-align: right;\">509.0</td><td style = \"text-align: right;\">2047.0</td><td style = \"text-align: right;\">3268.0</td><td style = \"text-align: right;\">4498.0</td><td style = \"text-align: right;\">13125.0</td><td style = \"text-align: right;\">1330.0</td><td style = \"text-align: right;\">4385.0</td><td style = \"text-align: right;\">4424.0</td><td style = \"text-align: right;\">5924.0</td><td style = \"text-align: right;\">523.0</td><td style = \"text-align: right;\">1608.0</td><td style = \"text-align: right;\">3845.0</td><td style = \"text-align: right;\">4014.0</td><td style = \"text-align: right;\">4108.0</td><td style = \"text-align: right;\">1358.0</td><td style = \"text-align: right;\">2034.0</td><td style = \"text-align: right;\">1759.0</td><td style = \"text-align: right;\">7099.0</td><td style = \"text-align: right;\">685.0</td><td style = \"text-align: right;\">1486.0</td><td style = \"text-align: right;\">3484.0</td><td style = \"text-align: right;\">5506.0</td><td style = \"text-align: right;\">9684.0</td><td style = \"text-align: right;\">2580.0</td><td style = \"text-align: right;\">4854.0</td><td style = \"text-align: right;\">1031.0</td><td style = \"text-align: right;\">1895.0</td><td style = \"text-align: right;\">791.0</td><td style = \"text-align: right;\">373.0</td><td style = \"text-align: right;\">631.0</td><td style = \"text-align: right;\">21956.0</td><td style = \"text-align: right;\">23483.0</td><td style = \"text-align: right;\">22294.0</td><td style = \"text-align: right;\">46277.0</td><td style = \"text-align: right;\">33707.0</td><td style = \"text-align: right;\">7626.0</td><td style = \"text-align: right;\">79897.0</td><td style = \"text-align: right;\">57846.0</td><td style = \"text-align: right;\">56967.0</td><td style = \"text-align: right;\">25842.0</td><td style = \"text-align: right;\">25732.0</td><td style = \"text-align: right;\">14473.0</td><td style = \"text-align: right;\">5276.0</td><td style = \"text-align: right;\">6048.0</td><td style = \"text-align: right;\">3852.0</td><td style = \"text-align: right;\">1810.0</td><td style = \"text-align: right;\">6676.0</td><td style = \"text-align: right;\">23651.0</td><td style = \"text-align: right;\">44467.0</td><td style = \"text-align: right;\">14450.0</td><td style = \"text-align: right;\">58251.0</td><td style = \"text-align: right;\">98782.0</td><td style = \"text-align: right;\">123080.0</td><td style = \"text-align: right;\">70724.0</td><td style = \"text-align: right;\">396.0</td><td style = \"text-align: right;\">266.0</td><td style = \"text-align: right;\">327.0</td><td style = \"text-align: right;\">920.0</td><td style = \"text-align: right;\">88.0</td><td style = \"text-align: right;\">188.0</td><td style = \"text-align: right;\">180.0</td><td style = \"text-align: right;\">438.0</td><td style = \"text-align: right;\">163.0</td><td style = \"text-align: right;\">2401.0</td><td style = \"text-align: right;\">9021.0</td><td style = \"text-align: right;\">9131.0</td><td style = \"text-align: right;\">15875.0</td><td style = \"text-align: right;\">15272.0</td><td style = \"text-align: right;\">11231.0</td><td style = \"text-align: right;\">17416.0</td><td style = \"text-align: right;\">12063.0</td><td style = \"text-align: right;\">10482.0</td><td style = \"text-align: right;\">8853.0</td><td style = \"text-align: right;\">11886.0</td><td style = \"text-align: right;\">16967.0</td><td style = \"text-align: right;\">0.0</td><td style = \"text-align: right;\">12496.0</td><td style = \"text-align: right;\">12151.0</td><td style = \"text-align: right;\">11895.0</td><td style = \"text-align: right;\">6132.0</td><td style = \"text-align: right;\">4184.0</td><td style = \"text-align: right;\">14282.0</td><td style = \"text-align: right;\">20009.0</td><td style = \"text-align: right;\">&ctdot;</td></tr></tbody></table></div>"
      ],
      "text/latex": [
       "\\begin{tabular}{r|cccccccc}\n",
       "\t& 1.4\\%-R1-T1 & 1.4\\%-R1-T2 & 1.4\\%-R1-T3 & 1.4\\%-R1-T4 & 1.4\\%-R2-T1 & 1.4\\%-R2-T2 & 1.4\\%-R2-T3 & \\\\\n",
       "\t\\hline\n",
       "\t& Float64 & Float64 & Float64 & Float64 & Float64 & Float64 & Float64 & \\\\\n",
       "\t\\hline\n",
       "\t1 & 174.0 & 109.0 & 85.0 & 68.0 & 3.0 & 91.0 & 56.0 & $\\dots$ \\\\\n",
       "\t2 & 7374.0 & 18479.0 & 44673.0 & 96279.0 & 104.0 & 13081.0 & 26243.0 & $\\dots$ \\\\\n",
       "\t3 & 461.0 & 256.0 & 200.0 & 152.0 & 3.0 & 271.0 & 117.0 & $\\dots$ \\\\\n",
       "\t4 & 4294.0 & 5325.0 & 6792.0 & 7633.0 & 57.0 & 4170.0 & 4132.0 & $\\dots$ \\\\\n",
       "\t5 & 2827.0 & 3556.0 & 5306.0 & 7026.0 & 39.0 & 2642.0 & 2744.0 & $\\dots$ \\\\\n",
       "\\end{tabular}\n"
      ],
      "text/plain": [
       "\u001b[1m5×346 DataFrame\u001b[0m\n",
       "\u001b[1m Row \u001b[0m│\u001b[1m 1.4%-R1-T1 \u001b[0m\u001b[1m 1.4%-R1-T2 \u001b[0m\u001b[1m 1.4%-R1-T3 \u001b[0m\u001b[1m 1.4%-R1-T4 \u001b[0m\u001b[1m 1.4%-R2-T1 \u001b[0m\u001b[1m 1.4%-R2-T2 \u001b[0m\u001b[1m\u001b[0m ⋯\n",
       "     │\u001b[90m Float64    \u001b[0m\u001b[90m Float64    \u001b[0m\u001b[90m Float64    \u001b[0m\u001b[90m Float64    \u001b[0m\u001b[90m Float64    \u001b[0m\u001b[90m Float64    \u001b[0m\u001b[90m\u001b[0m ⋯\n",
       "─────┼──────────────────────────────────────────────────────────────────────────\n",
       "   1 │      174.0       109.0        85.0        68.0         3.0        91.0  ⋯\n",
       "   2 │     7374.0     18479.0     44673.0     96279.0       104.0     13081.0\n",
       "   3 │      461.0       256.0       200.0       152.0         3.0       271.0\n",
       "   4 │     4294.0      5325.0      6792.0      7633.0        57.0      4170.0\n",
       "   5 │     2827.0      3556.0      5306.0      7026.0        39.0      2642.0  ⋯\n",
       "\u001b[36m                                                             340 columns omitted\u001b[0m"
      ]
     },
     "metadata": {},
     "output_type": "display_data"
    }
   ],
   "source": [
    "# Rename dataframe columns\n",
    "DF.rename!(df, letter_names_dict)\n",
    "\n",
    "first(df, 5)"
   ]
  },
  {
   "attachments": {},
   "cell_type": "markdown",
   "metadata": {},
   "source": [
    "Again, let's search for the \"correct columns\" and count them."
   ]
  },
  {
   "cell_type": "code",
   "execution_count": 10,
   "metadata": {},
   "outputs": [
    {
     "name": "stdout",
     "output_type": "stream",
     "text": [
      "Number of correct columns: 246\n"
     ]
    },
    {
     "data": {
      "text/plain": [
       "246-element Vector{String}:\n",
       " \"1.4%-R1-T1\"\n",
       " \"1.4%-R1-T2\"\n",
       " \"1.4%-R1-T3\"\n",
       " \"1.4%-R1-T4\"\n",
       " \"1.4%-R2-T1\"\n",
       " \"1.4%-R2-T2\"\n",
       " \"1.4%-R2-T3\"\n",
       " \"1.4%-R2-T4\"\n",
       " \"1.4%-T0\"\n",
       " \"1.5%-R1-T1\"\n",
       " ⋮\n",
       " \"1%Raf-R1-T1\"\n",
       " \"1%Raf-R1-T2\"\n",
       " \"1%Raf-R1-T3\"\n",
       " \"1%Raf-R1-T4\"\n",
       " \"1%Raf-R2-T0\"\n",
       " \"1%Raf-R2-T1\"\n",
       " \"1%Raf-R2-T2\"\n",
       " \"1%Raf-R2-T3\"\n",
       " \"1%Raf-R2-T4\""
      ]
     },
     "metadata": {},
     "output_type": "display_data"
    }
   ],
   "source": [
    "# Extract dataset names\n",
    "cond_names = DF.names(df[:, DF.Not(metadata_col)])\n",
    "\n",
    "# Extract \"correct\" names\n",
    "correct_names = cond_names[occursin.(\"-T\", cond_names)]\n",
    "\n",
    "println(\"Number of correct columns: $(length(correct_names))\")\n",
    "\n",
    "correct_names"
   ]
  },
  {
   "attachments": {},
   "cell_type": "markdown",
   "metadata": {},
   "source": [
    "We went from 81/340 to 246/340 correctly named columns! We still have 94 left to\n",
    "fix. The authors mentioned that a column of the format `20-4-3` implies:\n",
    "- Experiment number `20`.\n",
    "- Timepoint `4`.\n",
    "- Replicate `3`.\n",
    "\n",
    "Furthermore, a column on the format `20-0` means time zero for all replicates of\n",
    "experiment 20.\n",
    "\n",
    "Let's extract the missing columns with this name and look at the experiment\n",
    "numbers in the dataset."
   ]
  },
  {
   "cell_type": "code",
   "execution_count": 11,
   "metadata": {},
   "outputs": [
    {
     "data": {
      "text/plain": [
       "87-element Vector{String}:\n",
       " \"13-1-1\"\n",
       " \"13-1-2\"\n",
       " \"13-1-3\"\n",
       " \"13-2-1\"\n",
       " \"13-2-2\"\n",
       " \"13-2-3\"\n",
       " \"13-3-1\"\n",
       " \"13-3-2\"\n",
       " \"13-3-3\"\n",
       " \"13-4-1\"\n",
       " ⋮\n",
       " \"6-2-1\"\n",
       " \"6-2-2\"\n",
       " \"6-2-3\"\n",
       " \"6-3-1\"\n",
       " \"6-3-2\"\n",
       " \"6-3-3\"\n",
       " \"6-4-1\"\n",
       " \"6-4-2\"\n",
       " \"6-4-3\""
      ]
     },
     "metadata": {},
     "output_type": "display_data"
    }
   ],
   "source": [
    "# Extract unassigned columns\n",
    "incorrect_ = cond_names[.!occursin.(\"-T\", cond_names)]\n",
    "\n",
    "# Find the ones that when split by \"-\" return three values\n",
    "incorrect_names = incorrect_[\n",
    "    ([length(split(x, \"-\")) for x in incorrect_].==3)\n",
    "]"
   ]
  },
  {
   "cell_type": "markdown",
   "metadata": {},
   "source": [
    "Let's also extract the columns representing the `T0` values."
   ]
  },
  {
   "cell_type": "code",
   "execution_count": 12,
   "metadata": {},
   "outputs": [
    {
     "data": {
      "text/plain": [
       "4-element Vector{String}:\n",
       " \"13-0\"\n",
       " \"23-0\"\n",
       " \"3-0\"\n",
       " \"6-0\""
      ]
     },
     "metadata": {},
     "output_type": "display_data"
    }
   ],
   "source": [
    "# Find the ones that when split by \"-\" return two values, and that the last\n",
    "# character is a digit\n",
    "incorrect_zeros = incorrect_[\n",
    "    ([length(split(x, \"-\")) for x in incorrect_].==2) .&\n",
    "    (match.(r\"\\d$\", incorrect_).!==nothing)\n",
    "]"
   ]
  },
  {
   "attachments": {},
   "cell_type": "markdown",
   "metadata": {},
   "source": [
    "Four experiments have a `T0` measurement in the dataset. Let's look at the total\n",
    "number of experiments in this format."
   ]
  },
  {
   "cell_type": "code",
   "execution_count": 13,
   "metadata": {},
   "outputs": [
    {
     "data": {
      "text/plain": [
       "7-element Vector{Int64}:\n",
       "  3\n",
       "  6\n",
       " 13\n",
       " 18\n",
       " 20\n",
       " 21\n",
       " 23"
      ]
     },
     "metadata": {},
     "output_type": "display_data"
    }
   ],
   "source": [
    "# Extract experiment number\n",
    "exp_num = sort(\n",
    "    unique([parse(Int64, split(x, \"-\")[1]) for x in incorrect_names])\n",
    ")"
   ]
  },
  {
   "attachments": {},
   "cell_type": "markdown",
   "metadata": {},
   "source": [
    "There are seven experiment numbers in the dataset we can recover. The authors\n",
    "provided a table describing each of the experiments. We manually curated the\n",
    "table, adding a column `short` for a short description of the experiment in\n",
    "agreement with the format we are using. The experiments not included in this\n",
    "list, were given a `failed` short descripton. We will ignore these experiments."
   ]
  },
  {
   "cell_type": "code",
   "execution_count": 14,
   "metadata": {},
   "outputs": [
    {
     "data": {
      "text/html": [
       "<div><div style = \"float: left;\"><span>7×3 DataFrame</span></div><div style = \"clear: both;\"></div></div><div class = \"data-frame\" style = \"overflow-x: scroll;\"><table class = \"data-frame\" style = \"margin-bottom: 6px;\"><thead><tr class = \"header\"><th class = \"rowNumber\" style = \"font-weight: bold; text-align: right;\">Row</th><th style = \"text-align: left;\">number</th><th style = \"text-align: left;\">Description</th><th style = \"text-align: left;\">short</th></tr><tr class = \"subheader headerLastRow\"><th class = \"rowNumber\" style = \"font-weight: bold; text-align: right;\"></th><th title = \"Int64\" style = \"text-align: left;\">Int64</th><th title = \"String\" style = \"text-align: left;\">String</th><th title = \"InlineStrings.String7\" style = \"text-align: left;\">String7</th></tr></thead><tbody><tr><td class = \"rowNumber\" style = \"font-weight: bold; text-align: right;\">1</td><td style = \"text-align: right;\">3</td><td style = \"text-align: left;\">M3; 48h 1:250 transfer; 11/24/14</td><td style = \"text-align: left;\">M3</td></tr><tr><td class = \"rowNumber\" style = \"font-weight: bold; text-align: right;\">2</td><td style = \"text-align: right;\">6</td><td style = \"text-align: left;\">M3; 48h 5*10^7 cell transfer; with preculture; 12/26/14</td><td style = \"text-align: left;\">M3</td></tr><tr><td class = \"rowNumber\" style = \"font-weight: bold; text-align: right;\">3</td><td style = \"text-align: right;\">13</td><td style = \"text-align: left;\">M3; 48h growth 5*10^7 cell transfer; 5/1/15</td><td style = \"text-align: left;\">M3</td></tr><tr><td class = \"rowNumber\" style = \"font-weight: bold; text-align: right;\">4</td><td style = \"text-align: right;\">18</td><td style = \"text-align: left;\">M3; 48h growth 5*10^7 cell transfer; 5/9/15</td><td style = \"text-align: left;\">M3</td></tr><tr><td class = \"rowNumber\" style = \"font-weight: bold; text-align: right;\">5</td><td style = \"text-align: right;\">20</td><td style = \"text-align: left;\">M3; 500bc fresh pool (almost only adaptive clones); 48h 5*10^7 cell transfer; no preculture; 8/17/15</td><td style = \"text-align: left;\">M3</td></tr><tr><td class = \"rowNumber\" style = \"font-weight: bold; text-align: right;\">6</td><td style = \"text-align: right;\">21</td><td style = \"text-align: left;\">M3; 500bc fresh pool (almost only adaptive clones); 48h 5*10^7 cell transfer; with preculture; 8/17/15</td><td style = \"text-align: left;\">M3</td></tr><tr><td class = \"rowNumber\" style = \"font-weight: bold; text-align: right;\">7</td><td style = \"text-align: right;\">23</td><td style = \"text-align: left;\">M3; 500bc pool (almost only adaptive clones) w/ freeze thaw cycle; 48h 5*10^7 cell transfer; no preculture; 9/4/15</td><td style = \"text-align: left;\">M3</td></tr></tbody></table></div>"
      ],
      "text/latex": [
       "\\begin{tabular}{r|ccc}\n",
       "\t& number & Description & \\\\\n",
       "\t\\hline\n",
       "\t& Int64 & String & \\\\\n",
       "\t\\hline\n",
       "\t1 & 3 & M3; 48h 1:250 transfer; 11/24/14 & $\\dots$ \\\\\n",
       "\t2 & 6 & M3; 48h 5*10\\^7 cell transfer; with preculture; 12/26/14 & $\\dots$ \\\\\n",
       "\t3 & 13 & M3; 48h growth 5*10\\^7 cell transfer; 5/1/15 & $\\dots$ \\\\\n",
       "\t4 & 18 & M3; 48h growth 5*10\\^7 cell transfer; 5/9/15 & $\\dots$ \\\\\n",
       "\t5 & 20 & M3; 500bc fresh pool (almost only adaptive clones); 48h 5*10\\^7 cell transfer; no preculture; 8/17/15 & $\\dots$ \\\\\n",
       "\t6 & 21 & M3; 500bc fresh pool (almost only adaptive clones); 48h 5*10\\^7 cell transfer; with preculture; 8/17/15 & $\\dots$ \\\\\n",
       "\t7 & 23 & M3; 500bc pool (almost only adaptive clones) w/ freeze thaw cycle; 48h 5*10\\^7 cell transfer; no preculture; 9/4/15 & $\\dots$ \\\\\n",
       "\\end{tabular}\n"
      ],
      "text/plain": [
       "\u001b[1m7×3 DataFrame\u001b[0m\n",
       "\u001b[1m Row \u001b[0m│\u001b[1m number \u001b[0m\u001b[1m Description                       \u001b[0m\u001b[1m short   \u001b[0m\n",
       "     │\u001b[90m Int64  \u001b[0m\u001b[90m String                            \u001b[0m\u001b[90m String7 \u001b[0m\n",
       "─────┼────────────────────────────────────────────────────\n",
       "   1 │      3  M3; 48h 1:250 transfer; 11/24/14   M3\n",
       "   2 │      6  M3; 48h 5*10^7 cell transfer; wi…  M3\n",
       "   3 │     13  M3; 48h growth 5*10^7 cell trans…  M3\n",
       "   4 │     18  M3; 48h growth 5*10^7 cell trans…  M3\n",
       "   5 │     20  M3; 500bc fresh pool (almost onl…  M3\n",
       "   6 │     21  M3; 500bc fresh pool (almost onl…  M3\n",
       "   7 │     23  M3; 500bc pool (almost only adap…  M3"
      ]
     },
     "metadata": {},
     "output_type": "display_data"
    }
   ],
   "source": [
    "# Read description table\n",
    "exp_desc = CSV.read(\n",
    "    \"$(git_root())/data/kinsler_2020/exp_description.tsv\", DF.DataFrame\n",
    ")\n",
    "\n",
    "# remove \"failed\" experiments\n",
    "exp_desc = exp_desc[exp_desc.short.!=\"failed\", :]"
   ]
  },
  {
   "attachments": {},
   "cell_type": "markdown",
   "metadata": {},
   "source": [
    "All the experiments map to growth on M3, making the replicates number incorrect.\n",
    "We will deal with this issue later. For now, rather than simply calling the\n",
    "environment `M3`, we will add the experiment number as `M3_#`."
   ]
  },
  {
   "attachments": {},
   "cell_type": "markdown",
   "metadata": {},
   "source": [
    "With this information in hand, let's generate the right name for the missing\n",
    "columns."
   ]
  },
  {
   "cell_type": "code",
   "execution_count": 15,
   "metadata": {},
   "outputs": [
    {
     "data": {
      "text/plain": [
       "Dict{String, String} with 87 entries:\n",
       "  \"3-4-2\"  => \"M3_3-R2-T4\"\n",
       "  \"3-4-3\"  => \"M3_3-R3-T4\"\n",
       "  \"20-2-1\" => \"M3_20-R1-T2\"\n",
       "  \"3-4-1\"  => \"M3_3-R1-T4\"\n",
       "  \"20-3-2\" => \"M3_20-R2-T3\"\n",
       "  \"13-3-2\" => \"M3_13-R2-T3\"\n",
       "  \"20-3-3\" => \"M3_20-R3-T3\"\n",
       "  \"6-4-1\"  => \"M3_6-R1-T4\"\n",
       "  \"18-4-1\" => \"M3_18-R1-T4\"\n",
       "  \"20-1-1\" => \"M3_20-R1-T1\"\n",
       "  \"21-4-1\" => \"M3_21-R1-T4\"\n",
       "  \"13-3-3\" => \"M3_13-R3-T3\"\n",
       "  \"18-1-3\" => \"M3_18-R3-T1\"\n",
       "  \"23-2-3\" => \"M3_23-R3-T2\"\n",
       "  \"3-1-1\"  => \"M3_3-R1-T1\"\n",
       "  \"20-4-3\" => \"M3_20-R3-T4\"\n",
       "  \"20-1-2\" => \"M3_20-R2-T1\"\n",
       "  \"3-2-1\"  => \"M3_3-R1-T2\"\n",
       "  \"20-2-2\" => \"M3_20-R2-T2\"\n",
       "  ⋮        => ⋮"
      ]
     },
     "metadata": {},
     "output_type": "display_data"
    }
   ],
   "source": [
    "# Create dictionary from experiment number to environment\n",
    "num_to_env = Dict(zip(exp_desc[:, :number], exp_desc[:, :short]))\n",
    "\n",
    "# Initialize dictionary to rename columns\n",
    "number_names_dict = Dict{String,String}()\n",
    "\n",
    "# Loop through incorrect names\n",
    "for i in incorrect_names\n",
    "    # Split name and extract info\n",
    "    experiment, timepoint, replicate = split(i, \"-\")\n",
    "    \n",
    "    # Map to standard format\n",
    "    number_names_dict[i] = \"$(num_to_env[parse(Int64, experiment)])_$(experiment)-\" *\n",
    "                           \"R$(replicate)-T$(timepoint)\"\n",
    "end # for\n",
    "\n",
    "number_names_dict"
   ]
  },
  {
   "attachments": {},
   "cell_type": "markdown",
   "metadata": {},
   "source": [
    "Lastly, we need an equivalent dictionary for the `T0` columns. "
   ]
  },
  {
   "cell_type": "code",
   "execution_count": 16,
   "metadata": {},
   "outputs": [
    {
     "data": {
      "text/plain": [
       "Dict{String, String} with 4 entries:\n",
       "  \"6-0\"  => \"M3_6-T0\"\n",
       "  \"3-0\"  => \"M3_3-T0\"\n",
       "  \"13-0\" => \"M3_13-T0\"\n",
       "  \"23-0\" => \"M3_23-T0\""
      ]
     },
     "metadata": {},
     "output_type": "display_data"
    }
   ],
   "source": [
    "# Initialize dictionary to rename columns\n",
    "zero_names_dict = Dict{String,String}()\n",
    "\n",
    "# Loop through values\n",
    "for i in incorrect_zeros\n",
    "    zero_names_dict[i] = \"M3_$(split(i, \"-\")[1])-T0\"\n",
    "end # for\n",
    "\n",
    "zero_names_dict"
   ]
  },
  {
   "attachments": {},
   "cell_type": "markdown",
   "metadata": {},
   "source": [
    "As before, let's rename the columns to have the standard format."
   ]
  },
  {
   "cell_type": "code",
   "execution_count": 17,
   "metadata": {},
   "outputs": [
    {
     "data": {
      "text/html": [
       "<div><div style = \"float: left;\"><span>5×346 DataFrame</span></div><div style = \"float: right;\"><span style = \"font-style: italic;\">246 columns omitted</span></div><div style = \"clear: both;\"></div></div><div class = \"data-frame\" style = \"overflow-x: scroll;\"><table class = \"data-frame\" style = \"margin-bottom: 6px;\"><thead><tr class = \"header\"><th class = \"rowNumber\" style = \"font-weight: bold; text-align: right;\">Row</th><th style = \"text-align: left;\">1.4%-R1-T1</th><th style = \"text-align: left;\">1.4%-R1-T2</th><th style = \"text-align: left;\">1.4%-R1-T3</th><th style = \"text-align: left;\">1.4%-R1-T4</th><th style = \"text-align: left;\">1.4%-R2-T1</th><th style = \"text-align: left;\">1.4%-R2-T2</th><th style = \"text-align: left;\">1.4%-R2-T3</th><th style = \"text-align: left;\">1.4%-R2-T4</th><th style = \"text-align: left;\">1.4%-T0</th><th style = \"text-align: left;\">1.5%-R1-T1</th><th style = \"text-align: left;\">1.5%-R1-T2</th><th style = \"text-align: left;\">1.5%-R1-T3</th><th style = \"text-align: left;\">1.5%-R1-T4</th><th style = \"text-align: left;\">1.5%-R2-T1</th><th style = \"text-align: left;\">1.5%-R2-T2</th><th style = \"text-align: left;\">1.5%-R2-T3</th><th style = \"text-align: left;\">1.5%-R2-T4</th><th style = \"text-align: left;\">1.5%-T0</th><th style = \"text-align: left;\">1.6%-R1-T1</th><th style = \"text-align: left;\">1.6%-R1-T2</th><th style = \"text-align: left;\">1.6%-R1-T3</th><th style = \"text-align: left;\">1.6%-R1-T4</th><th style = \"text-align: left;\">1.6%-R2-T1</th><th style = \"text-align: left;\">1.6%-R2-T2</th><th style = \"text-align: left;\">1.6%-R2-T3</th><th style = \"text-align: left;\">1.6%-R2-T4</th><th style = \"text-align: left;\">1.6%-T0</th><th style = \"text-align: left;\">1.7%-R1-T1</th><th style = \"text-align: left;\">1.7%-R1-T2</th><th style = \"text-align: left;\">1.7%-R1-T3</th><th style = \"text-align: left;\">1.7%-R1-T4</th><th style = \"text-align: left;\">1.7%-R2-T1</th><th style = \"text-align: left;\">1.7%-R2-T2</th><th style = \"text-align: left;\">1.7%-R2-T3</th><th style = \"text-align: left;\">1.7%-R2-T4</th><th style = \"text-align: left;\">1.7%-T0</th><th style = \"text-align: left;\">1.8%-R1-T1</th><th style = \"text-align: left;\">1.8%-R1-T2</th><th style = \"text-align: left;\">1.8%-R1-T3</th><th style = \"text-align: left;\">1.8%-R1-T4</th><th style = \"text-align: left;\">1.8%-R2-T1</th><th style = \"text-align: left;\">1.8%-R2-T2</th><th style = \"text-align: left;\">1.8%-R2-T3</th><th style = \"text-align: left;\">1.8%-R2-T4</th><th style = \"text-align: left;\">1.8%-T0</th><th style = \"text-align: left;\">M3_13-T0</th><th style = \"text-align: left;\">13-0_pool</th><th style = \"text-align: left;\">M3_13-R1-T1</th><th style = \"text-align: left;\">M3_13-R2-T1</th><th style = \"text-align: left;\">M3_13-R3-T1</th><th style = \"text-align: left;\">M3_13-R1-T2</th><th style = \"text-align: left;\">M3_13-R2-T2</th><th style = \"text-align: left;\">M3_13-R3-T2</th><th style = \"text-align: left;\">M3_13-R1-T3</th><th style = \"text-align: left;\">M3_13-R2-T3</th><th style = \"text-align: left;\">M3_13-R3-T3</th><th style = \"text-align: left;\">M3_13-R1-T4</th><th style = \"text-align: left;\">M3_13-R2-T4</th><th style = \"text-align: left;\">M3_13-R3-T4</th><th style = \"text-align: left;\">M3_18-R1-T1</th><th style = \"text-align: left;\">M3_18-R2-T1</th><th style = \"text-align: left;\">M3_18-R3-T1</th><th style = \"text-align: left;\">M3_18-R1-T2</th><th style = \"text-align: left;\">M3_18-R2-T2</th><th style = \"text-align: left;\">M3_18-R3-T2</th><th style = \"text-align: left;\">M3_18-R1-T3</th><th style = \"text-align: left;\">M3_18-R2-T3</th><th style = \"text-align: left;\">M3_18-R3-T3</th><th style = \"text-align: left;\">M3_18-R1-T4</th><th style = \"text-align: left;\">M3_18-R2-T4</th><th style = \"text-align: left;\">M3_18-R3-T4</th><th style = \"text-align: left;\">2.5%-R1-T1</th><th style = \"text-align: left;\">2.5%-R1-T2</th><th style = \"text-align: left;\">2.5%-R1-T3</th><th style = \"text-align: left;\">2.5%-R1-T4</th><th style = \"text-align: left;\">2.5%-R2-T1</th><th style = \"text-align: left;\">2.5%-R2-T2</th><th style = \"text-align: left;\">2.5%-R2-T3</th><th style = \"text-align: left;\">2.5%-R2-T4</th><th style = \"text-align: left;\">2.5%-T0</th><th style = \"text-align: left;\">M3_20-R1-T1</th><th style = \"text-align: left;\">M3_20-R2-T1</th><th style = \"text-align: left;\">M3_20-R3-T1</th><th style = \"text-align: left;\">M3_20-R1-T2</th><th style = \"text-align: left;\">M3_20-R2-T2</th><th style = \"text-align: left;\">M3_20-R3-T2</th><th style = \"text-align: left;\">M3_20-R1-T3</th><th style = \"text-align: left;\">M3_20-R2-T3</th><th style = \"text-align: left;\">M3_20-R3-T3</th><th style = \"text-align: left;\">M3_20-R1-T4</th><th style = \"text-align: left;\">M3_20-R2-T4</th><th style = \"text-align: left;\">M3_20-R3-T4</th><th style = \"text-align: left;\">21+wt</th><th style = \"text-align: left;\">M3_21-R1-T0</th><th style = \"text-align: left;\">M3_21-R2-T0</th><th style = \"text-align: left;\">M3_21-R4-T0</th><th style = \"text-align: left;\">M3_21-R1-T1</th><th style = \"text-align: left;\">M3_21-R2-T1</th><th style = \"text-align: left;\">M3_21-R3-T1</th><th style = \"text-align: left;\">M3_21-R1-T2</th><th style = \"text-align: right;\">&ctdot;</th></tr><tr class = \"subheader headerLastRow\"><th class = \"rowNumber\" style = \"font-weight: bold; text-align: right;\"></th><th title = \"Float64\" style = \"text-align: left;\">Float64</th><th title = \"Float64\" style = \"text-align: left;\">Float64</th><th title = \"Float64\" style = \"text-align: left;\">Float64</th><th title = \"Float64\" style = \"text-align: left;\">Float64</th><th title = \"Float64\" style = \"text-align: left;\">Float64</th><th title = \"Float64\" style = \"text-align: left;\">Float64</th><th title = \"Float64\" style = \"text-align: left;\">Float64</th><th title = \"Float64\" style = \"text-align: left;\">Float64</th><th title = \"Float64\" style = \"text-align: left;\">Float64</th><th title = \"Float64\" style = \"text-align: left;\">Float64</th><th title = \"Float64\" style = \"text-align: left;\">Float64</th><th title = \"Float64\" style = \"text-align: left;\">Float64</th><th title = \"Float64\" style = \"text-align: left;\">Float64</th><th title = \"Float64\" style = \"text-align: left;\">Float64</th><th title = \"Float64\" style = \"text-align: left;\">Float64</th><th title = \"Float64\" style = \"text-align: left;\">Float64</th><th title = \"Float64\" style = \"text-align: left;\">Float64</th><th title = \"Float64\" style = \"text-align: left;\">Float64</th><th title = \"Float64\" style = \"text-align: left;\">Float64</th><th title = \"Float64\" style = \"text-align: left;\">Float64</th><th title = \"Float64\" style = \"text-align: left;\">Float64</th><th title = \"Float64\" style = \"text-align: left;\">Float64</th><th title = \"Float64\" style = \"text-align: left;\">Float64</th><th title = \"Float64\" style = \"text-align: left;\">Float64</th><th title = \"Float64\" style = \"text-align: left;\">Float64</th><th title = \"Float64\" style = \"text-align: left;\">Float64</th><th title = \"Float64\" style = \"text-align: left;\">Float64</th><th title = \"Float64\" style = \"text-align: left;\">Float64</th><th title = \"Float64\" style = \"text-align: left;\">Float64</th><th title = \"Float64\" style = \"text-align: left;\">Float64</th><th title = \"Float64\" style = \"text-align: left;\">Float64</th><th title = \"Float64\" style = \"text-align: left;\">Float64</th><th title = \"Float64\" style = \"text-align: left;\">Float64</th><th title = \"Float64\" style = \"text-align: left;\">Float64</th><th title = \"Float64\" style = \"text-align: left;\">Float64</th><th title = \"Float64\" style = \"text-align: left;\">Float64</th><th title = \"Float64\" style = \"text-align: left;\">Float64</th><th title = \"Float64\" style = \"text-align: left;\">Float64</th><th title = \"Float64\" style = \"text-align: left;\">Float64</th><th title = \"Float64\" style = \"text-align: left;\">Float64</th><th title = \"Float64\" style = \"text-align: left;\">Float64</th><th title = \"Float64\" style = \"text-align: left;\">Float64</th><th title = \"Float64\" style = \"text-align: left;\">Float64</th><th title = \"Float64\" style = \"text-align: left;\">Float64</th><th title = \"Float64\" style = \"text-align: left;\">Float64</th><th title = \"Float64\" style = \"text-align: left;\">Float64</th><th title = \"Float64\" style = \"text-align: left;\">Float64</th><th title = \"Float64\" style = \"text-align: left;\">Float64</th><th title = \"Float64\" style = \"text-align: left;\">Float64</th><th title = \"Float64\" style = \"text-align: left;\">Float64</th><th title = \"Float64\" style = \"text-align: left;\">Float64</th><th title = \"Float64\" style = \"text-align: left;\">Float64</th><th title = \"Float64\" style = \"text-align: left;\">Float64</th><th title = \"Float64\" style = \"text-align: left;\">Float64</th><th title = \"Float64\" style = \"text-align: left;\">Float64</th><th title = \"Float64\" style = \"text-align: left;\">Float64</th><th title = \"Float64\" style = \"text-align: left;\">Float64</th><th title = \"Float64\" style = \"text-align: left;\">Float64</th><th title = \"Float64\" style = \"text-align: left;\">Float64</th><th title = \"Float64\" style = \"text-align: left;\">Float64</th><th title = \"Float64\" style = \"text-align: left;\">Float64</th><th title = \"Float64\" style = \"text-align: left;\">Float64</th><th title = \"Float64\" style = \"text-align: left;\">Float64</th><th title = \"Float64\" style = \"text-align: left;\">Float64</th><th title = \"Float64\" style = \"text-align: left;\">Float64</th><th title = \"Float64\" style = \"text-align: left;\">Float64</th><th title = \"Float64\" style = \"text-align: left;\">Float64</th><th title = \"Float64\" style = \"text-align: left;\">Float64</th><th title = \"Float64\" style = \"text-align: left;\">Float64</th><th title = \"Float64\" style = \"text-align: left;\">Float64</th><th title = \"Float64\" style = \"text-align: left;\">Float64</th><th title = \"Float64\" style = \"text-align: left;\">Float64</th><th title = \"Float64\" style = \"text-align: left;\">Float64</th><th title = \"Float64\" style = \"text-align: left;\">Float64</th><th title = \"Float64\" style = \"text-align: left;\">Float64</th><th title = \"Float64\" style = \"text-align: left;\">Float64</th><th title = \"Float64\" style = \"text-align: left;\">Float64</th><th title = \"Float64\" style = \"text-align: left;\">Float64</th><th title = \"Float64\" style = \"text-align: left;\">Float64</th><th title = \"Float64\" style = \"text-align: left;\">Float64</th><th title = \"Float64\" style = \"text-align: left;\">Float64</th><th title = \"Float64\" style = \"text-align: left;\">Float64</th><th title = \"Float64\" style = \"text-align: left;\">Float64</th><th title = \"Float64\" style = \"text-align: left;\">Float64</th><th title = \"Float64\" style = \"text-align: left;\">Float64</th><th title = \"Float64\" style = \"text-align: left;\">Float64</th><th title = \"Float64\" style = \"text-align: left;\">Float64</th><th title = \"Float64\" style = \"text-align: left;\">Float64</th><th title = \"Float64\" style = \"text-align: left;\">Float64</th><th title = \"Float64\" style = \"text-align: left;\">Float64</th><th title = \"Float64\" style = \"text-align: left;\">Float64</th><th title = \"Float64\" style = \"text-align: left;\">Float64</th><th title = \"Float64\" style = \"text-align: left;\">Float64</th><th title = \"Float64\" style = \"text-align: left;\">Float64</th><th title = \"Float64\" style = \"text-align: left;\">Float64</th><th title = \"Float64\" style = \"text-align: left;\">Float64</th><th title = \"Float64\" style = \"text-align: left;\">Float64</th><th title = \"Float64\" style = \"text-align: left;\">Float64</th><th title = \"Float64\" style = \"text-align: left;\">Float64</th><th title = \"Float64\" style = \"text-align: left;\">Float64</th><th title = \"Float64\" style = \"text-align: right;\">&ctdot;</th></tr></thead><tbody><tr><td class = \"rowNumber\" style = \"font-weight: bold; text-align: right;\">1</td><td style = \"text-align: right;\">174.0</td><td style = \"text-align: right;\">109.0</td><td style = \"text-align: right;\">85.0</td><td style = \"text-align: right;\">68.0</td><td style = \"text-align: right;\">3.0</td><td style = \"text-align: right;\">91.0</td><td style = \"text-align: right;\">56.0</td><td style = \"text-align: right;\">42.0</td><td style = \"text-align: right;\">22.0</td><td style = \"text-align: right;\">74.0</td><td style = \"text-align: right;\">85.0</td><td style = \"text-align: right;\">64.0</td><td style = \"text-align: right;\">70.0</td><td style = \"text-align: right;\">66.0</td><td style = \"text-align: right;\">69.0</td><td style = \"text-align: right;\">66.0</td><td style = \"text-align: right;\">68.0</td><td style = \"text-align: right;\">51.0</td><td style = \"text-align: right;\">121.0</td><td style = \"text-align: right;\">113.0</td><td style = \"text-align: right;\">120.0</td><td style = \"text-align: right;\">245.0</td><td style = \"text-align: right;\">102.0</td><td style = \"text-align: right;\">212.0</td><td style = \"text-align: right;\">146.0</td><td style = \"text-align: right;\">116.0</td><td style = \"text-align: right;\">56.0</td><td style = \"text-align: right;\">130.0</td><td style = \"text-align: right;\">227.0</td><td style = \"text-align: right;\">122.0</td><td style = \"text-align: right;\">109.0</td><td style = \"text-align: right;\">108.0</td><td style = \"text-align: right;\">141.0</td><td style = \"text-align: right;\">85.0</td><td style = \"text-align: right;\">142.0</td><td style = \"text-align: right;\">95.0</td><td style = \"text-align: right;\">102.0</td><td style = \"text-align: right;\">181.0</td><td style = \"text-align: right;\">184.0</td><td style = \"text-align: right;\">216.0</td><td style = \"text-align: right;\">176.0</td><td style = \"text-align: right;\">239.0</td><td style = \"text-align: right;\">45.0</td><td style = \"text-align: right;\">42.0</td><td style = \"text-align: right;\">69.0</td><td style = \"text-align: right;\">2.0</td><td style = \"text-align: right;\">10.0</td><td style = \"text-align: right;\">512.0</td><td style = \"text-align: right;\">700.0</td><td style = \"text-align: right;\">594.0</td><td style = \"text-align: right;\">594.0</td><td style = \"text-align: right;\">403.0</td><td style = \"text-align: right;\">104.0</td><td style = \"text-align: right;\">319.0</td><td style = \"text-align: right;\">299.0</td><td style = \"text-align: right;\">361.0</td><td style = \"text-align: right;\">51.0</td><td style = \"text-align: right;\">70.0</td><td style = \"text-align: right;\">59.0</td><td style = \"text-align: right;\">90.0</td><td style = \"text-align: right;\">133.0</td><td style = \"text-align: right;\">122.0</td><td style = \"text-align: right;\">40.0</td><td style = \"text-align: right;\">65.0</td><td style = \"text-align: right;\">481.0</td><td style = \"text-align: right;\">365.0</td><td style = \"text-align: right;\">102.0</td><td style = \"text-align: right;\">574.0</td><td style = \"text-align: right;\">486.0</td><td style = \"text-align: right;\">516.0</td><td style = \"text-align: right;\">380.0</td><td style = \"text-align: right;\">27.0</td><td style = \"text-align: right;\">19.0</td><td style = \"text-align: right;\">17.0</td><td style = \"text-align: right;\">24.0</td><td style = \"text-align: right;\">10.0</td><td style = \"text-align: right;\">11.0</td><td style = \"text-align: right;\">7.0</td><td style = \"text-align: right;\">6.0</td><td style = \"text-align: right;\">20.0</td><td style = \"text-align: right;\">773.0</td><td style = \"text-align: right;\">2336.0</td><td style = \"text-align: right;\">2192.0</td><td style = \"text-align: right;\">2785.0</td><td style = \"text-align: right;\">2493.0</td><td style = \"text-align: right;\">2199.0</td><td style = \"text-align: right;\">1855.0</td><td style = \"text-align: right;\">1569.0</td><td style = \"text-align: right;\">1775.0</td><td style = \"text-align: right;\">954.0</td><td style = \"text-align: right;\">1495.0</td><td style = \"text-align: right;\">1990.0</td><td style = \"text-align: right;\">0.0</td><td style = \"text-align: right;\">3276.0</td><td style = \"text-align: right;\">3105.0</td><td style = \"text-align: right;\">3372.0</td><td style = \"text-align: right;\">962.0</td><td style = \"text-align: right;\">760.0</td><td style = \"text-align: right;\">1889.0</td><td style = \"text-align: right;\">1883.0</td><td style = \"text-align: right;\">&ctdot;</td></tr><tr><td class = \"rowNumber\" style = \"font-weight: bold; text-align: right;\">2</td><td style = \"text-align: right;\">7374.0</td><td style = \"text-align: right;\">18479.0</td><td style = \"text-align: right;\">44673.0</td><td style = \"text-align: right;\">96279.0</td><td style = \"text-align: right;\">104.0</td><td style = \"text-align: right;\">13081.0</td><td style = \"text-align: right;\">26243.0</td><td style = \"text-align: right;\">50295.0</td><td style = \"text-align: right;\">629.0</td><td style = \"text-align: right;\">2713.0</td><td style = \"text-align: right;\">8975.0</td><td style = \"text-align: right;\">19736.0</td><td style = \"text-align: right;\">63889.0</td><td style = \"text-align: right;\">2161.0</td><td style = \"text-align: right;\">8175.0</td><td style = \"text-align: right;\">19028.0</td><td style = \"text-align: right;\">50199.0</td><td style = \"text-align: right;\">1102.0</td><td style = \"text-align: right;\">5096.0</td><td style = \"text-align: right;\">13055.0</td><td style = \"text-align: right;\">30405.0</td><td style = \"text-align: right;\">141123.0</td><td style = \"text-align: right;\">3330.0</td><td style = \"text-align: right;\">17235.0</td><td style = \"text-align: right;\">32195.0</td><td style = \"text-align: right;\">65247.0</td><td style = \"text-align: right;\">975.0</td><td style = \"text-align: right;\">3784.0</td><td style = \"text-align: right;\">15314.0</td><td style = \"text-align: right;\">33243.0</td><td style = \"text-align: right;\">34457.0</td><td style = \"text-align: right;\">3473.0</td><td style = \"text-align: right;\">8792.0</td><td style = \"text-align: right;\">13059.0</td><td style = \"text-align: right;\">80332.0</td><td style = \"text-align: right;\">1314.0</td><td style = \"text-align: right;\">3447.0</td><td style = \"text-align: right;\">13525.0</td><td style = \"text-align: right;\">32522.0</td><td style = \"text-align: right;\">97939.0</td><td style = \"text-align: right;\">6641.0</td><td style = \"text-align: right;\">18834.0</td><td style = \"text-align: right;\">7138.0</td><td style = \"text-align: right;\">19516.0</td><td style = \"text-align: right;\">1379.0</td><td style = \"text-align: right;\">2625.0</td><td style = \"text-align: right;\">3914.0</td><td style = \"text-align: right;\">43106.0</td><td style = \"text-align: right;\">54385.0</td><td style = \"text-align: right;\">42068.0</td><td style = \"text-align: right;\">160273.0</td><td style = \"text-align: right;\">107883.0</td><td style = \"text-align: right;\">20536.0</td><td style = \"text-align: right;\">399304.0</td><td style = \"text-align: right;\">308884.0</td><td style = \"text-align: right;\">267212.0</td><td style = \"text-align: right;\">223043.0</td><td style = \"text-align: right;\">241795.0</td><td style = \"text-align: right;\">145296.0</td><td style = \"text-align: right;\">22844.0</td><td style = \"text-align: right;\">14132.0</td><td style = \"text-align: right;\">7847.0</td><td style = \"text-align: right;\">6260.0</td><td style = \"text-align: right;\">14745.0</td><td style = \"text-align: right;\">66171.0</td><td style = \"text-align: right;\">179028.0</td><td style = \"text-align: right;\">49741.0</td><td style = \"text-align: right;\">171156.0</td><td style = \"text-align: right;\">491772.0</td><td style = \"text-align: right;\">661420.0</td><td style = \"text-align: right;\">367527.0</td><td style = \"text-align: right;\">1017.0</td><td style = \"text-align: right;\">810.0</td><td style = \"text-align: right;\">1284.0</td><td style = \"text-align: right;\">4544.0</td><td style = \"text-align: right;\">211.0</td><td style = \"text-align: right;\">612.0</td><td style = \"text-align: right;\">670.0</td><td style = \"text-align: right;\">2104.0</td><td style = \"text-align: right;\">328.0</td><td style = \"text-align: right;\">5215.0</td><td style = \"text-align: right;\">14656.0</td><td style = \"text-align: right;\">12802.0</td><td style = \"text-align: right;\">26566.0</td><td style = \"text-align: right;\">24995.0</td><td style = \"text-align: right;\">21013.0</td><td style = \"text-align: right;\">35823.0</td><td style = \"text-align: right;\">31769.0</td><td style = \"text-align: right;\">25010.0</td><td style = \"text-align: right;\">34463.0</td><td style = \"text-align: right;\">49171.0</td><td style = \"text-align: right;\">41128.0</td><td style = \"text-align: right;\">0.0</td><td style = \"text-align: right;\">23186.0</td><td style = \"text-align: right;\">22200.0</td><td style = \"text-align: right;\">22599.0</td><td style = \"text-align: right;\">14470.0</td><td style = \"text-align: right;\">11899.0</td><td style = \"text-align: right;\">27178.0</td><td style = \"text-align: right;\">50457.0</td><td style = \"text-align: right;\">&ctdot;</td></tr><tr><td class = \"rowNumber\" style = \"font-weight: bold; text-align: right;\">3</td><td style = \"text-align: right;\">461.0</td><td style = \"text-align: right;\">256.0</td><td style = \"text-align: right;\">200.0</td><td style = \"text-align: right;\">152.0</td><td style = \"text-align: right;\">3.0</td><td style = \"text-align: right;\">271.0</td><td style = \"text-align: right;\">117.0</td><td style = \"text-align: right;\">65.0</td><td style = \"text-align: right;\">118.0</td><td style = \"text-align: right;\">196.0</td><td style = \"text-align: right;\">177.0</td><td style = \"text-align: right;\">122.0</td><td style = \"text-align: right;\">112.0</td><td style = \"text-align: right;\">140.0</td><td style = \"text-align: right;\">203.0</td><td style = \"text-align: right;\">131.0</td><td style = \"text-align: right;\">119.0</td><td style = \"text-align: right;\">165.0</td><td style = \"text-align: right;\">421.0</td><td style = \"text-align: right;\">267.0</td><td style = \"text-align: right;\">254.0</td><td style = \"text-align: right;\">419.0</td><td style = \"text-align: right;\">261.0</td><td style = \"text-align: right;\">508.0</td><td style = \"text-align: right;\">288.0</td><td style = \"text-align: right;\">236.0</td><td style = \"text-align: right;\">160.0</td><td style = \"text-align: right;\">330.0</td><td style = \"text-align: right;\">460.0</td><td style = \"text-align: right;\">227.0</td><td style = \"text-align: right;\">243.0</td><td style = \"text-align: right;\">325.0</td><td style = \"text-align: right;\">278.0</td><td style = \"text-align: right;\">137.0</td><td style = \"text-align: right;\">336.0</td><td style = \"text-align: right;\">302.0</td><td style = \"text-align: right;\">286.0</td><td style = \"text-align: right;\">423.0</td><td style = \"text-align: right;\">425.0</td><td style = \"text-align: right;\">426.0</td><td style = \"text-align: right;\">471.0</td><td style = \"text-align: right;\">549.0</td><td style = \"text-align: right;\">69.0</td><td style = \"text-align: right;\">97.0</td><td style = \"text-align: right;\">268.0</td><td style = \"text-align: right;\">15.0</td><td style = \"text-align: right;\">46.0</td><td style = \"text-align: right;\">2909.0</td><td style = \"text-align: right;\">2977.0</td><td style = \"text-align: right;\">2776.0</td><td style = \"text-align: right;\">2582.0</td><td style = \"text-align: right;\">1640.0</td><td style = \"text-align: right;\">442.0</td><td style = \"text-align: right;\">1524.0</td><td style = \"text-align: right;\">1028.0</td><td style = \"text-align: right;\">1036.0</td><td style = \"text-align: right;\">195.0</td><td style = \"text-align: right;\">161.0</td><td style = \"text-align: right;\">209.0</td><td style = \"text-align: right;\">466.0</td><td style = \"text-align: right;\">681.0</td><td style = \"text-align: right;\">613.0</td><td style = \"text-align: right;\">149.0</td><td style = \"text-align: right;\">331.0</td><td style = \"text-align: right;\">2356.0</td><td style = \"text-align: right;\">1429.0</td><td style = \"text-align: right;\">417.0</td><td style = \"text-align: right;\">2165.0</td><td style = \"text-align: right;\">1460.0</td><td style = \"text-align: right;\">1711.0</td><td style = \"text-align: right;\">1312.0</td><td style = \"text-align: right;\">109.0</td><td style = \"text-align: right;\">36.0</td><td style = \"text-align: right;\">41.0</td><td style = \"text-align: right;\">74.0</td><td style = \"text-align: right;\">26.0</td><td style = \"text-align: right;\">42.0</td><td style = \"text-align: right;\">24.0</td><td style = \"text-align: right;\">33.0</td><td style = \"text-align: right;\">72.0</td><td style = \"text-align: right;\">562.0</td><td style = \"text-align: right;\">2189.0</td><td style = \"text-align: right;\">2077.0</td><td style = \"text-align: right;\">2223.0</td><td style = \"text-align: right;\">2185.0</td><td style = \"text-align: right;\">1772.0</td><td style = \"text-align: right;\">1335.0</td><td style = \"text-align: right;\">1225.0</td><td style = \"text-align: right;\">1724.0</td><td style = \"text-align: right;\">542.0</td><td style = \"text-align: right;\">1056.0</td><td style = \"text-align: right;\">1680.0</td><td style = \"text-align: right;\">0.0</td><td style = \"text-align: right;\">2938.0</td><td style = \"text-align: right;\">2818.0</td><td style = \"text-align: right;\">3181.0</td><td style = \"text-align: right;\">701.0</td><td style = \"text-align: right;\">437.0</td><td style = \"text-align: right;\">1650.0</td><td style = \"text-align: right;\">1422.0</td><td style = \"text-align: right;\">&ctdot;</td></tr><tr><td class = \"rowNumber\" style = \"font-weight: bold; text-align: right;\">4</td><td style = \"text-align: right;\">4294.0</td><td style = \"text-align: right;\">5325.0</td><td style = \"text-align: right;\">6792.0</td><td style = \"text-align: right;\">7633.0</td><td style = \"text-align: right;\">57.0</td><td style = \"text-align: right;\">4170.0</td><td style = \"text-align: right;\">4132.0</td><td style = \"text-align: right;\">4534.0</td><td style = \"text-align: right;\">525.0</td><td style = \"text-align: right;\">1546.0</td><td style = \"text-align: right;\">2666.0</td><td style = \"text-align: right;\">3129.0</td><td style = \"text-align: right;\">5504.0</td><td style = \"text-align: right;\">1437.0</td><td style = \"text-align: right;\">2785.0</td><td style = \"text-align: right;\">3453.0</td><td style = \"text-align: right;\">5872.0</td><td style = \"text-align: right;\">1019.0</td><td style = \"text-align: right;\">3180.0</td><td style = \"text-align: right;\">4374.0</td><td style = \"text-align: right;\">5983.0</td><td style = \"text-align: right;\">15873.0</td><td style = \"text-align: right;\">2385.0</td><td style = \"text-align: right;\">6422.0</td><td style = \"text-align: right;\">6826.0</td><td style = \"text-align: right;\">8019.0</td><td style = \"text-align: right;\">842.0</td><td style = \"text-align: right;\">2908.0</td><td style = \"text-align: right;\">6319.0</td><td style = \"text-align: right;\">5848.0</td><td style = \"text-align: right;\">6153.0</td><td style = \"text-align: right;\">2618.0</td><td style = \"text-align: right;\">3807.0</td><td style = \"text-align: right;\">3588.0</td><td style = \"text-align: right;\">14075.0</td><td style = \"text-align: right;\">1363.0</td><td style = \"text-align: right;\">2399.0</td><td style = \"text-align: right;\">6302.0</td><td style = \"text-align: right;\">9329.0</td><td style = \"text-align: right;\">17580.0</td><td style = \"text-align: right;\">4586.0</td><td style = \"text-align: right;\">8297.0</td><td style = \"text-align: right;\">2010.0</td><td style = \"text-align: right;\">3422.0</td><td style = \"text-align: right;\">1377.0</td><td style = \"text-align: right;\">710.0</td><td style = \"text-align: right;\">1187.0</td><td style = \"text-align: right;\">36510.0</td><td style = \"text-align: right;\">32361.0</td><td style = \"text-align: right;\">30864.0</td><td style = \"text-align: right;\">92924.0</td><td style = \"text-align: right;\">59293.0</td><td style = \"text-align: right;\">14493.0</td><td style = \"text-align: right;\">149876.0</td><td style = \"text-align: right;\">114393.0</td><td style = \"text-align: right;\">102630.0</td><td style = \"text-align: right;\">45139.0</td><td style = \"text-align: right;\">50325.0</td><td style = \"text-align: right;\">32077.0</td><td style = \"text-align: right;\">8375.0</td><td style = \"text-align: right;\">9166.0</td><td style = \"text-align: right;\">5969.0</td><td style = \"text-align: right;\">3659.0</td><td style = \"text-align: right;\">10151.0</td><td style = \"text-align: right;\">57614.0</td><td style = \"text-align: right;\">110050.0</td><td style = \"text-align: right;\">27822.0</td><td style = \"text-align: right;\">106658.0</td><td style = \"text-align: right;\">206957.0</td><td style = \"text-align: right;\">240271.0</td><td style = \"text-align: right;\">156816.0</td><td style = \"text-align: right;\">1062.0</td><td style = \"text-align: right;\">626.0</td><td style = \"text-align: right;\">855.0</td><td style = \"text-align: right;\">2473.0</td><td style = \"text-align: right;\">213.0</td><td style = \"text-align: right;\">499.0</td><td style = \"text-align: right;\">451.0</td><td style = \"text-align: right;\">1235.0</td><td style = \"text-align: right;\">345.0</td><td style = \"text-align: right;\">1617.0</td><td style = \"text-align: right;\">4669.0</td><td style = \"text-align: right;\">4572.0</td><td style = \"text-align: right;\">9278.0</td><td style = \"text-align: right;\">8024.0</td><td style = \"text-align: right;\">6011.0</td><td style = \"text-align: right;\">8884.0</td><td style = \"text-align: right;\">8257.0</td><td style = \"text-align: right;\">7533.0</td><td style = \"text-align: right;\">6847.0</td><td style = \"text-align: right;\">9549.0</td><td style = \"text-align: right;\">10797.0</td><td style = \"text-align: right;\">0.0</td><td style = \"text-align: right;\">9515.0</td><td style = \"text-align: right;\">8650.0</td><td style = \"text-align: right;\">9261.0</td><td style = \"text-align: right;\">4008.0</td><td style = \"text-align: right;\">2997.0</td><td style = \"text-align: right;\">8336.0</td><td style = \"text-align: right;\">14116.0</td><td style = \"text-align: right;\">&ctdot;</td></tr><tr><td class = \"rowNumber\" style = \"font-weight: bold; text-align: right;\">5</td><td style = \"text-align: right;\">2827.0</td><td style = \"text-align: right;\">3556.0</td><td style = \"text-align: right;\">5306.0</td><td style = \"text-align: right;\">7026.0</td><td style = \"text-align: right;\">39.0</td><td style = \"text-align: right;\">2642.0</td><td style = \"text-align: right;\">2744.0</td><td style = \"text-align: right;\">2915.0</td><td style = \"text-align: right;\">357.0</td><td style = \"text-align: right;\">936.0</td><td style = \"text-align: right;\">1763.0</td><td style = \"text-align: right;\">2240.0</td><td style = \"text-align: right;\">3824.0</td><td style = \"text-align: right;\">796.0</td><td style = \"text-align: right;\">1665.0</td><td style = \"text-align: right;\">2167.0</td><td style = \"text-align: right;\">3269.0</td><td style = \"text-align: right;\">509.0</td><td style = \"text-align: right;\">2047.0</td><td style = \"text-align: right;\">3268.0</td><td style = \"text-align: right;\">4498.0</td><td style = \"text-align: right;\">13125.0</td><td style = \"text-align: right;\">1330.0</td><td style = \"text-align: right;\">4385.0</td><td style = \"text-align: right;\">4424.0</td><td style = \"text-align: right;\">5924.0</td><td style = \"text-align: right;\">523.0</td><td style = \"text-align: right;\">1608.0</td><td style = \"text-align: right;\">3845.0</td><td style = \"text-align: right;\">4014.0</td><td style = \"text-align: right;\">4108.0</td><td style = \"text-align: right;\">1358.0</td><td style = \"text-align: right;\">2034.0</td><td style = \"text-align: right;\">1759.0</td><td style = \"text-align: right;\">7099.0</td><td style = \"text-align: right;\">685.0</td><td style = \"text-align: right;\">1486.0</td><td style = \"text-align: right;\">3484.0</td><td style = \"text-align: right;\">5506.0</td><td style = \"text-align: right;\">9684.0</td><td style = \"text-align: right;\">2580.0</td><td style = \"text-align: right;\">4854.0</td><td style = \"text-align: right;\">1031.0</td><td style = \"text-align: right;\">1895.0</td><td style = \"text-align: right;\">791.0</td><td style = \"text-align: right;\">373.0</td><td style = \"text-align: right;\">631.0</td><td style = \"text-align: right;\">21956.0</td><td style = \"text-align: right;\">23483.0</td><td style = \"text-align: right;\">22294.0</td><td style = \"text-align: right;\">46277.0</td><td style = \"text-align: right;\">33707.0</td><td style = \"text-align: right;\">7626.0</td><td style = \"text-align: right;\">79897.0</td><td style = \"text-align: right;\">57846.0</td><td style = \"text-align: right;\">56967.0</td><td style = \"text-align: right;\">25842.0</td><td style = \"text-align: right;\">25732.0</td><td style = \"text-align: right;\">14473.0</td><td style = \"text-align: right;\">5276.0</td><td style = \"text-align: right;\">6048.0</td><td style = \"text-align: right;\">3852.0</td><td style = \"text-align: right;\">1810.0</td><td style = \"text-align: right;\">6676.0</td><td style = \"text-align: right;\">23651.0</td><td style = \"text-align: right;\">44467.0</td><td style = \"text-align: right;\">14450.0</td><td style = \"text-align: right;\">58251.0</td><td style = \"text-align: right;\">98782.0</td><td style = \"text-align: right;\">123080.0</td><td style = \"text-align: right;\">70724.0</td><td style = \"text-align: right;\">396.0</td><td style = \"text-align: right;\">266.0</td><td style = \"text-align: right;\">327.0</td><td style = \"text-align: right;\">920.0</td><td style = \"text-align: right;\">88.0</td><td style = \"text-align: right;\">188.0</td><td style = \"text-align: right;\">180.0</td><td style = \"text-align: right;\">438.0</td><td style = \"text-align: right;\">163.0</td><td style = \"text-align: right;\">2401.0</td><td style = \"text-align: right;\">9021.0</td><td style = \"text-align: right;\">9131.0</td><td style = \"text-align: right;\">15875.0</td><td style = \"text-align: right;\">15272.0</td><td style = \"text-align: right;\">11231.0</td><td style = \"text-align: right;\">17416.0</td><td style = \"text-align: right;\">12063.0</td><td style = \"text-align: right;\">10482.0</td><td style = \"text-align: right;\">8853.0</td><td style = \"text-align: right;\">11886.0</td><td style = \"text-align: right;\">16967.0</td><td style = \"text-align: right;\">0.0</td><td style = \"text-align: right;\">12496.0</td><td style = \"text-align: right;\">12151.0</td><td style = \"text-align: right;\">11895.0</td><td style = \"text-align: right;\">6132.0</td><td style = \"text-align: right;\">4184.0</td><td style = \"text-align: right;\">14282.0</td><td style = \"text-align: right;\">20009.0</td><td style = \"text-align: right;\">&ctdot;</td></tr></tbody></table></div>"
      ],
      "text/latex": [
       "\\begin{tabular}{r|cccccccc}\n",
       "\t& 1.4\\%-R1-T1 & 1.4\\%-R1-T2 & 1.4\\%-R1-T3 & 1.4\\%-R1-T4 & 1.4\\%-R2-T1 & 1.4\\%-R2-T2 & 1.4\\%-R2-T3 & \\\\\n",
       "\t\\hline\n",
       "\t& Float64 & Float64 & Float64 & Float64 & Float64 & Float64 & Float64 & \\\\\n",
       "\t\\hline\n",
       "\t1 & 174.0 & 109.0 & 85.0 & 68.0 & 3.0 & 91.0 & 56.0 & $\\dots$ \\\\\n",
       "\t2 & 7374.0 & 18479.0 & 44673.0 & 96279.0 & 104.0 & 13081.0 & 26243.0 & $\\dots$ \\\\\n",
       "\t3 & 461.0 & 256.0 & 200.0 & 152.0 & 3.0 & 271.0 & 117.0 & $\\dots$ \\\\\n",
       "\t4 & 4294.0 & 5325.0 & 6792.0 & 7633.0 & 57.0 & 4170.0 & 4132.0 & $\\dots$ \\\\\n",
       "\t5 & 2827.0 & 3556.0 & 5306.0 & 7026.0 & 39.0 & 2642.0 & 2744.0 & $\\dots$ \\\\\n",
       "\\end{tabular}\n"
      ],
      "text/plain": [
       "\u001b[1m5×346 DataFrame\u001b[0m\n",
       "\u001b[1m Row \u001b[0m│\u001b[1m 1.4%-R1-T1 \u001b[0m\u001b[1m 1.4%-R1-T2 \u001b[0m\u001b[1m 1.4%-R1-T3 \u001b[0m\u001b[1m 1.4%-R1-T4 \u001b[0m\u001b[1m 1.4%-R2-T1 \u001b[0m\u001b[1m 1.4%-R2-T2 \u001b[0m\u001b[1m\u001b[0m ⋯\n",
       "     │\u001b[90m Float64    \u001b[0m\u001b[90m Float64    \u001b[0m\u001b[90m Float64    \u001b[0m\u001b[90m Float64    \u001b[0m\u001b[90m Float64    \u001b[0m\u001b[90m Float64    \u001b[0m\u001b[90m\u001b[0m ⋯\n",
       "─────┼──────────────────────────────────────────────────────────────────────────\n",
       "   1 │      174.0       109.0        85.0        68.0         3.0        91.0  ⋯\n",
       "   2 │     7374.0     18479.0     44673.0     96279.0       104.0     13081.0\n",
       "   3 │      461.0       256.0       200.0       152.0         3.0       271.0\n",
       "   4 │     4294.0      5325.0      6792.0      7633.0        57.0      4170.0\n",
       "   5 │     2827.0      3556.0      5306.0      7026.0        39.0      2642.0  ⋯\n",
       "\u001b[36m                                                             340 columns omitted\u001b[0m"
      ]
     },
     "metadata": {},
     "output_type": "display_data"
    }
   ],
   "source": [
    "# Rename dataframe columns\n",
    "DF.rename!(df, number_names_dict)\n",
    "DF.rename!(df, zero_names_dict)\n",
    "\n",
    "first(df, 5)"
   ]
  },
  {
   "cell_type": "markdown",
   "metadata": {},
   "source": [
    "Again, let's search for the \"correct columns\" and count them."
   ]
  },
  {
   "cell_type": "code",
   "execution_count": 18,
   "metadata": {},
   "outputs": [
    {
     "name": "stdout",
     "output_type": "stream",
     "text": [
      "Number of correct columns: 337\n"
     ]
    }
   ],
   "source": [
    "# Extract dataset names\n",
    "cond_names = DF.names(df[:, DF.Not(metadata_col)])\n",
    "\n",
    "# Extract \"correct\" names that have -T\\d, where \\d is the regular expression for\n",
    "# a digit.\n",
    "correct_names = cond_names[match.(r\"-T\\d\", cond_names) .!== nothing]\n",
    "\n",
    "println(\"Number of correct columns: $(length(correct_names))\")"
   ]
  },
  {
   "attachments": {},
   "cell_type": "markdown",
   "metadata": {},
   "source": [
    "Almost 100% of success. Let's convert the \"correct\" columns into a tidy\n",
    "dataframe. Furthermore, we will convert the column `count` to `Int64`."
   ]
  },
  {
   "cell_type": "code",
   "execution_count": 19,
   "metadata": {},
   "outputs": [
    {
     "data": {
      "text/html": [
       "<div><div style = \"float: left;\"><span>5×7 DataFrame</span></div><div style = \"clear: both;\"></div></div><div class = \"data-frame\" style = \"overflow-x: scroll;\"><table class = \"data-frame\" style = \"margin-bottom: 6px;\"><thead><tr class = \"header\"><th class = \"rowNumber\" style = \"font-weight: bold; text-align: right;\">Row</th><th style = \"text-align: left;\">barcode</th><th style = \"text-align: left;\">class</th><th style = \"text-align: left;\">gene</th><th style = \"text-align: left;\">ploidy</th><th style = \"text-align: left;\">type</th><th style = \"text-align: left;\">name</th><th style = \"text-align: left;\">count</th></tr><tr class = \"subheader headerLastRow\"><th class = \"rowNumber\" style = \"font-weight: bold; text-align: right;\"></th><th title = \"Int64\" style = \"text-align: left;\">Int64</th><th title = \"InlineStrings.String31\" style = \"text-align: left;\">String31</th><th title = \"InlineStrings.String31\" style = \"text-align: left;\">String31</th><th title = \"InlineStrings.String15\" style = \"text-align: left;\">String15</th><th title = \"InlineStrings.String31\" style = \"text-align: left;\">String31</th><th title = \"String\" style = \"text-align: left;\">String</th><th title = \"Int64\" style = \"text-align: left;\">Int64</th></tr></thead><tbody><tr><td class = \"rowNumber\" style = \"font-weight: bold; text-align: right;\">1</td><td style = \"text-align: right;\">53</td><td style = \"text-align: left;\">Diploid</td><td style = \"text-align: left;\">Diploid</td><td style = \"text-align: left;\">Diploid</td><td style = \"text-align: left;\">Diploid</td><td style = \"text-align: left;\">1.4%-R1-T1</td><td style = \"text-align: right;\">174</td></tr><tr><td class = \"rowNumber\" style = \"font-weight: bold; text-align: right;\">2</td><td style = \"text-align: right;\">151</td><td style = \"text-align: left;\">PKA</td><td style = \"text-align: left;\">IRA1</td><td style = \"text-align: left;\">Haploid</td><td style = \"text-align: left;\">stop_gained</td><td style = \"text-align: left;\">1.4%-R1-T1</td><td style = \"text-align: right;\">7374</td></tr><tr><td class = \"rowNumber\" style = \"font-weight: bold; text-align: right;\">3</td><td style = \"text-align: right;\">262</td><td style = \"text-align: left;\">NotSequenced</td><td style = \"text-align: left;\">NotSequenced</td><td style = \"text-align: left;\">NotSequenced</td><td style = \"text-align: left;\">NotSequenced</td><td style = \"text-align: left;\">1.4%-R1-T1</td><td style = \"text-align: right;\">461</td></tr><tr><td class = \"rowNumber\" style = \"font-weight: bold; text-align: right;\">4</td><td style = \"text-align: right;\">273</td><td style = \"text-align: left;\">PKA</td><td style = \"text-align: left;\">IRA1</td><td style = \"text-align: left;\">Haploid</td><td style = \"text-align: left;\">frameshift_variant</td><td style = \"text-align: left;\">1.4%-R1-T1</td><td style = \"text-align: right;\">4294</td></tr><tr><td class = \"rowNumber\" style = \"font-weight: bold; text-align: right;\">5</td><td style = \"text-align: right;\">323</td><td style = \"text-align: left;\">NotSequenced</td><td style = \"text-align: left;\">NotSequenced</td><td style = \"text-align: left;\">NotSequenced</td><td style = \"text-align: left;\">NotSequenced</td><td style = \"text-align: left;\">1.4%-R1-T1</td><td style = \"text-align: right;\">2827</td></tr></tbody></table></div>"
      ],
      "text/latex": [
       "\\begin{tabular}{r|ccccccc}\n",
       "\t& barcode & class & gene & ploidy & type & name & \\\\\n",
       "\t\\hline\n",
       "\t& Int64 & String31 & String31 & String15 & String31 & String & \\\\\n",
       "\t\\hline\n",
       "\t1 & 53 & Diploid & Diploid & Diploid & Diploid & 1.4\\%-R1-T1 & $\\dots$ \\\\\n",
       "\t2 & 151 & PKA & IRA1 & Haploid & stop\\_gained & 1.4\\%-R1-T1 & $\\dots$ \\\\\n",
       "\t3 & 262 & NotSequenced & NotSequenced & NotSequenced & NotSequenced & 1.4\\%-R1-T1 & $\\dots$ \\\\\n",
       "\t4 & 273 & PKA & IRA1 & Haploid & frameshift\\_variant & 1.4\\%-R1-T1 & $\\dots$ \\\\\n",
       "\t5 & 323 & NotSequenced & NotSequenced & NotSequenced & NotSequenced & 1.4\\%-R1-T1 & $\\dots$ \\\\\n",
       "\\end{tabular}\n"
      ],
      "text/plain": [
       "\u001b[1m5×7 DataFrame\u001b[0m\n",
       "\u001b[1m Row \u001b[0m│\u001b[1m barcode \u001b[0m\u001b[1m class        \u001b[0m\u001b[1m gene         \u001b[0m\u001b[1m ploidy       \u001b[0m\u001b[1m type               \u001b[0m\u001b[1m \u001b[0m ⋯\n",
       "     │\u001b[90m Int64   \u001b[0m\u001b[90m String31     \u001b[0m\u001b[90m String31     \u001b[0m\u001b[90m String15     \u001b[0m\u001b[90m String31           \u001b[0m\u001b[90m \u001b[0m ⋯\n",
       "─────┼──────────────────────────────────────────────────────────────────────────\n",
       "   1 │      53  Diploid       Diploid       Diploid       Diploid              ⋯\n",
       "   2 │     151  PKA           IRA1          Haploid       stop_gained\n",
       "   3 │     262  NotSequenced  NotSequenced  NotSequenced  NotSequenced\n",
       "   4 │     273  PKA           IRA1          Haploid       frameshift_variant\n",
       "   5 │     323  NotSequenced  NotSequenced  NotSequenced  NotSequenced         ⋯\n",
       "\u001b[36m                                                               2 columns omitted\u001b[0m"
      ]
     },
     "metadata": {},
     "output_type": "display_data"
    }
   ],
   "source": [
    "# Filter correct columns + metadata\n",
    "df_filt = df[:, [correct_names; metadata_col]]\n",
    "\n",
    "# Transform to tidy dataframe\n",
    "df_tidy = DF.stack(df_filt, correct_names)\n",
    "\n",
    "# Add count column with integer counts and remove float column\n",
    "DF.select!(\n",
    "    DF.insertcols!(df_tidy, :count => Int64.(df_tidy.value)), DF.Not(:value)\n",
    ")\n",
    "\n",
    "# Rename columns\n",
    "DF.rename!(df_tidy, Dict(:variable => :name))\n",
    "\n",
    "first(df_tidy[:, DF.Not(\"additional_muts\")], 5)"
   ]
  },
  {
   "attachments": {},
   "cell_type": "markdown",
   "metadata": {},
   "source": [
    "Next, let's loop through the information contained in the `name` column and add\n",
    "it to the dataframe. Furthermore, we will add a column `neutral` with booleans\n",
    "indicating whether the barcode belongs to a neutral lineage. This information is\n",
    "stored in the `class` column as `ExpNeutral`."
   ]
  },
  {
   "cell_type": "code",
   "execution_count": 20,
   "metadata": {},
   "outputs": [
    {
     "data": {
      "text/html": [
       "<div><div style = \"float: left;\"><span>5×12 DataFrame</span></div><div style = \"clear: both;\"></div></div><div class = \"data-frame\" style = \"overflow-x: scroll;\"><table class = \"data-frame\" style = \"margin-bottom: 6px;\"><thead><tr class = \"header\"><th class = \"rowNumber\" style = \"font-weight: bold; text-align: right;\">Row</th><th style = \"text-align: left;\">barcode</th><th style = \"text-align: left;\">class</th><th style = \"text-align: left;\">gene</th><th style = \"text-align: left;\">ploidy</th><th style = \"text-align: left;\">type</th><th style = \"text-align: left;\">name</th><th style = \"text-align: left;\">count</th><th style = \"text-align: left;\">rep</th><th style = \"text-align: left;\">timepoint</th><th style = \"text-align: left;\">time</th><th style = \"text-align: left;\">env</th><th style = \"text-align: left;\">neutral</th></tr><tr class = \"subheader headerLastRow\"><th class = \"rowNumber\" style = \"font-weight: bold; text-align: right;\"></th><th title = \"Int64\" style = \"text-align: left;\">Int64</th><th title = \"InlineStrings.String31\" style = \"text-align: left;\">String31</th><th title = \"InlineStrings.String31\" style = \"text-align: left;\">String31</th><th title = \"InlineStrings.String15\" style = \"text-align: left;\">String15</th><th title = \"InlineStrings.String31\" style = \"text-align: left;\">String31</th><th title = \"String\" style = \"text-align: left;\">String</th><th title = \"Int64\" style = \"text-align: left;\">Int64</th><th title = \"String\" style = \"text-align: left;\">String</th><th title = \"String\" style = \"text-align: left;\">String</th><th title = \"Int64\" style = \"text-align: left;\">Int64</th><th title = \"String\" style = \"text-align: left;\">String</th><th title = \"Bool\" style = \"text-align: left;\">Bool</th></tr></thead><tbody><tr><td class = \"rowNumber\" style = \"font-weight: bold; text-align: right;\">1</td><td style = \"text-align: right;\">53</td><td style = \"text-align: left;\">Diploid</td><td style = \"text-align: left;\">Diploid</td><td style = \"text-align: left;\">Diploid</td><td style = \"text-align: left;\">Diploid</td><td style = \"text-align: left;\">1.4%-R1-T1</td><td style = \"text-align: right;\">174</td><td style = \"text-align: left;\">R1</td><td style = \"text-align: left;\">T1</td><td style = \"text-align: right;\">1</td><td style = \"text-align: left;\">1.4%</td><td style = \"text-align: right;\">false</td></tr><tr><td class = \"rowNumber\" style = \"font-weight: bold; text-align: right;\">2</td><td style = \"text-align: right;\">151</td><td style = \"text-align: left;\">PKA</td><td style = \"text-align: left;\">IRA1</td><td style = \"text-align: left;\">Haploid</td><td style = \"text-align: left;\">stop_gained</td><td style = \"text-align: left;\">1.4%-R1-T1</td><td style = \"text-align: right;\">7374</td><td style = \"text-align: left;\">R1</td><td style = \"text-align: left;\">T1</td><td style = \"text-align: right;\">1</td><td style = \"text-align: left;\">1.4%</td><td style = \"text-align: right;\">false</td></tr><tr><td class = \"rowNumber\" style = \"font-weight: bold; text-align: right;\">3</td><td style = \"text-align: right;\">262</td><td style = \"text-align: left;\">NotSequenced</td><td style = \"text-align: left;\">NotSequenced</td><td style = \"text-align: left;\">NotSequenced</td><td style = \"text-align: left;\">NotSequenced</td><td style = \"text-align: left;\">1.4%-R1-T1</td><td style = \"text-align: right;\">461</td><td style = \"text-align: left;\">R1</td><td style = \"text-align: left;\">T1</td><td style = \"text-align: right;\">1</td><td style = \"text-align: left;\">1.4%</td><td style = \"text-align: right;\">false</td></tr><tr><td class = \"rowNumber\" style = \"font-weight: bold; text-align: right;\">4</td><td style = \"text-align: right;\">273</td><td style = \"text-align: left;\">PKA</td><td style = \"text-align: left;\">IRA1</td><td style = \"text-align: left;\">Haploid</td><td style = \"text-align: left;\">frameshift_variant</td><td style = \"text-align: left;\">1.4%-R1-T1</td><td style = \"text-align: right;\">4294</td><td style = \"text-align: left;\">R1</td><td style = \"text-align: left;\">T1</td><td style = \"text-align: right;\">1</td><td style = \"text-align: left;\">1.4%</td><td style = \"text-align: right;\">false</td></tr><tr><td class = \"rowNumber\" style = \"font-weight: bold; text-align: right;\">5</td><td style = \"text-align: right;\">323</td><td style = \"text-align: left;\">NotSequenced</td><td style = \"text-align: left;\">NotSequenced</td><td style = \"text-align: left;\">NotSequenced</td><td style = \"text-align: left;\">NotSequenced</td><td style = \"text-align: left;\">1.4%-R1-T1</td><td style = \"text-align: right;\">2827</td><td style = \"text-align: left;\">R1</td><td style = \"text-align: left;\">T1</td><td style = \"text-align: right;\">1</td><td style = \"text-align: left;\">1.4%</td><td style = \"text-align: right;\">false</td></tr></tbody></table></div>"
      ],
      "text/latex": [
       "\\begin{tabular}{r|ccccccc}\n",
       "\t& barcode & class & gene & ploidy & type & name & \\\\\n",
       "\t\\hline\n",
       "\t& Int64 & String31 & String31 & String15 & String31 & String & \\\\\n",
       "\t\\hline\n",
       "\t1 & 53 & Diploid & Diploid & Diploid & Diploid & 1.4\\%-R1-T1 & $\\dots$ \\\\\n",
       "\t2 & 151 & PKA & IRA1 & Haploid & stop\\_gained & 1.4\\%-R1-T1 & $\\dots$ \\\\\n",
       "\t3 & 262 & NotSequenced & NotSequenced & NotSequenced & NotSequenced & 1.4\\%-R1-T1 & $\\dots$ \\\\\n",
       "\t4 & 273 & PKA & IRA1 & Haploid & frameshift\\_variant & 1.4\\%-R1-T1 & $\\dots$ \\\\\n",
       "\t5 & 323 & NotSequenced & NotSequenced & NotSequenced & NotSequenced & 1.4\\%-R1-T1 & $\\dots$ \\\\\n",
       "\\end{tabular}\n"
      ],
      "text/plain": [
       "\u001b[1m5×12 DataFrame\u001b[0m\n",
       "\u001b[1m Row \u001b[0m│\u001b[1m barcode \u001b[0m\u001b[1m class        \u001b[0m\u001b[1m gene         \u001b[0m\u001b[1m ploidy       \u001b[0m\u001b[1m type               \u001b[0m\u001b[1m \u001b[0m ⋯\n",
       "     │\u001b[90m Int64   \u001b[0m\u001b[90m String31     \u001b[0m\u001b[90m String31     \u001b[0m\u001b[90m String15     \u001b[0m\u001b[90m String31           \u001b[0m\u001b[90m \u001b[0m ⋯\n",
       "─────┼──────────────────────────────────────────────────────────────────────────\n",
       "   1 │      53  Diploid       Diploid       Diploid       Diploid              ⋯\n",
       "   2 │     151  PKA           IRA1          Haploid       stop_gained\n",
       "   3 │     262  NotSequenced  NotSequenced  NotSequenced  NotSequenced\n",
       "   4 │     273  PKA           IRA1          Haploid       frameshift_variant\n",
       "   5 │     323  NotSequenced  NotSequenced  NotSequenced  NotSequenced         ⋯\n",
       "\u001b[36m                                                               7 columns omitted\u001b[0m"
      ]
     },
     "metadata": {},
     "output_type": "display_data"
    }
   ],
   "source": [
    "# Extract time point. \\w is the regular expression to look for digits.\n",
    "timepoint = [string(match.(r\"T\\d\", n).match) for n in df_tidy.name]\n",
    "# Extract time as a number\n",
    "time = [parse(Int64, x[2:end]) for x in timepoint]\n",
    "\n",
    "# Extract Replicate number. \\d is the regular expression to look for digits.\n",
    "rep_match = match.(r\"-R\\d-\", df_tidy.name)\n",
    "# Initialize array to save replicate\n",
    "rep = Vector{String}(undef, length(df_tidy.name))\n",
    "# Loop through results\n",
    "for i = 1:length(rep_match)\n",
    "    if rep_match[i] == nothing\n",
    "        rep[i] = \"R0\"\n",
    "    else\n",
    "        rep[i] = replace(rep_match[i].match, \"-\" => \"\")\n",
    "    end # if\n",
    "end # for\n",
    "\n",
    "# Extract environment\n",
    "env = String.([split(n, \"-\")[1] for n in df_tidy.name])\n",
    "\n",
    "# Search for neutral lineages\n",
    "neutral = df_tidy.class .== \"ExpNeutral\"\n",
    "\n",
    "# Add new columns\n",
    "DF.insertcols!(\n",
    "    df_tidy,\n",
    "    (\n",
    "        [:rep, :timepoint, :time, :env, :neutral] .=>\n",
    "        [rep, timepoint, time, env, neutral]\n",
    "    )...\n",
    ")\n",
    "\n",
    "first(df_tidy[:, DF.Not(\"additional_muts\")], 5)"
   ]
  },
  {
   "cell_type": "markdown",
   "metadata": {},
   "source": [
    "This is already a very useful format. But we can make it more convenient by\n",
    "turning the `T0` variables into something we can `groupby` with the rest of the\n",
    "data. Some of the datasets already have their corresponding `T0`, but for those\n",
    "that were assigned `R0` repeat, we need to repeat the data."
   ]
  },
  {
   "cell_type": "code",
   "execution_count": 21,
   "metadata": {},
   "outputs": [
    {
     "data": {
      "text/html": [
       "<div><div style = \"float: left;\"><span>5×12 DataFrame</span></div><div style = \"clear: both;\"></div></div><div class = \"data-frame\" style = \"overflow-x: scroll;\"><table class = \"data-frame\" style = \"margin-bottom: 6px;\"><thead><tr class = \"header\"><th class = \"rowNumber\" style = \"font-weight: bold; text-align: right;\">Row</th><th style = \"text-align: left;\">barcode</th><th style = \"text-align: left;\">class</th><th style = \"text-align: left;\">gene</th><th style = \"text-align: left;\">ploidy</th><th style = \"text-align: left;\">type</th><th style = \"text-align: left;\">name</th><th style = \"text-align: left;\">count</th><th style = \"text-align: left;\">rep</th><th style = \"text-align: left;\">timepoint</th><th style = \"text-align: left;\">time</th><th style = \"text-align: left;\">env</th><th style = \"text-align: left;\">neutral</th></tr><tr class = \"subheader headerLastRow\"><th class = \"rowNumber\" style = \"font-weight: bold; text-align: right;\"></th><th title = \"Int64\" style = \"text-align: left;\">Int64</th><th title = \"InlineStrings.String31\" style = \"text-align: left;\">String31</th><th title = \"InlineStrings.String31\" style = \"text-align: left;\">String31</th><th title = \"InlineStrings.String15\" style = \"text-align: left;\">String15</th><th title = \"InlineStrings.String31\" style = \"text-align: left;\">String31</th><th title = \"String\" style = \"text-align: left;\">String</th><th title = \"Int64\" style = \"text-align: left;\">Int64</th><th title = \"String\" style = \"text-align: left;\">String</th><th title = \"String\" style = \"text-align: left;\">String</th><th title = \"Int64\" style = \"text-align: left;\">Int64</th><th title = \"String\" style = \"text-align: left;\">String</th><th title = \"Bool\" style = \"text-align: left;\">Bool</th></tr></thead><tbody><tr><td class = \"rowNumber\" style = \"font-weight: bold; text-align: right;\">1</td><td style = \"text-align: right;\">53</td><td style = \"text-align: left;\">Diploid</td><td style = \"text-align: left;\">Diploid</td><td style = \"text-align: left;\">Diploid</td><td style = \"text-align: left;\">Diploid</td><td style = \"text-align: left;\">1.4%-T0</td><td style = \"text-align: right;\">22</td><td style = \"text-align: left;\">R1</td><td style = \"text-align: left;\">T0</td><td style = \"text-align: right;\">0</td><td style = \"text-align: left;\">1.4%</td><td style = \"text-align: right;\">false</td></tr><tr><td class = \"rowNumber\" style = \"font-weight: bold; text-align: right;\">2</td><td style = \"text-align: right;\">151</td><td style = \"text-align: left;\">PKA</td><td style = \"text-align: left;\">IRA1</td><td style = \"text-align: left;\">Haploid</td><td style = \"text-align: left;\">stop_gained</td><td style = \"text-align: left;\">1.4%-T0</td><td style = \"text-align: right;\">629</td><td style = \"text-align: left;\">R1</td><td style = \"text-align: left;\">T0</td><td style = \"text-align: right;\">0</td><td style = \"text-align: left;\">1.4%</td><td style = \"text-align: right;\">false</td></tr><tr><td class = \"rowNumber\" style = \"font-weight: bold; text-align: right;\">3</td><td style = \"text-align: right;\">262</td><td style = \"text-align: left;\">NotSequenced</td><td style = \"text-align: left;\">NotSequenced</td><td style = \"text-align: left;\">NotSequenced</td><td style = \"text-align: left;\">NotSequenced</td><td style = \"text-align: left;\">1.4%-T0</td><td style = \"text-align: right;\">118</td><td style = \"text-align: left;\">R1</td><td style = \"text-align: left;\">T0</td><td style = \"text-align: right;\">0</td><td style = \"text-align: left;\">1.4%</td><td style = \"text-align: right;\">false</td></tr><tr><td class = \"rowNumber\" style = \"font-weight: bold; text-align: right;\">4</td><td style = \"text-align: right;\">273</td><td style = \"text-align: left;\">PKA</td><td style = \"text-align: left;\">IRA1</td><td style = \"text-align: left;\">Haploid</td><td style = \"text-align: left;\">frameshift_variant</td><td style = \"text-align: left;\">1.4%-T0</td><td style = \"text-align: right;\">525</td><td style = \"text-align: left;\">R1</td><td style = \"text-align: left;\">T0</td><td style = \"text-align: right;\">0</td><td style = \"text-align: left;\">1.4%</td><td style = \"text-align: right;\">false</td></tr><tr><td class = \"rowNumber\" style = \"font-weight: bold; text-align: right;\">5</td><td style = \"text-align: right;\">323</td><td style = \"text-align: left;\">NotSequenced</td><td style = \"text-align: left;\">NotSequenced</td><td style = \"text-align: left;\">NotSequenced</td><td style = \"text-align: left;\">NotSequenced</td><td style = \"text-align: left;\">1.4%-T0</td><td style = \"text-align: right;\">357</td><td style = \"text-align: left;\">R1</td><td style = \"text-align: left;\">T0</td><td style = \"text-align: right;\">0</td><td style = \"text-align: left;\">1.4%</td><td style = \"text-align: right;\">false</td></tr></tbody></table></div>"
      ],
      "text/latex": [
       "\\begin{tabular}{r|ccccccc}\n",
       "\t& barcode & class & gene & ploidy & type & name & \\\\\n",
       "\t\\hline\n",
       "\t& Int64 & String31 & String31 & String15 & String31 & String & \\\\\n",
       "\t\\hline\n",
       "\t1 & 53 & Diploid & Diploid & Diploid & Diploid & 1.4\\%-T0 & $\\dots$ \\\\\n",
       "\t2 & 151 & PKA & IRA1 & Haploid & stop\\_gained & 1.4\\%-T0 & $\\dots$ \\\\\n",
       "\t3 & 262 & NotSequenced & NotSequenced & NotSequenced & NotSequenced & 1.4\\%-T0 & $\\dots$ \\\\\n",
       "\t4 & 273 & PKA & IRA1 & Haploid & frameshift\\_variant & 1.4\\%-T0 & $\\dots$ \\\\\n",
       "\t5 & 323 & NotSequenced & NotSequenced & NotSequenced & NotSequenced & 1.4\\%-T0 & $\\dots$ \\\\\n",
       "\\end{tabular}\n"
      ],
      "text/plain": [
       "\u001b[1m5×12 DataFrame\u001b[0m\n",
       "\u001b[1m Row \u001b[0m│\u001b[1m barcode \u001b[0m\u001b[1m class        \u001b[0m\u001b[1m gene         \u001b[0m\u001b[1m ploidy       \u001b[0m\u001b[1m type               \u001b[0m\u001b[1m \u001b[0m ⋯\n",
       "     │\u001b[90m Int64   \u001b[0m\u001b[90m String31     \u001b[0m\u001b[90m String31     \u001b[0m\u001b[90m String15     \u001b[0m\u001b[90m String31           \u001b[0m\u001b[90m \u001b[0m ⋯\n",
       "─────┼──────────────────────────────────────────────────────────────────────────\n",
       "   1 │      53  Diploid       Diploid       Diploid       Diploid              ⋯\n",
       "   2 │     151  PKA           IRA1          Haploid       stop_gained\n",
       "   3 │     262  NotSequenced  NotSequenced  NotSequenced  NotSequenced\n",
       "   4 │     273  PKA           IRA1          Haploid       frameshift_variant\n",
       "   5 │     323  NotSequenced  NotSequenced  NotSequenced  NotSequenced         ⋯\n",
       "\u001b[36m                                                               7 columns omitted\u001b[0m"
      ]
     },
     "metadata": {},
     "output_type": "display_data"
    }
   ],
   "source": [
    "# Extract T0-R0 data that needs to be repeated\n",
    "df_zero = df_tidy[df_tidy.rep .== \"R0\", :]\n",
    "\n",
    "# Remove T0-R0 data\n",
    "df_notzero = df_tidy[df_tidy.rep .!= \"R0\", :]\n",
    "\n",
    "# Initialize new dataframe where to append formatted data\n",
    "df_tidy_rep = DF.DataFrame()\n",
    "\n",
    "# Group non-R0 data by rep and env\n",
    "df_group = DF.groupby(df_notzero, [:rep, :env])\n",
    "\n",
    "# Extract keys\n",
    "par_group = keys(df_group)\n",
    "# Loop through groups\n",
    "for (i, data) in enumerate(df_group)\n",
    "    # Collect keys\n",
    "    par = collect(par_group[i])\n",
    "\n",
    "    # Check if data already contains T0. If so, append it as it is\n",
    "    if any(data.timepoint .== \"T0\")\n",
    "        # Append to dataframe\n",
    "        DF.append!(df_tidy_rep, data)\n",
    "    # Else, check if this is an environment for which there is no T0. If so,\n",
    "    # append it as it is\n",
    "    elseif all(df_zero.env .!= par[2])\n",
    "        # Append to dataframe\n",
    "        DF.append!(df_tidy_rep, data)\n",
    "    else\n",
    "        # Extract T0 corresponding data\n",
    "        data_zero = deepcopy(df_zero[df_zero.env.==par[2], :])\n",
    "\n",
    "        # Modify values to match format\n",
    "        data_zero[:, :rep] .= par[1]\n",
    "\n",
    "        DF.append!(df_tidy_rep, DF.append!(deepcopy(data_zero), data))\n",
    "\n",
    "    end # if\n",
    "end # for\n",
    "\n",
    "first(df_tidy_rep[:, 2:end], 5)"
   ]
  },
  {
   "attachments": {},
   "cell_type": "markdown",
   "metadata": {},
   "source": [
    "Let's make sure that all groups at all time points have the same number of\n",
    "barcodes. First, let's extract the number of barcodes per environment,\n",
    "replicate, and time point."
   ]
  },
  {
   "cell_type": "code",
   "execution_count": 22,
   "metadata": {},
   "outputs": [
    {
     "data": {
      "text/plain": [
       "3-element Vector{Any}:\n",
       " [550, 550, 550, 550, 550]\n",
       " [550, 550, 550, 550]\n",
       " [550]"
      ]
     },
     "metadata": {},
     "output_type": "display_data"
    }
   ],
   "source": [
    "# Group data by environment and replicate\n",
    "df_group = DF.groupby(df_tidy_rep, [:env, :rep])\n",
    "\n",
    "# Initialize list to save lengths\n",
    "len_list = []\n",
    "\n",
    "# Loop through groups\n",
    "for data in df_group\n",
    "    # group data by time\n",
    "    data_group = DF.groupby(data, :time)\n",
    "\n",
    "    # Append length to list\n",
    "    push!(len_list, [size(x, 1) for x in data_group])\n",
    "end # group\n",
    "\n",
    "unique(len_list)"
   ]
  },
  {
   "attachments": {},
   "cell_type": "markdown",
   "metadata": {},
   "source": [
    "There is a dataset that only has one time point. This is an issue, let's take a\n",
    "look at this dataset."
   ]
  },
  {
   "cell_type": "code",
   "execution_count": 23,
   "metadata": {},
   "outputs": [
    {
     "data": {
      "text/html": [
       "<div><div style = \"float: left;\"><span>DataFrameRow (2 columns)</span></div><div style = \"clear: both;\"></div></div><div class = \"data-frame\" style = \"overflow-x: scroll;\"><table class = \"data-frame\" style = \"margin-bottom: 6px;\"><thead><tr class = \"header\"><th class = \"rowLabel\" style = \"font-weight: bold; text-align: right;\">Row</th><th style = \"text-align: left;\">env</th><th style = \"text-align: left;\">rep</th></tr><tr class = \"subheader headerLastRow\"><th class = \"rowLabel\" style = \"font-weight: bold; text-align: right;\"></th><th title = \"String\" style = \"text-align: left;\">String</th><th title = \"String\" style = \"text-align: left;\">String</th></tr></thead><tbody><tr><td class = \"rowLabel\" style = \"font-weight: bold; text-align: right;\">59951</td><td style = \"text-align: left;\">M3_21</td><td style = \"text-align: left;\">R4</td></tr></tbody></table></div>"
      ],
      "text/latex": [
       "\\begin{tabular}{r|cc}\n",
       "\t& env & rep\\\\\n",
       "\t\\hline\n",
       "\t& String & String\\\\\n",
       "\t\\hline\n",
       "\t59951 & M3\\_21 & R4 \\\\\n",
       "\\end{tabular}\n"
      ],
      "text/plain": [
       "\u001b[1mDataFrameRow\u001b[0m\n",
       "\u001b[1m   Row \u001b[0m│\u001b[1m env    \u001b[0m\u001b[1m rep    \u001b[0m\n",
       "       │\u001b[90m String \u001b[0m\u001b[90m String \u001b[0m\n",
       "───────┼────────────────\n",
       " 59951 │ M3_21   R4"
      ]
     },
     "metadata": {},
     "output_type": "display_data"
    }
   ],
   "source": [
    "# Locate dataset with single timepoint\n",
    "df_group[argmin(length.(len_list))][1, [:env, :rep]]"
   ]
  },
  {
   "attachments": {},
   "cell_type": "markdown",
   "metadata": {},
   "source": [
    "A manual exploration of the raw data reveals that indeed this particular dataset\n",
    "does not have any other time points associated with it. Therefore, it is safe to\n",
    "remove it from the dataset."
   ]
  },
  {
   "cell_type": "code",
   "execution_count": 24,
   "metadata": {},
   "outputs": [],
   "source": [
    "DF.delete!(\n",
    "    df_tidy_rep, \n",
    "    (df_tidy_rep.env .== \"M3_21\") .& (df_tidy_rep.rep .== \"R4\")\n",
    ");"
   ]
  },
  {
   "attachments": {},
   "cell_type": "markdown",
   "metadata": {},
   "source": [
    "Let's make sure that now all time points have the same number of barcodes."
   ]
  },
  {
   "cell_type": "code",
   "execution_count": 25,
   "metadata": {},
   "outputs": [
    {
     "data": {
      "text/plain": [
       "2-element Vector{Any}:\n",
       " [550, 550, 550, 550, 550]\n",
       " [550, 550, 550, 550]"
      ]
     },
     "metadata": {},
     "output_type": "display_data"
    }
   ],
   "source": [
    "# Group data by environment and replicate\n",
    "df_group = DF.groupby(df_tidy_rep, [:env, :rep])\n",
    "\n",
    "# Initialize list to save lengths\n",
    "len_list = []\n",
    "\n",
    "# Loop through groups\n",
    "for data in df_group\n",
    "    # group data by time\n",
    "    data_group = DF.groupby(data, :time)\n",
    "\n",
    "    # Append length to list\n",
    "    push!(len_list, [size(x, 1) for x in data_group])\n",
    "end # group\n",
    "\n",
    "unique(len_list)"
   ]
  },
  {
   "attachments": {},
   "cell_type": "markdown",
   "metadata": {},
   "source": [
    "To make calculations simpler, let's add columns with the total number of reads\n",
    "per experiment and the naive frequency estimate for each barcode."
   ]
  },
  {
   "cell_type": "code",
   "execution_count": 26,
   "metadata": {},
   "outputs": [
    {
     "data": {
      "text/html": [
       "<div><div style = \"float: left;\"><span>5×14 DataFrame</span></div><div style = \"clear: both;\"></div></div><div class = \"data-frame\" style = \"overflow-x: scroll;\"><table class = \"data-frame\" style = \"margin-bottom: 6px;\"><thead><tr class = \"header\"><th class = \"rowNumber\" style = \"font-weight: bold; text-align: right;\">Row</th><th style = \"text-align: left;\">barcode</th><th style = \"text-align: left;\">class</th><th style = \"text-align: left;\">gene</th><th style = \"text-align: left;\">ploidy</th><th style = \"text-align: left;\">type</th><th style = \"text-align: left;\">name</th><th style = \"text-align: left;\">count</th><th style = \"text-align: left;\">rep</th><th style = \"text-align: left;\">timepoint</th><th style = \"text-align: left;\">time</th><th style = \"text-align: left;\">env</th><th style = \"text-align: left;\">neutral</th><th style = \"text-align: left;\">count_sum</th><th style = \"text-align: left;\">freq</th></tr><tr class = \"subheader headerLastRow\"><th class = \"rowNumber\" style = \"font-weight: bold; text-align: right;\"></th><th title = \"Int64\" style = \"text-align: left;\">Int64</th><th title = \"InlineStrings.String31\" style = \"text-align: left;\">String31</th><th title = \"InlineStrings.String31\" style = \"text-align: left;\">String31</th><th title = \"InlineStrings.String15\" style = \"text-align: left;\">String15</th><th title = \"InlineStrings.String31\" style = \"text-align: left;\">String31</th><th title = \"String\" style = \"text-align: left;\">String</th><th title = \"Int64\" style = \"text-align: left;\">Int64</th><th title = \"String\" style = \"text-align: left;\">String</th><th title = \"String\" style = \"text-align: left;\">String</th><th title = \"Int64\" style = \"text-align: left;\">Int64</th><th title = \"String\" style = \"text-align: left;\">String</th><th title = \"Bool\" style = \"text-align: left;\">Bool</th><th title = \"Union{Missing, Int64}\" style = \"text-align: left;\">Int64?</th><th title = \"Float64\" style = \"text-align: left;\">Float64</th></tr></thead><tbody><tr><td class = \"rowNumber\" style = \"font-weight: bold; text-align: right;\">1</td><td style = \"text-align: right;\">53</td><td style = \"text-align: left;\">Diploid</td><td style = \"text-align: left;\">Diploid</td><td style = \"text-align: left;\">Diploid</td><td style = \"text-align: left;\">Diploid</td><td style = \"text-align: left;\">1.4%-T0</td><td style = \"text-align: right;\">22</td><td style = \"text-align: left;\">R1</td><td style = \"text-align: left;\">T0</td><td style = \"text-align: right;\">0</td><td style = \"text-align: left;\">1.4%</td><td style = \"text-align: right;\">false</td><td style = \"text-align: right;\">65807</td><td style = \"text-align: right;\">0.000334311</td></tr><tr><td class = \"rowNumber\" style = \"font-weight: bold; text-align: right;\">2</td><td style = \"text-align: right;\">151</td><td style = \"text-align: left;\">PKA</td><td style = \"text-align: left;\">IRA1</td><td style = \"text-align: left;\">Haploid</td><td style = \"text-align: left;\">stop_gained</td><td style = \"text-align: left;\">1.4%-T0</td><td style = \"text-align: right;\">629</td><td style = \"text-align: left;\">R1</td><td style = \"text-align: left;\">T0</td><td style = \"text-align: right;\">0</td><td style = \"text-align: left;\">1.4%</td><td style = \"text-align: right;\">false</td><td style = \"text-align: right;\">65807</td><td style = \"text-align: right;\">0.00955825</td></tr><tr><td class = \"rowNumber\" style = \"font-weight: bold; text-align: right;\">3</td><td style = \"text-align: right;\">262</td><td style = \"text-align: left;\">NotSequenced</td><td style = \"text-align: left;\">NotSequenced</td><td style = \"text-align: left;\">NotSequenced</td><td style = \"text-align: left;\">NotSequenced</td><td style = \"text-align: left;\">1.4%-T0</td><td style = \"text-align: right;\">118</td><td style = \"text-align: left;\">R1</td><td style = \"text-align: left;\">T0</td><td style = \"text-align: right;\">0</td><td style = \"text-align: left;\">1.4%</td><td style = \"text-align: right;\">false</td><td style = \"text-align: right;\">65807</td><td style = \"text-align: right;\">0.00179312</td></tr><tr><td class = \"rowNumber\" style = \"font-weight: bold; text-align: right;\">4</td><td style = \"text-align: right;\">273</td><td style = \"text-align: left;\">PKA</td><td style = \"text-align: left;\">IRA1</td><td style = \"text-align: left;\">Haploid</td><td style = \"text-align: left;\">frameshift_variant</td><td style = \"text-align: left;\">1.4%-T0</td><td style = \"text-align: right;\">525</td><td style = \"text-align: left;\">R1</td><td style = \"text-align: left;\">T0</td><td style = \"text-align: right;\">0</td><td style = \"text-align: left;\">1.4%</td><td style = \"text-align: right;\">false</td><td style = \"text-align: right;\">65807</td><td style = \"text-align: right;\">0.00797787</td></tr><tr><td class = \"rowNumber\" style = \"font-weight: bold; text-align: right;\">5</td><td style = \"text-align: right;\">323</td><td style = \"text-align: left;\">NotSequenced</td><td style = \"text-align: left;\">NotSequenced</td><td style = \"text-align: left;\">NotSequenced</td><td style = \"text-align: left;\">NotSequenced</td><td style = \"text-align: left;\">1.4%-T0</td><td style = \"text-align: right;\">357</td><td style = \"text-align: left;\">R1</td><td style = \"text-align: left;\">T0</td><td style = \"text-align: right;\">0</td><td style = \"text-align: left;\">1.4%</td><td style = \"text-align: right;\">false</td><td style = \"text-align: right;\">65807</td><td style = \"text-align: right;\">0.00542495</td></tr></tbody></table></div>"
      ],
      "text/latex": [
       "\\begin{tabular}{r|ccccccc}\n",
       "\t& barcode & class & gene & ploidy & type & name & \\\\\n",
       "\t\\hline\n",
       "\t& Int64 & String31 & String31 & String15 & String31 & String & \\\\\n",
       "\t\\hline\n",
       "\t1 & 53 & Diploid & Diploid & Diploid & Diploid & 1.4\\%-T0 & $\\dots$ \\\\\n",
       "\t2 & 151 & PKA & IRA1 & Haploid & stop\\_gained & 1.4\\%-T0 & $\\dots$ \\\\\n",
       "\t3 & 262 & NotSequenced & NotSequenced & NotSequenced & NotSequenced & 1.4\\%-T0 & $\\dots$ \\\\\n",
       "\t4 & 273 & PKA & IRA1 & Haploid & frameshift\\_variant & 1.4\\%-T0 & $\\dots$ \\\\\n",
       "\t5 & 323 & NotSequenced & NotSequenced & NotSequenced & NotSequenced & 1.4\\%-T0 & $\\dots$ \\\\\n",
       "\\end{tabular}\n"
      ],
      "text/plain": [
       "\u001b[1m5×14 DataFrame\u001b[0m\n",
       "\u001b[1m Row \u001b[0m│\u001b[1m barcode \u001b[0m\u001b[1m class        \u001b[0m\u001b[1m gene         \u001b[0m\u001b[1m ploidy       \u001b[0m\u001b[1m type               \u001b[0m\u001b[1m \u001b[0m ⋯\n",
       "     │\u001b[90m Int64   \u001b[0m\u001b[90m String31     \u001b[0m\u001b[90m String31     \u001b[0m\u001b[90m String15     \u001b[0m\u001b[90m String31           \u001b[0m\u001b[90m \u001b[0m ⋯\n",
       "─────┼──────────────────────────────────────────────────────────────────────────\n",
       "   1 │      53  Diploid       Diploid       Diploid       Diploid              ⋯\n",
       "   2 │     151  PKA           IRA1          Haploid       stop_gained\n",
       "   3 │     262  NotSequenced  NotSequenced  NotSequenced  NotSequenced\n",
       "   4 │     273  PKA           IRA1          Haploid       frameshift_variant\n",
       "   5 │     323  NotSequenced  NotSequenced  NotSequenced  NotSequenced         ⋯\n",
       "\u001b[36m                                                               9 columns omitted\u001b[0m"
      ]
     },
     "metadata": {},
     "output_type": "display_data"
    }
   ],
   "source": [
    "# Use the split-apply-combine strategy to compute total counts for each\n",
    "# experiment.\n",
    "count_sum = DF.combine(\n",
    "    DF.groupby(df_tidy_rep, [:env, :timepoint, :rep]),\n",
    "    :count => sum\n",
    ")\n",
    "# Add count sum to dataframe\n",
    "DF.leftjoin!(\n",
    "    df_tidy_rep, count_sum, on=[:env, :timepoint, :rep]\n",
    ")\n",
    "\n",
    "# Add naive frequency estimate\n",
    "df_tidy_rep[!, :freq] = df_tidy_rep.count ./ df_tidy_rep.count_sum\n",
    "\n",
    "first(df_tidy_rep[:, 2:end], 5)"
   ]
  },
  {
   "attachments": {},
   "cell_type": "markdown",
   "metadata": {},
   "source": [
    "Let's plot the frequency trajectories for one of the experiments."
   ]
  },
  {
   "cell_type": "code",
   "execution_count": 27,
   "metadata": {},
   "outputs": [
    {
     "data": {
      "image/png": "[encoded data removed]"
     },
     "metadata": {},
     "output_type": "display_data"
    }
   ],
   "source": [
    "# Define information for data to extract\n",
    "# Define batch\n",
    "env = \"M3\"\n",
    "rep = \"R1\"\n",
    "\n",
    "# Extract data. Note: The time T0 is common to all perturbations, thus, it must\n",
    "# be extracted separately as a second condition.\n",
    "data = df_tidy_rep[\n",
    "    (df_tidy_rep.env.==env).&(df_tidy_rep.rep.==rep),\n",
    "    :]\n",
    "\n",
    "# Initialize figure\n",
    "fig = Figure(resolution=(550, 450))\n",
    "\n",
    "# Add axis\n",
    "ax = Axis(\n",
    "    fig[1, 1],\n",
    "    xlabel=\"time point\",\n",
    "    ylabel=\"barcode frequency\",\n",
    "    yscale=log10,\n",
    "    title=\"$(env)\"\n",
    ")\n",
    "\n",
    "# Define color palette\n",
    "colors = ColorSchemes.glasbey_hv_n256\n",
    "\n",
    "# group data by barcode\n",
    "data_group = DF.groupby(data[.!data.neutral, :], :barcode)\n",
    "# Loop through trajectories\n",
    "for bc in data_group\n",
    "    # Plot trajectory\n",
    "    lines!(\n",
    "        bc.time,\n",
    "        bc.freq .+ 1E-8,\n",
    "        color=(colors[StatsBase.sample(1:length(colors))], 0.15)\n",
    "    )\n",
    "end # for\n",
    "\n",
    "# group neutral barcodes by barcode\n",
    "data_group = DF.groupby(data[data.neutral, :], :barcode)\n",
    "# Loop through trajectories\n",
    "for bc in data_group\n",
    "    # Plot trajectory\n",
    "    lines!(\n",
    "        bc.time,\n",
    "        bc.freq .+ 1E-8,\n",
    "        color=(ColorSchemes.seaborn_colorblind[1], 0.75)\n",
    "    )\n",
    "end # for\n",
    "\n",
    "fig"
   ]
  },
  {
   "attachments": {},
   "cell_type": "markdown",
   "metadata": {},
   "source": [
    "Recall that we named some of the `M3` replicates as `M3_#` to avoid issues with\n",
    "replicates number not matching. At this point, our dataframe has the correct\n",
    "tidy format with the corresponding `T0`. We can therefore change these\n",
    "environments back to the correct number and adjust the number of replicate."
   ]
  },
  {
   "cell_type": "code",
   "execution_count": 28,
   "metadata": {},
   "outputs": [],
   "source": [
    "# Group data by environment and rep\n",
    "df_group = DF.groupby(\n",
    "    df_tidy_rep[occursin.(\"M3_\", df_tidy_rep.env), :], [:env, :rep]\n",
    ")\n",
    "# Extract keys\n",
    "df_keys = collect(keys(df_group))\n",
    "\n",
    "# Find maximum rep for M3\n",
    "m3_max = parse(\n",
    "    Int64, maximum(df_tidy_rep[df_tidy_rep.env .== \"M3\", :rep])[end]\n",
    ")\n",
    "\n",
    "# Loop through groups\n",
    "for (i, group) in enumerate(df_group)\n",
    "    # Extract env and rep\n",
    "    env, rep = [df_keys[i]...]\n",
    "\n",
    "    # Find index of rows to be modified\n",
    "    idx = (df_tidy_rep.env .== env) .& (df_tidy_rep.rep .== rep)\n",
    "\n",
    "    # Modify rep\n",
    "    df_tidy_rep[idx, :rep] .= \"R$(m3_max + i)\"\n",
    "    # Modfiy env\n",
    "    df_tidy_rep[idx, :env] .= \"M3\"\n",
    "end # for"
   ]
  },
  {
   "attachments": {},
   "cell_type": "markdown",
   "metadata": {},
   "source": [
    "Let's finally make sure the number of elements per time point remains the same.\n",
    "Note: The reason I do this multiple times as an internal control is because it\n",
    "was an issue to get it to work."
   ]
  },
  {
   "cell_type": "code",
   "execution_count": 29,
   "metadata": {},
   "outputs": [
    {
     "data": {
      "text/plain": [
       "2-element Vector{Any}:\n",
       " [550, 550, 550, 550, 550]\n",
       " [550, 550, 550, 550]"
      ]
     },
     "metadata": {},
     "output_type": "display_data"
    }
   ],
   "source": [
    "# Group data by environment and replicate\n",
    "df_group = DF.groupby(df_tidy_rep, [:env, :rep])\n",
    "\n",
    "# Initialize list to save lengths\n",
    "len_list = []\n",
    "\n",
    "# Loop through groups\n",
    "for data in df_group\n",
    "    # group data by time\n",
    "    data_group = DF.groupby(data, :time)\n",
    "\n",
    "    # Append length to list\n",
    "    push!(len_list, [size(x, 1) for x in data_group])\n",
    "end # group\n",
    "\n",
    "unique(len_list)"
   ]
  },
  {
   "attachments": {},
   "cell_type": "markdown",
   "metadata": {},
   "source": [
    "Let's make sure that the only environment left with `M3` is \"pure\" `M3`."
   ]
  },
  {
   "cell_type": "code",
   "execution_count": 30,
   "metadata": {},
   "outputs": [
    {
     "data": {
      "text/plain": [
       "1-element Vector{String}:\n",
       " \"M3\""
      ]
     },
     "metadata": {},
     "output_type": "display_data"
    }
   ],
   "source": [
    "# List environments with M3 on the name\n",
    "unique(df_tidy_rep[occursin.(\"M3\", df_tidy_rep.env), :env])"
   ]
  },
  {
   "cell_type": "markdown",
   "metadata": {},
   "source": [
    "Let's look at the replicates associated with M3."
   ]
  },
  {
   "cell_type": "code",
   "execution_count": 31,
   "metadata": {},
   "outputs": [
    {
     "data": {
      "text/plain": [
       "25-element Vector{String}:\n",
       " \"R5\"\n",
       " \"R6\"\n",
       " \"R7\"\n",
       " \"R8\"\n",
       " \"R9\"\n",
       " \"R10\"\n",
       " \"R11\"\n",
       " \"R12\"\n",
       " \"R13\"\n",
       " \"R14\"\n",
       " ⋮\n",
       " \"R21\"\n",
       " \"R22\"\n",
       " \"R23\"\n",
       " \"R24\"\n",
       " \"R25\"\n",
       " \"R1\"\n",
       " \"R2\"\n",
       " \"R3\"\n",
       " \"R4\""
      ]
     },
     "metadata": {},
     "output_type": "display_data"
    }
   ],
   "source": [
    "# List replicate numbers associated with M3 environment\n",
    "unique(df_tidy_rep[occursin.(\"M3\", df_tidy_rep.env), :rep])"
   ]
  },
  {
   "attachments": {},
   "cell_type": "markdown",
   "metadata": {},
   "source": [
    "One more piece of information provided by the authors are the\n",
    "`condition_categories`. These categories group several conditions into a larger\n",
    "group such as `glucose`, `salt`, and `drugs`. Here is the list provided by the\n",
    "authors."
   ]
  },
  {
   "cell_type": "code",
   "execution_count": 32,
   "metadata": {},
   "outputs": [],
   "source": [
    "condition_categories = Dict(\n",
    "    \"19\" => \"M3\",\n",
    "    \"M3_Batch_3\" => \"M3\",\n",
    "    \"M3_Batch_6\" => \"M3\",\n",
    "    \"M3_Batch_13\" => \"M3\",\n",
    "    \"M3_Batch_18\" => \"M3\",\n",
    "    \"M3_Batch_20\" => \"M3\",\n",
    "    \"M3_Batch_21\" => \"M3\",\n",
    "    \"M3_Batch_23\" => \"M3\",\n",
    "    \"M3\" => \"M3\", \"Baffle\" => \"glucose\",\n",
    "    \"1.4%\" => \"glucose\",\n",
    "    \"1.5%\" => \"glucose\",\n",
    "    \"1.6%\" => \"glucose\",\n",
    "    \"1.7%\" => \"glucose\",\n",
    "    \"1.8%\" => \"glucose\",\n",
    "    \"2.5%\" => \"glucose\",\n",
    "    \"1.4%Gluc\" => \"glucose\",\n",
    "    \"1.8%Gluc\" => \"glucose\", \"0.2MNaCl\" => \"salt\",\n",
    "    \"0.5MNaCl\" => \"salt\",\n",
    "    \"0.2MKCl\" => \"salt\",\n",
    "    \"0.5MKCl\" => \"salt\", \"8.5uMGdA\" => \"drugs\",\n",
    "    \"17uMGdA\" => \"drugs\",\n",
    "    \"2ugFlu\" => \"drugs\",\n",
    "    \"0.5ugFlu\" => \"drugs\",\n",
    "    \"DMSO\" => \"drugs\",\n",
    "    \"Geldanamycin8.5uM\" => \"drugs\",\n",
    "    \"Ben0.4\" => \"drugs\",\n",
    "    \"Ben2\" => \"drugs\",\n",
    "    \"Ben10\" => \"drugs\", \"1%Raf\" => \"carbons\",\n",
    "    \"0.5%Raf\" => \"carbons\",\n",
    "    \"1%Gly\" => \"carbons\",\n",
    "    \"1%EtOH\" => \"carbons\",\n",
    "    \"SucRaf\" => \"carbons\", \"Ferm_44hr_Transfer\" => \"ferm\",\n",
    "    \"Ferm_40hr_Transfer\" => \"ferm\",\n",
    "    \"Ferm_54hr_Transfer\" => \"ferm\",\n",
    "    \"Ferm_50hr_Transfer\" => \"ferm\", \"Resp_24hr_Transfer\" => \"resp/stat\",\n",
    "    \"Resp_3Day_Transfer\" => \"resp/stat\",\n",
    "    \"Resp_4Day_Transfer\" => \"resp/stat\",\n",
    "    \"Resp_5Day_Transfer\" => \"resp/stat\",\n",
    "    \"Resp_6Day_Transfer\" => \"resp/stat\",\n",
    "    \"Resp_7Day_Transfer\" => \"resp/stat\",\n",
    ");"
   ]
  },
  {
   "attachments": {},
   "cell_type": "markdown",
   "metadata": {},
   "source": [
    "Let's map the enviroments to these categories and add a column."
   ]
  },
  {
   "cell_type": "code",
   "execution_count": 33,
   "metadata": {},
   "outputs": [
    {
     "data": {
      "text/html": [
       "<div><div style = \"float: left;\"><span>5×15 DataFrame</span></div><div style = \"clear: both;\"></div></div><div class = \"data-frame\" style = \"overflow-x: scroll;\"><table class = \"data-frame\" style = \"margin-bottom: 6px;\"><thead><tr class = \"header\"><th class = \"rowNumber\" style = \"font-weight: bold; text-align: right;\">Row</th><th style = \"text-align: left;\">barcode</th><th style = \"text-align: left;\">class</th><th style = \"text-align: left;\">gene</th><th style = \"text-align: left;\">ploidy</th><th style = \"text-align: left;\">type</th><th style = \"text-align: left;\">name</th><th style = \"text-align: left;\">count</th><th style = \"text-align: left;\">rep</th><th style = \"text-align: left;\">timepoint</th><th style = \"text-align: left;\">time</th><th style = \"text-align: left;\">env</th><th style = \"text-align: left;\">neutral</th><th style = \"text-align: left;\">count_sum</th><th style = \"text-align: left;\">freq</th><th style = \"text-align: left;\">category</th></tr><tr class = \"subheader headerLastRow\"><th class = \"rowNumber\" style = \"font-weight: bold; text-align: right;\"></th><th title = \"Int64\" style = \"text-align: left;\">Int64</th><th title = \"InlineStrings.String31\" style = \"text-align: left;\">String31</th><th title = \"InlineStrings.String31\" style = \"text-align: left;\">String31</th><th title = \"InlineStrings.String15\" style = \"text-align: left;\">String15</th><th title = \"InlineStrings.String31\" style = \"text-align: left;\">String31</th><th title = \"String\" style = \"text-align: left;\">String</th><th title = \"Int64\" style = \"text-align: left;\">Int64</th><th title = \"String\" style = \"text-align: left;\">String</th><th title = \"String\" style = \"text-align: left;\">String</th><th title = \"Int64\" style = \"text-align: left;\">Int64</th><th title = \"String\" style = \"text-align: left;\">String</th><th title = \"Bool\" style = \"text-align: left;\">Bool</th><th title = \"Union{Missing, Int64}\" style = \"text-align: left;\">Int64?</th><th title = \"Float64\" style = \"text-align: left;\">Float64</th><th title = \"String\" style = \"text-align: left;\">String</th></tr></thead><tbody><tr><td class = \"rowNumber\" style = \"font-weight: bold; text-align: right;\">1</td><td style = \"text-align: right;\">53</td><td style = \"text-align: left;\">Diploid</td><td style = \"text-align: left;\">Diploid</td><td style = \"text-align: left;\">Diploid</td><td style = \"text-align: left;\">Diploid</td><td style = \"text-align: left;\">1.4%-T0</td><td style = \"text-align: right;\">22</td><td style = \"text-align: left;\">R1</td><td style = \"text-align: left;\">T0</td><td style = \"text-align: right;\">0</td><td style = \"text-align: left;\">1.4%</td><td style = \"text-align: right;\">false</td><td style = \"text-align: right;\">65807</td><td style = \"text-align: right;\">0.000334311</td><td style = \"text-align: left;\">glucose</td></tr><tr><td class = \"rowNumber\" style = \"font-weight: bold; text-align: right;\">2</td><td style = \"text-align: right;\">151</td><td style = \"text-align: left;\">PKA</td><td style = \"text-align: left;\">IRA1</td><td style = \"text-align: left;\">Haploid</td><td style = \"text-align: left;\">stop_gained</td><td style = \"text-align: left;\">1.4%-T0</td><td style = \"text-align: right;\">629</td><td style = \"text-align: left;\">R1</td><td style = \"text-align: left;\">T0</td><td style = \"text-align: right;\">0</td><td style = \"text-align: left;\">1.4%</td><td style = \"text-align: right;\">false</td><td style = \"text-align: right;\">65807</td><td style = \"text-align: right;\">0.00955825</td><td style = \"text-align: left;\">glucose</td></tr><tr><td class = \"rowNumber\" style = \"font-weight: bold; text-align: right;\">3</td><td style = \"text-align: right;\">262</td><td style = \"text-align: left;\">NotSequenced</td><td style = \"text-align: left;\">NotSequenced</td><td style = \"text-align: left;\">NotSequenced</td><td style = \"text-align: left;\">NotSequenced</td><td style = \"text-align: left;\">1.4%-T0</td><td style = \"text-align: right;\">118</td><td style = \"text-align: left;\">R1</td><td style = \"text-align: left;\">T0</td><td style = \"text-align: right;\">0</td><td style = \"text-align: left;\">1.4%</td><td style = \"text-align: right;\">false</td><td style = \"text-align: right;\">65807</td><td style = \"text-align: right;\">0.00179312</td><td style = \"text-align: left;\">glucose</td></tr><tr><td class = \"rowNumber\" style = \"font-weight: bold; text-align: right;\">4</td><td style = \"text-align: right;\">273</td><td style = \"text-align: left;\">PKA</td><td style = \"text-align: left;\">IRA1</td><td style = \"text-align: left;\">Haploid</td><td style = \"text-align: left;\">frameshift_variant</td><td style = \"text-align: left;\">1.4%-T0</td><td style = \"text-align: right;\">525</td><td style = \"text-align: left;\">R1</td><td style = \"text-align: left;\">T0</td><td style = \"text-align: right;\">0</td><td style = \"text-align: left;\">1.4%</td><td style = \"text-align: right;\">false</td><td style = \"text-align: right;\">65807</td><td style = \"text-align: right;\">0.00797787</td><td style = \"text-align: left;\">glucose</td></tr><tr><td class = \"rowNumber\" style = \"font-weight: bold; text-align: right;\">5</td><td style = \"text-align: right;\">323</td><td style = \"text-align: left;\">NotSequenced</td><td style = \"text-align: left;\">NotSequenced</td><td style = \"text-align: left;\">NotSequenced</td><td style = \"text-align: left;\">NotSequenced</td><td style = \"text-align: left;\">1.4%-T0</td><td style = \"text-align: right;\">357</td><td style = \"text-align: left;\">R1</td><td style = \"text-align: left;\">T0</td><td style = \"text-align: right;\">0</td><td style = \"text-align: left;\">1.4%</td><td style = \"text-align: right;\">false</td><td style = \"text-align: right;\">65807</td><td style = \"text-align: right;\">0.00542495</td><td style = \"text-align: left;\">glucose</td></tr></tbody></table></div>"
      ],
      "text/latex": [
       "\\begin{tabular}{r|ccccccc}\n",
       "\t& barcode & class & gene & ploidy & type & name & \\\\\n",
       "\t\\hline\n",
       "\t& Int64 & String31 & String31 & String15 & String31 & String & \\\\\n",
       "\t\\hline\n",
       "\t1 & 53 & Diploid & Diploid & Diploid & Diploid & 1.4\\%-T0 & $\\dots$ \\\\\n",
       "\t2 & 151 & PKA & IRA1 & Haploid & stop\\_gained & 1.4\\%-T0 & $\\dots$ \\\\\n",
       "\t3 & 262 & NotSequenced & NotSequenced & NotSequenced & NotSequenced & 1.4\\%-T0 & $\\dots$ \\\\\n",
       "\t4 & 273 & PKA & IRA1 & Haploid & frameshift\\_variant & 1.4\\%-T0 & $\\dots$ \\\\\n",
       "\t5 & 323 & NotSequenced & NotSequenced & NotSequenced & NotSequenced & 1.4\\%-T0 & $\\dots$ \\\\\n",
       "\\end{tabular}\n"
      ],
      "text/plain": [
       "\u001b[1m5×15 DataFrame\u001b[0m\n",
       "\u001b[1m Row \u001b[0m│\u001b[1m barcode \u001b[0m\u001b[1m class        \u001b[0m\u001b[1m gene         \u001b[0m\u001b[1m ploidy       \u001b[0m\u001b[1m type               \u001b[0m\u001b[1m \u001b[0m ⋯\n",
       "     │\u001b[90m Int64   \u001b[0m\u001b[90m String31     \u001b[0m\u001b[90m String31     \u001b[0m\u001b[90m String15     \u001b[0m\u001b[90m String31           \u001b[0m\u001b[90m \u001b[0m ⋯\n",
       "─────┼──────────────────────────────────────────────────────────────────────────\n",
       "   1 │      53  Diploid       Diploid       Diploid       Diploid              ⋯\n",
       "   2 │     151  PKA           IRA1          Haploid       stop_gained\n",
       "   3 │     262  NotSequenced  NotSequenced  NotSequenced  NotSequenced\n",
       "   4 │     273  PKA           IRA1          Haploid       frameshift_variant\n",
       "   5 │     323  NotSequenced  NotSequenced  NotSequenced  NotSequenced         ⋯\n",
       "\u001b[36m                                                              10 columns omitted\u001b[0m"
      ]
     },
     "metadata": {},
     "output_type": "display_data"
    }
   ],
   "source": [
    "# Add category column\n",
    "df_tidy_rep[!, :category] = [\n",
    "    condition_categories[x] for x in df_tidy_rep.env\n",
    "]\n",
    "\n",
    "first(df_tidy_rep[:, 2:end], 5)"
   ]
  },
  {
   "cell_type": "code",
   "execution_count": 34,
   "metadata": {},
   "outputs": [
    {
     "data": {
      "text/plain": [
       "2-element Vector{Any}:\n",
       " [550, 550, 550, 550, 550]\n",
       " [550, 550, 550, 550]"
      ]
     },
     "metadata": {},
     "output_type": "display_data"
    }
   ],
   "source": [
    "# Group data by environment and replicate\n",
    "df_group = DF.groupby(df_tidy_rep, [:env, :rep])\n",
    "\n",
    "# Initialize list to save lengths\n",
    "len_list = []\n",
    "\n",
    "# Loop through groups\n",
    "for data in df_group\n",
    "    # group data by time\n",
    "    data_group = DF.groupby(data, :time)\n",
    "\n",
    "    # Append length to list\n",
    "    push!(len_list, [size(x, 1) for x in data_group])\n",
    "end # group\n",
    "\n",
    "unique(len_list)"
   ]
  },
  {
   "cell_type": "markdown",
   "metadata": {},
   "source": [
    "Done! Let's save the dataframe into a `csv` file."
   ]
  },
  {
   "cell_type": "code",
   "execution_count": 35,
   "metadata": {},
   "outputs": [
    {
     "data": {
      "text/plain": [
       "\"/Users/mrazo/git/bayesian_fitness/data/kinsler_2020/tidy_counts.csv\""
      ]
     },
     "metadata": {},
     "output_type": "display_data"
    }
   ],
   "source": [
    "CSV.write(\"$(git_root())/data/kinsler_2020/tidy_counts.csv\", df_tidy_rep)"
   ]
  }
 ],
 "metadata": {
  "kernelspec": {
   "display_name": "Julia 1.8.5",
   "language": "julia",
   "name": "julia-1.8"
  },
  "language_info": {
   "file_extension": ".jl",
   "mimetype": "application/julia",
   "name": "julia",
   "version": "1.8.5"
  },
  "orig_nbformat": 4
 },
 "nbformat": 4,
 "nbformat_minor": 2
}
