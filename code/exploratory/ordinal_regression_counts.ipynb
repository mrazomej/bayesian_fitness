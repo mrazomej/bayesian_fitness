{
 "cells": [
  {
   "cell_type": "markdown",
   "metadata": {},
   "source": [
    "(c) 2023 Manuel Razo. This work is licensed under a [Creative Commons\n",
    "Attribution License CC-BY 4.0](https://creativecommons.org/licenses/by/4.0/).\n",
    "All code contained herein is licensed under an [MIT\n",
    "license](https://opensource.org/licenses/MIT)."
   ]
  },
  {
   "cell_type": "code",
   "execution_count": 1,
   "metadata": {},
   "outputs": [],
   "source": [
    "# Load project package\n",
    "@load_pkg BayesFitness\n",
    "\n",
    "import Revise\n",
    "import Suppressor\n",
    "# Import project package\n",
    "import BayesFitness\n",
    "# Import library to list files\n",
    "import Glob\n",
    "# Import package to save chains into memory\n",
    "import BSON\n",
    "\n",
    "# Import package to handle DataFrames\n",
    "import DataFrames as DF\n",
    "import CSV\n",
    "import XLSX\n",
    "\n",
    "# Import basic statistical functions\n",
    "import StatsBase\n",
    "import Random\n",
    "\n",
    "# Import basic math\n",
    "import LinearAlgebra\n",
    "\n",
    "# Import libraries relevant for MCMC\n",
    "import Turing\n",
    "import MCMCChains\n",
    "\n",
    "# Load CairoMakie for plotting\n",
    "using CairoMakie\n",
    "import ColorSchemes\n",
    "import Makie\n",
    "# Activate backend\n",
    "CairoMakie.activate!()\n",
    "\n",
    "# Set PBoC Plotting style\n",
    "BayesFitness.viz.pboc_makie!()"
   ]
  },
  {
   "attachments": {},
   "cell_type": "markdown",
   "metadata": {},
   "source": [
    "# Bayesian Ordinal Regression"
   ]
  },
  {
   "attachments": {},
   "cell_type": "markdown",
   "metadata": {},
   "source": [
    "In this notebook, I will explore the use of ordinal regression as a way to\n",
    "quantify the uncertainty in the sequencing counts for each mutant. This notebook\n",
    "heavily relies on Michael Betancourt's excellent\n",
    "[tutorial](https://betanalpha.github.io/assets/case_studies/ordinal_regression.html)\n",
    "on a principled way to perform this regression.\n",
    "\n",
    "I will reproduce his exercises to make sure I understand the methodology and I\n",
    "can implement them in `Turing.jl` rather than `Stan`."
   ]
  },
  {
   "attachments": {},
   "cell_type": "markdown",
   "metadata": {},
   "source": [
    "## Rough Cut"
   ]
  },
  {
   "attachments": {},
   "cell_type": "markdown",
   "metadata": {},
   "source": [
    "Let us begin with the simplest possible model."
   ]
  }
 ],
 "metadata": {
  "kernelspec": {
   "display_name": "Julia 1.8.5",
   "language": "julia",
   "name": "julia-1.8"
  },
  "language_info": {
   "file_extension": ".jl",
   "mimetype": "application/julia",
   "name": "julia",
   "version": "1.8.5"
  },
  "orig_nbformat": 4
 },
 "nbformat": 4,
 "nbformat_minor": 2
}
